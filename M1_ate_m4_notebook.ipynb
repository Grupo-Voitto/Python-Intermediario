{
  "nbformat": 4,
  "nbformat_minor": 0,
  "metadata": {
    "colab": {
      "name": "M1_ate_m4_notebook",
      "provenance": [],
      "collapsed_sections": [
        "p2DgtnWbREgq",
        "povnKTqMTp9Z",
        "6l3YwD_NRj8_",
        "9RKgH30pTODM",
        "6_YKEaHbTmTi",
        "pC9KJiNTT_EH",
        "WpapgN7OUgz6",
        "uxzXgiXGUnu9",
        "omyBek1zUue8",
        "uFAli4EvU2Tr",
        "VWVngFrZVNip",
        "IIy7YwVpVTvd",
        "BTv-XANeWA71",
        "EADAfqltWI6i",
        "ZAQqFwzeWOdH",
        "WiR2X5fuWUXT",
        "0Y5L8Hw1WXdg",
        "9FXtXMAHXewY",
        "xojsrzyEXm9P",
        "mshoKi3NXwd9",
        "s31_V2YGX11A",
        "RbB-BYrSYiEf",
        "eIcHQjQ1YncC",
        "nSDubz4cYvXW",
        "KGT9L0ZmY0gz",
        "yxnr6fJKY5NK",
        "dNfJKH1eY_kI",
        "apUgk1mfVyBq",
        "ck8gVmkVWr-o",
        "b7Qap9CM4Yut"
      ]
    },
    "kernelspec": {
      "name": "python3",
      "display_name": "Python 3"
    }
  },
  "cells": [
    {
      "cell_type": "markdown",
      "metadata": {
        "id": "SC4Y0yGRMeN4",
        "colab_type": "text"
      },
      "source": [
        "<h1><center>Python Intermediário para Análise de Dados</center></h1>"
      ]
    },
    {
      "cell_type": "markdown",
      "metadata": {
        "id": "nR-UJRHnPR-p",
        "colab_type": "text"
      },
      "source": [
        "![](https://drive.google.com/uc?export=view&id=1qCH-jlzKK1aFaTBpiTHN4qxTFrCVs720) \n",
        "\n",
        "\n"
      ]
    },
    {
      "cell_type": "markdown",
      "metadata": {
        "id": "3EoEWhEiM6US",
        "colab_type": "text"
      },
      "source": [
        "<center>\n",
        "<h6>\n",
        "O objetivo desse material é mostrar como o que aprendemos na teoria pode ser aplicado na prática. Ao longo do código teremos algumas explicações que, junto com as video aulas e o material complementar serão de grande ajuda na caminhada para se tornar um cientista de dados. Aproveite!\n",
        "<h6>\n",
        "<center>"
      ]
    },
    {
      "cell_type": "markdown",
      "metadata": {
        "id": "p2DgtnWbREgq",
        "colab_type": "text"
      },
      "source": [
        "## Módulo 1: Extensões sobre funções"
      ]
    },
    {
      "cell_type": "markdown",
      "metadata": {
        "id": "povnKTqMTp9Z",
        "colab_type": "text"
      },
      "source": [
        "### Lição 1: Parâmetros múltiplos e dinâmicos"
      ]
    },
    {
      "cell_type": "markdown",
      "metadata": {
        "id": "6l3YwD_NRj8_",
        "colab_type": "text"
      },
      "source": [
        "#### Parte 1: Parâmentros *args"
      ]
    },
    {
      "cell_type": "markdown",
      "metadata": {
        "id": "KT7RkPs9bREg",
        "colab_type": "text"
      },
      "source": [
        "Assim como vimos, o __*args__ é uma sintaxe que permite passarmos uma sequência de parâmetros de comprimento variável."
      ]
    },
    {
      "cell_type": "code",
      "metadata": {
        "id": "dH4OiA81K6ZX",
        "colab_type": "code",
        "colab": {}
      },
      "source": [
        "def estudante(nome, idade, *args):\n",
        "  print(\"nome:\", nome)\n",
        "  print(\"idade\", idade)\n",
        "  print(args, type(args))"
      ],
      "execution_count": null,
      "outputs": []
    },
    {
      "cell_type": "code",
      "metadata": {
        "id": "P24ofZN0MayV",
        "colab_type": "code",
        "colab": {
          "base_uri": "https://localhost:8080/"
        },
        "outputId": "357ebd05-d60f-4909-8848-dab2b624047c"
      },
      "source": [
        "estudante(\"João\", \"50\")"
      ],
      "execution_count": null,
      "outputs": [
        {
          "output_type": "stream",
          "text": [
            "nome: João\n",
            "idade 50\n",
            "() <class 'tuple'>\n"
          ],
          "name": "stdout"
        }
      ]
    },
    {
      "cell_type": "code",
      "metadata": {
        "id": "n0WnplrlbxKE",
        "colab_type": "code",
        "colab": {
          "base_uri": "https://localhost:8080/"
        },
        "outputId": "0419f296-7349-4840-d4da-aa8b55c9e274"
      },
      "source": [
        "estudante(\"João\", \"50\", 20, 30)"
      ],
      "execution_count": null,
      "outputs": [
        {
          "output_type": "stream",
          "text": [
            "nome: João\n",
            "idade 50\n",
            "(20, 30) <class 'tuple'>\n"
          ],
          "name": "stdout"
        }
      ]
    },
    {
      "cell_type": "code",
      "metadata": {
        "id": "gMFsNsOjb11P",
        "colab_type": "code",
        "colab": {
          "base_uri": "https://localhost:8080/"
        },
        "outputId": "7098c9eb-076a-4222-c50c-33d619a5c8ff"
      },
      "source": [
        "estudante(\"João\", \"50\", [20, 30], 10, \"ola\")"
      ],
      "execution_count": null,
      "outputs": [
        {
          "output_type": "stream",
          "text": [
            "nome: João\n",
            "idade 50\n",
            "([20, 30], 10, 'ola') <class 'tuple'>\n"
          ],
          "name": "stdout"
        }
      ]
    },
    {
      "cell_type": "markdown",
      "metadata": {
        "id": "9RKgH30pTODM",
        "colab_type": "text"
      },
      "source": [
        "#### Parte 2: Parâmetro **kwargs"
      ]
    },
    {
      "cell_type": "markdown",
      "metadata": {
        "id": "EAaPQZcEcXw3",
        "colab_type": "text"
      },
      "source": [
        "A outra sintaxe vista foi o __**kwargs__, usada para passar uma sequencia de parâmetros do tipo 'chave: valor' de comprimento variável."
      ]
    },
    {
      "cell_type": "code",
      "metadata": {
        "id": "SEpjHr1ZTVNb",
        "colab_type": "code",
        "colab": {}
      },
      "source": [
        "def estudante(nome, idade, **kwargs):\n",
        "  print(\"nome:\", nome)\n",
        "  print(\"idade\", idade)\n",
        "  print(kwargs, type(kwargs))"
      ],
      "execution_count": null,
      "outputs": []
    },
    {
      "cell_type": "code",
      "metadata": {
        "id": "W9ZxgU65Tlr4",
        "colab_type": "code",
        "colab": {
          "base_uri": "https://localhost:8080/"
        },
        "outputId": "47cc3b16-2eb8-40bd-a164-5bf8c5b2b576"
      },
      "source": [
        "estudante(\"Joao\", 22, matematica=10, historia=7, portugues=9, ingles=8, fisica = 10)"
      ],
      "execution_count": null,
      "outputs": [
        {
          "output_type": "stream",
          "text": [
            "nome: Joao\n",
            "idade 22\n",
            "{'matematica': 10, 'historia': 7, 'portugues': 9, 'ingles': 8, 'fisica': 10} <class 'dict'>\n"
          ],
          "name": "stdout"
        }
      ]
    },
    {
      "cell_type": "markdown",
      "metadata": {
        "id": "6_YKEaHbTmTi",
        "colab_type": "text"
      },
      "source": [
        "### Lição 2: Funções como objetos de primeira classe"
      ]
    },
    {
      "cell_type": "markdown",
      "metadata": {
        "id": "Imb4AAEueUNZ",
        "colab_type": "text"
      },
      "source": [
        "Quando dizemos que funções são objetos de primeira classe queremos dizer que elas se comportam assim como qualquer outro tipo nativo da linguagem. Isso significa que podemos passar funções como parâmetros de outras funções, podemos armazenar funções em variáveis, e muito mais!"
      ]
    },
    {
      "cell_type": "code",
      "metadata": {
        "id": "zKXlOWWKT8v7",
        "colab_type": "code",
        "colab": {}
      },
      "source": [
        "def funcao_def():\n",
        "  print(\"minha funcao def\")\n",
        "\n",
        "lamb = lambda x: x*2\n",
        "\n",
        "lista_heterogenea = [funcao_def, lamb, lambda x: 3*x]"
      ],
      "execution_count": null,
      "outputs": []
    },
    {
      "cell_type": "code",
      "metadata": {
        "id": "DZfEat0TT-P9",
        "colab_type": "code",
        "colab": {
          "base_uri": "https://localhost:8080/"
        },
        "outputId": "8628bdbc-ad1e-4174-9530-edb60e5bcb7a"
      },
      "source": [
        "lista_heterogenea"
      ],
      "execution_count": null,
      "outputs": [
        {
          "output_type": "execute_result",
          "data": {
            "text/plain": [
              "[<function __main__.funcao_def>,\n",
              " <function __main__.<lambda>>,\n",
              " <function __main__.<lambda>>]"
            ]
          },
          "metadata": {
            "tags": []
          },
          "execution_count": 8
        }
      ]
    },
    {
      "cell_type": "markdown",
      "metadata": {
        "id": "z51YzM9bPryQ",
        "colab_type": "text"
      },
      "source": [
        "O mais interessante das funções serem tratadas como qualquer outro tipo de objeto é a possibilidade de passarmos funções como parâmetros para outras funções "
      ]
    },
    {
      "cell_type": "code",
      "metadata": {
        "id": "8gZafQE_Qdrg",
        "colab_type": "code",
        "colab": {}
      },
      "source": [
        "#colocar exemplo dessa situacao aqui"
      ],
      "execution_count": null,
      "outputs": []
    },
    {
      "cell_type": "markdown",
      "metadata": {
        "id": "pC9KJiNTT_EH",
        "colab_type": "text"
      },
      "source": [
        "### Lição 3: Funções de ordem superior"
      ]
    },
    {
      "cell_type": "markdown",
      "metadata": {
        "id": "To4iryoqQ9Ys",
        "colab_type": "text"
      },
      "source": [
        "Existem diversas funções prontas que recebem uma outra função como parâmetro, dentre elas temos **map()**, **filter()** e **reduce()**"
      ]
    },
    {
      "cell_type": "markdown",
      "metadata": {
        "id": "WpapgN7OUgz6",
        "colab_type": "text"
      },
      "source": [
        "#### Parte 1: Função map()"
      ]
    },
    {
      "cell_type": "markdown",
      "metadata": {
        "id": "rkjBJP_QSt27",
        "colab_type": "text"
      },
      "source": [
        "Vimos qual a ideia por trás do map, mas como ele funciona na prática?"
      ]
    },
    {
      "cell_type": "code",
      "metadata": {
        "id": "G6kJJEw9UFZs",
        "colab_type": "code",
        "colab": {}
      },
      "source": [
        "map?"
      ],
      "execution_count": null,
      "outputs": []
    },
    {
      "cell_type": "markdown",
      "metadata": {
        "id": "_YYHmGhvTQbt",
        "colab_type": "text"
      },
      "source": [
        "Usando uma função comum, nós temos:"
      ]
    },
    {
      "cell_type": "code",
      "metadata": {
        "id": "fagZFmOiUnTC",
        "colab_type": "code",
        "colab": {
          "base_uri": "https://localhost:8080/"
        },
        "outputId": "7b5d1aa8-47eb-4e82-db93-85f0b2796af0"
      },
      "source": [
        "l = range(1, 6)\n",
        "print(l)\n",
        "list(l)"
      ],
      "execution_count": null,
      "outputs": [
        {
          "output_type": "stream",
          "text": [
            "range(1, 6)\n"
          ],
          "name": "stdout"
        },
        {
          "output_type": "execute_result",
          "data": {
            "text/plain": [
              "[1, 2, 3, 4, 5]"
            ]
          },
          "metadata": {
            "tags": []
          },
          "execution_count": 11
        }
      ]
    },
    {
      "cell_type": "code",
      "metadata": {
        "id": "BTVC_DPyTLtL",
        "colab_type": "code",
        "colab": {}
      },
      "source": [
        "def quadrados(lista):\n",
        "  res_lista = []\n",
        "  for l in lista:\n",
        "    res_lista.append(l**2)\n",
        "  return res_lista"
      ],
      "execution_count": null,
      "outputs": []
    },
    {
      "cell_type": "code",
      "metadata": {
        "id": "WKF33SE2TlWy",
        "colab_type": "code",
        "colab": {
          "base_uri": "https://localhost:8080/"
        },
        "outputId": "1d78bcd9-e486-416a-8bae-159d35c08425"
      },
      "source": [
        "quadrados(l)"
      ],
      "execution_count": null,
      "outputs": [
        {
          "output_type": "execute_result",
          "data": {
            "text/plain": [
              "[1, 4, 9, 16, 25]"
            ]
          },
          "metadata": {
            "tags": []
          },
          "execution_count": 13
        }
      ]
    },
    {
      "cell_type": "markdown",
      "metadata": {
        "id": "HQ7F6t5KTpK8",
        "colab_type": "text"
      },
      "source": [
        "Usando o map:"
      ]
    },
    {
      "cell_type": "code",
      "metadata": {
        "id": "jmz920urT3R0",
        "colab_type": "code",
        "colab": {
          "base_uri": "https://localhost:8080/"
        },
        "outputId": "18c5a062-a70b-42e2-de3c-d7bf7c0f0ed1"
      },
      "source": [
        "m = map(lambda x: x**2, l)\n",
        "\n",
        "print(m)  \n",
        "print(type(m))\n",
        "list (m)  "
      ],
      "execution_count": null,
      "outputs": [
        {
          "output_type": "stream",
          "text": [
            "<map object at 0x7fc1789825c0>\n",
            "<class 'map'>\n"
          ],
          "name": "stdout"
        },
        {
          "output_type": "execute_result",
          "data": {
            "text/plain": [
              "[1, 4, 9, 16, 25]"
            ]
          },
          "metadata": {
            "tags": []
          },
          "execution_count": 14
        }
      ]
    },
    {
      "cell_type": "markdown",
      "metadata": {
        "id": "gVLzb4_BUC5g",
        "colab_type": "text"
      },
      "source": [
        "Observe que o Python reconhece a variável **m** de fato como um objeto map. Além disso, temos a possibilidade de converter o resultado desse objeto m em uma lista"
      ]
    },
    {
      "cell_type": "markdown",
      "metadata": {
        "id": "T92kDg5RVNll",
        "colab_type": "text"
      },
      "source": [
        "Como o objeto que o map retorna é iterável, podemos percorre-lo com um loop"
      ]
    },
    {
      "cell_type": "code",
      "metadata": {
        "id": "6lmGjqv1YBCf",
        "colab_type": "code",
        "colab": {
          "base_uri": "https://localhost:8080/"
        },
        "outputId": "0ac8de6b-3f9c-47e4-ef99-9fe9da935eb6"
      },
      "source": [
        "for i in map(lambda x: x**2, l):\n",
        "  print(i)"
      ],
      "execution_count": null,
      "outputs": [
        {
          "output_type": "stream",
          "text": [
            "1\n",
            "4\n",
            "9\n",
            "16\n",
            "25\n"
          ],
          "name": "stdout"
        }
      ]
    },
    {
      "cell_type": "markdown",
      "metadata": {
        "id": "PpiPAAeDYQpd",
        "colab_type": "text"
      },
      "source": [
        "Outra maneira interessante de usar o map é multiplicar uma lista por um valor especifico."
      ]
    },
    {
      "cell_type": "code",
      "metadata": {
        "id": "PJnIwBwbYA0p",
        "colab_type": "code",
        "colab": {
          "base_uri": "https://localhost:8080/"
        },
        "outputId": "d2223cca-5f9c-404f-89e3-450a1505622c"
      },
      "source": [
        "l = [1, 2, 4, 5]\n",
        "esc = 2\n",
        "\n",
        "print(len(l))\n",
        "list(map(lambda x, y: x * y, l, [esc]*len(l)))"
      ],
      "execution_count": null,
      "outputs": [
        {
          "output_type": "stream",
          "text": [
            "4\n"
          ],
          "name": "stdout"
        },
        {
          "output_type": "execute_result",
          "data": {
            "text/plain": [
              "[2, 4, 8, 10]"
            ]
          },
          "metadata": {
            "tags": []
          },
          "execution_count": 16
        }
      ]
    },
    {
      "cell_type": "markdown",
      "metadata": {
        "id": "uxzXgiXGUnu9",
        "colab_type": "text"
      },
      "source": [
        "#### Parte 2: Função filter()"
      ]
    },
    {
      "cell_type": "markdown",
      "metadata": {
        "id": "nauLEoU9U1Gv",
        "colab_type": "text"
      },
      "source": [
        "Outra função importante é o **filter()**. Assim como o map, passamos como parâmetro a função que queremos aplicar no(s) iterador(es). "
      ]
    },
    {
      "cell_type": "code",
      "metadata": {
        "id": "jTEfXgafUsDl",
        "colab_type": "code",
        "colab": {}
      },
      "source": [
        "filter?"
      ],
      "execution_count": null,
      "outputs": []
    },
    {
      "cell_type": "markdown",
      "metadata": {
        "id": "l4GDJVO8nwor",
        "colab_type": "text"
      },
      "source": [
        "Como já mostramos, a diferença entre o filter e o map é que no filter retornamos apenas aqueles valores que atendem a condição da função passada. É importante falar que o filter retorna os valores que atendem a condição ao invés de indicar como **True** ou **False**."
      ]
    },
    {
      "cell_type": "code",
      "metadata": {
        "id": "Dq53mAIHUuHR",
        "colab_type": "code",
        "colab": {
          "base_uri": "https://localhost:8080/"
        },
        "outputId": "e657a6c8-adaf-4804-9a99-05f633d9fa36"
      },
      "source": [
        "filter(lambda x: x % 2 == 0, l)\n",
        "list(filter(lambda x: x % 2 == 0, l))"
      ],
      "execution_count": null,
      "outputs": [
        {
          "output_type": "execute_result",
          "data": {
            "text/plain": [
              "[2, 4]"
            ]
          },
          "metadata": {
            "tags": []
          },
          "execution_count": 18
        }
      ]
    },
    {
      "cell_type": "markdown",
      "metadata": {
        "id": "EVl-6lAVoy9X",
        "colab_type": "text"
      },
      "source": [
        "Nos exemplos a seguir temos duas situações: \n",
        "\n"
      ]
    },
    {
      "cell_type": "markdown",
      "metadata": {
        "id": "Gx_4JqsSrBM1",
        "colab_type": "text"
      },
      "source": [
        "1. O uso normal do filter, em que ele retornará apenas os elementos da lista que são maiores que 5;"
      ]
    },
    {
      "cell_type": "code",
      "metadata": {
        "id": "Sh3hXQTWotMm",
        "colab_type": "code",
        "colab": {
          "base_uri": "https://localhost:8080/"
        },
        "outputId": "779e8ac2-8881-4207-9e05-62ca1365aafe"
      },
      "source": [
        "lista = [1, 4, 6, 8, 10, 3, 7]\n",
        "list(filter(lambda x: x>5, lista))"
      ],
      "execution_count": null,
      "outputs": [
        {
          "output_type": "execute_result",
          "data": {
            "text/plain": [
              "[6, 8, 10, 7]"
            ]
          },
          "metadata": {
            "tags": []
          },
          "execution_count": 19
        }
      ]
    },
    {
      "cell_type": "markdown",
      "metadata": {
        "id": "TFoF4sRcq94l",
        "colab_type": "text"
      },
      "source": [
        "2. Uma aplicação diferente do filter, para ele retornar apenas os valores que são menores que 5"
      ]
    },
    {
      "cell_type": "code",
      "metadata": {
        "id": "gUvMxJsTotDz",
        "colab_type": "code",
        "colab": {
          "base_uri": "https://localhost:8080/"
        },
        "outputId": "ee4ab0cd-e6d4-431b-b1fe-76aefbbeea7b"
      },
      "source": [
        "r = filter(lambda x: False if x > 5 else True, lista )\n",
        "print(list(r))"
      ],
      "execution_count": null,
      "outputs": [
        {
          "output_type": "stream",
          "text": [
            "[1, 4, 3]\n"
          ],
          "name": "stdout"
        }
      ]
    },
    {
      "cell_type": "markdown",
      "metadata": {
        "id": "omyBek1zUue8",
        "colab_type": "text"
      },
      "source": [
        "#### Parte 3: Função reduce()"
      ]
    },
    {
      "cell_type": "markdown",
      "metadata": {
        "id": "FbxcO_84s5bm",
        "colab_type": "text"
      },
      "source": [
        "Por último temos a função **reduce()**, que, como vimos, retorna um valor agregado de acordo com a função que passamos como parâmetro."
      ]
    },
    {
      "cell_type": "markdown",
      "metadata": {
        "id": "4eciqkg4uGRW",
        "colab_type": "text"
      },
      "source": [
        "Ao contrário das outras funções o reduce deve ser importado da biblioteca _functools_, já que ela não faz parte das Built-in Functions."
      ]
    },
    {
      "cell_type": "code",
      "metadata": {
        "id": "4rxcTZ5cUzIJ",
        "colab_type": "code",
        "colab": {}
      },
      "source": [
        "from functools import reduce"
      ],
      "execution_count": null,
      "outputs": []
    },
    {
      "cell_type": "code",
      "metadata": {
        "id": "kiXNixZRU0Eu",
        "colab_type": "code",
        "colab": {}
      },
      "source": [
        "reduce?"
      ],
      "execution_count": null,
      "outputs": []
    },
    {
      "cell_type": "code",
      "metadata": {
        "id": "joEudslgUz2s",
        "colab_type": "code",
        "colab": {
          "base_uri": "https://localhost:8080/"
        },
        "outputId": "8d9ff6cc-e3b0-4470-e5b5-ede91f734e39"
      },
      "source": [
        "iterador = range(1, 5)\n",
        "reduce(lambda x,y: x+y, iterador)"
      ],
      "execution_count": null,
      "outputs": [
        {
          "output_type": "execute_result",
          "data": {
            "text/plain": [
              "10"
            ]
          },
          "metadata": {
            "tags": []
          },
          "execution_count": 23
        }
      ]
    },
    {
      "cell_type": "code",
      "metadata": {
        "id": "0Z4AoG9ovAtb",
        "colab_type": "code",
        "colab": {
          "base_uri": "https://localhost:8080/"
        },
        "outputId": "78ef3a7c-bc7a-4389-b2e7-4f596cf316d8"
      },
      "source": [
        "reduce(lambda x,y: x*y, iterador)"
      ],
      "execution_count": null,
      "outputs": [
        {
          "output_type": "execute_result",
          "data": {
            "text/plain": [
              "24"
            ]
          },
          "metadata": {
            "tags": []
          },
          "execution_count": 24
        }
      ]
    },
    {
      "cell_type": "markdown",
      "metadata": {
        "id": "rnoKEW5pvKNX",
        "colab_type": "text"
      },
      "source": [
        "Um exemplo prático da função **reduce()** é quando precisamos **calcular juros compostos**. Para fazermos isso precisamos do valor inical e dos juros que devem ser aplicados"
      ]
    },
    {
      "cell_type": "code",
      "metadata": {
        "id": "TGcSK-Flv1oD",
        "colab_type": "code",
        "colab": {
          "base_uri": "https://localhost:8080/"
        },
        "outputId": "aa1ca1e8-cbb0-4d36-8a89-d08d4f4e4f46"
      },
      "source": [
        "valor_inicial = 1000\n",
        "juros = [0.10, 0.4, 0.08, 0.2]\n",
        "\n",
        "reduce(lambda x,y: x*y, [valor_inicial]+juros)"
      ],
      "execution_count": null,
      "outputs": [
        {
          "output_type": "execute_result",
          "data": {
            "text/plain": [
              "0.6400000000000001"
            ]
          },
          "metadata": {
            "tags": []
          },
          "execution_count": 25
        }
      ]
    },
    {
      "cell_type": "markdown",
      "metadata": {
        "id": "uFAli4EvU2Tr",
        "colab_type": "text"
      },
      "source": [
        "### Lição 4: Funções para iteradores e iteráveis"
      ]
    },
    {
      "cell_type": "markdown",
      "metadata": {
        "id": "VWVngFrZVNip",
        "colab_type": "text"
      },
      "source": [
        "#### Parte 1: Funções any() e all()"
      ]
    },
    {
      "cell_type": "markdown",
      "metadata": {
        "id": "AjQ83juTxBDD",
        "colab_type": "text"
      },
      "source": [
        "\n",
        "| Any | All   |\n",
        "|:------:|:------:|\n",
        "|A função pega um objeto iterável em Python e retorna verdadeiro se algum dos elementos atende à condição| Recebe um objeto iterável e retorna verdadeiro apenas se todos cumprem a condição|"
      ]
    },
    {
      "cell_type": "code",
      "metadata": {
        "id": "qeLJe0GmVM8j",
        "colab_type": "code",
        "colab": {}
      },
      "source": [
        "lista = [1, 4, 6, 2, 3, 9]"
      ],
      "execution_count": null,
      "outputs": []
    },
    {
      "cell_type": "markdown",
      "metadata": {
        "id": "e7azqaWF480e",
        "colab_type": "text"
      },
      "source": [
        "**Any**"
      ]
    },
    {
      "cell_type": "code",
      "metadata": {
        "id": "mMMqHCUyVTZO",
        "colab_type": "code",
        "colab": {
          "base_uri": "https://localhost:8080/"
        },
        "outputId": "5b649c40-4258-4ff1-bd66-c30b1678541a"
      },
      "source": [
        "list(map(lambda x: x < 5, lista))"
      ],
      "execution_count": null,
      "outputs": [
        {
          "output_type": "execute_result",
          "data": {
            "text/plain": [
              "[True, True, False, True, True, False]"
            ]
          },
          "metadata": {
            "tags": []
          },
          "execution_count": 27
        }
      ]
    },
    {
      "cell_type": "code",
      "metadata": {
        "id": "assrIMrk4njm",
        "colab_type": "code",
        "colab": {
          "base_uri": "https://localhost:8080/"
        },
        "outputId": "9d8da584-5079-424b-e293-c8f183f7d531"
      },
      "source": [
        "any(map(lambda x: x < 5, lista))"
      ],
      "execution_count": null,
      "outputs": [
        {
          "output_type": "execute_result",
          "data": {
            "text/plain": [
              "True"
            ]
          },
          "metadata": {
            "tags": []
          },
          "execution_count": 28
        }
      ]
    },
    {
      "cell_type": "markdown",
      "metadata": {
        "id": "wjKbSpSK8Ih0",
        "colab_type": "text"
      },
      "source": [
        "É interessante vermos o any juntamente com funções que vimos anteriormente, como o filter(). Ele retorna *true* quando algum valor atende à condição, mas retorna *false* se nenhuma retornar"
      ]
    },
    {
      "cell_type": "code",
      "metadata": {
        "id": "KCun6Noh8I5v",
        "colab_type": "code",
        "colab": {
          "base_uri": "https://localhost:8080/"
        },
        "outputId": "0afe524a-e4b6-4fbe-80d2-3cfb6bf58a6c"
      },
      "source": [
        "print(list(filter(lambda x: x > 5, lista)))\n",
        "print(any(filter(lambda x: x > 5, lista)))"
      ],
      "execution_count": null,
      "outputs": [
        {
          "output_type": "stream",
          "text": [
            "[6, 9]\n",
            "True\n"
          ],
          "name": "stdout"
        }
      ]
    },
    {
      "cell_type": "code",
      "metadata": {
        "id": "wN_4TZ-99gJY",
        "colab_type": "code",
        "colab": {
          "base_uri": "https://localhost:8080/"
        },
        "outputId": "2f2321eb-dd7a-4423-faaf-d711d6bd32a4"
      },
      "source": [
        "print(list(filter(lambda x: x > 10, lista)))\n",
        "print(any(filter(lambda x: x > 10, lista)))"
      ],
      "execution_count": null,
      "outputs": [
        {
          "output_type": "stream",
          "text": [
            "[]\n",
            "False\n"
          ],
          "name": "stdout"
        }
      ]
    },
    {
      "cell_type": "markdown",
      "metadata": {
        "id": "G_-dwxXX5AFG",
        "colab_type": "text"
      },
      "source": [
        "**All**"
      ]
    },
    {
      "cell_type": "code",
      "metadata": {
        "id": "HxoRsAdO5iBD",
        "colab_type": "code",
        "colab": {
          "base_uri": "https://localhost:8080/"
        },
        "outputId": "071317db-29da-4002-bcbd-ade23930a91b"
      },
      "source": [
        "list(map(lambda x: x < 5, lista))"
      ],
      "execution_count": null,
      "outputs": [
        {
          "output_type": "execute_result",
          "data": {
            "text/plain": [
              "[True, True, False, True, True, False]"
            ]
          },
          "metadata": {
            "tags": []
          },
          "execution_count": 31
        }
      ]
    },
    {
      "cell_type": "code",
      "metadata": {
        "id": "F6uEOAlh5h4p",
        "colab_type": "code",
        "colab": {
          "base_uri": "https://localhost:8080/"
        },
        "outputId": "82a65c9e-6989-41bc-a1a6-2001de6b72a3"
      },
      "source": [
        "all(map(lambda x: x < 5, lista))"
      ],
      "execution_count": null,
      "outputs": [
        {
          "output_type": "execute_result",
          "data": {
            "text/plain": [
              "False"
            ]
          },
          "metadata": {
            "tags": []
          },
          "execution_count": 32
        }
      ]
    },
    {
      "cell_type": "markdown",
      "metadata": {
        "id": "IIy7YwVpVTvd",
        "colab_type": "text"
      },
      "source": [
        "#### Parte 2: Função zip()"
      ]
    },
    {
      "cell_type": "markdown",
      "metadata": {
        "id": "6WFpFQ7f6qS7",
        "colab_type": "text"
      },
      "source": [
        "| Zip | \n",
        "|:------:|\n",
        "|Retorna um objeto iteravel \"zipado\" com o que foi passado como parâmetro|"
      ]
    },
    {
      "cell_type": "code",
      "metadata": {
        "id": "VhcfTKnCVY-S",
        "colab_type": "code",
        "colab": {}
      },
      "source": [
        "l1 = [1, 2, 3, 4]\n",
        "l2 = [5, 3, 6, 2]"
      ],
      "execution_count": null,
      "outputs": []
    },
    {
      "cell_type": "code",
      "metadata": {
        "id": "GVJKnDDbVZyN",
        "colab_type": "code",
        "colab": {
          "base_uri": "https://localhost:8080/"
        },
        "outputId": "802a6423-0d43-4c68-eabb-c8937faf38cf"
      },
      "source": [
        "list(zip(l1, l2))"
      ],
      "execution_count": null,
      "outputs": [
        {
          "output_type": "execute_result",
          "data": {
            "text/plain": [
              "[(1, 5), (2, 3), (3, 6), (4, 2)]"
            ]
          },
          "metadata": {
            "tags": []
          },
          "execution_count": 34
        }
      ]
    },
    {
      "cell_type": "markdown",
      "metadata": {
        "id": "UcYI8sDV8KSY",
        "colab_type": "text"
      },
      "source": [
        "Essa função é muito utilizada quando temos um loop **for** e queremos que ele tenha dois contadores que irão percorrer duas sequência diferentes"
      ]
    },
    {
      "cell_type": "code",
      "metadata": {
        "id": "E2nOeVrv8Iqu",
        "colab_type": "code",
        "colab": {
          "base_uri": "https://localhost:8080/"
        },
        "outputId": "f5c4513c-f53b-4d0c-df2d-b39681560099"
      },
      "source": [
        "for i, j in zip(l1, l2):\n",
        "  print('L1:', i, ' L2:', j)"
      ],
      "execution_count": null,
      "outputs": [
        {
          "output_type": "stream",
          "text": [
            "L1: 1  L2: 5\n",
            "L1: 2  L2: 3\n",
            "L1: 3  L2: 6\n",
            "L1: 4  L2: 2\n"
          ],
          "name": "stdout"
        }
      ]
    },
    {
      "cell_type": "markdown",
      "metadata": {
        "id": "B_vKzW7U57RM",
        "colab_type": "text"
      },
      "source": [
        "É importante ressaltar que o **zip()** pode ser usado com qualquer objeto iterável"
      ]
    },
    {
      "cell_type": "markdown",
      "metadata": {
        "id": "y6YqYUvRVfuO",
        "colab_type": "text"
      },
      "source": [
        "## Módulo 2: Avançando em Orientação a Objetos"
      ]
    },
    {
      "cell_type": "markdown",
      "metadata": {
        "id": "BTv-XANeWA71",
        "colab_type": "text"
      },
      "source": [
        "### Lição 2: Herança"
      ]
    },
    {
      "cell_type": "markdown",
      "metadata": {
        "id": "OVTIK-GT9aPo",
        "colab_type": "text"
      },
      "source": [
        "Vamos construir o exemplo mostrado. Temos uma **Classe mãe** (Superclasse) nomeada **Veículo**. Dela criaremos duas classes _Carro_ e _Moto_"
      ]
    },
    {
      "cell_type": "code",
      "metadata": {
        "id": "u8CiFQi9VnJK",
        "colab_type": "code",
        "colab": {}
      },
      "source": [
        "class Veiculo ():\n",
        "  def __init__(self, marca, modelo, anoDeFabricacao, cor):\n",
        "      self.marca = marca \n",
        "      self.modelo = modelo\n",
        "      self.anoDeFabricacao = anoDeFabricacao\n",
        "      self.cor = cor \n",
        "\n",
        "class Carro (Veiculo):\n",
        "  def __init__(self, marca, modelo, anoDeFabricacao, cor, qnt_portas, vol_bagageiro):\n",
        "      super().__init__(marca, modelo, anoDeFabricacao, cor)\n",
        "      self.qnt_portas = qnt_portas\n",
        "      self.vol_bagageiro = vol_bagageiro #metros cúbicos\n",
        "       \n",
        "class Moto (Veiculo):\n",
        "  def __init__(self, marca, modelo, anoDeFabricacao, cor, viseira=False, porta_capacete=True):\n",
        "      super().__init__(marca, modelo, anoDeFabricacao, cor)\n",
        "      self.porta_capacete = porta_capacete\n",
        "      self.viseira = viseira"
      ],
      "execution_count": null,
      "outputs": []
    },
    {
      "cell_type": "code",
      "metadata": {
        "id": "REGztRnE998-",
        "colab_type": "code",
        "colab": {}
      },
      "source": [
        "gol = Carro('wolks', 'gol', 2010, 'laranja', 4, 500) \n",
        "fusca = Carro('wolks', 'fusca', 1990, 'azul claro', 2, 300)\n",
        "\n",
        "bis = Moto('honda', 'bis', 2018, 'vermelho', viseira=True)"
      ],
      "execution_count": null,
      "outputs": []
    },
    {
      "cell_type": "code",
      "metadata": {
        "id": "_sYjXYzR991R",
        "colab_type": "code",
        "colab": {
          "base_uri": "https://localhost:8080/"
        },
        "outputId": "cee83b40-ca35-43db-dce6-0d13c100c6fa"
      },
      "source": [
        "isinstance(gol, Moto)"
      ],
      "execution_count": null,
      "outputs": [
        {
          "output_type": "execute_result",
          "data": {
            "text/plain": [
              "False"
            ]
          },
          "metadata": {
            "tags": []
          },
          "execution_count": 38
        }
      ]
    },
    {
      "cell_type": "code",
      "metadata": {
        "id": "1n0hYVuA-ETF",
        "colab_type": "code",
        "colab": {
          "base_uri": "https://localhost:8080/"
        },
        "outputId": "8cd4103a-877a-4886-ecc5-520c34e25287"
      },
      "source": [
        "print('Gol: ', gol.marca, '\\t', gol.qnt_portas)\n",
        "print('Bis: ', bis.anoDeFabricacao, '\\t', bis.porta_capacete)"
      ],
      "execution_count": null,
      "outputs": [
        {
          "output_type": "stream",
          "text": [
            "Gol:  wolks \t 4\n",
            "Bis:  2018 \t True\n"
          ],
          "name": "stdout"
        }
      ]
    },
    {
      "cell_type": "markdown",
      "metadata": {
        "id": "EADAfqltWI6i",
        "colab_type": "text"
      },
      "source": [
        "### Lição 3: Herança múltipla"
      ]
    },
    {
      "cell_type": "markdown",
      "metadata": {
        "id": "_I7v1TDeUddV",
        "colab_type": "text"
      },
      "source": [
        "Então, para modelar o nosso problema de **Veículos Terrestres** e **Veículos Aquáticos** podemos usar duas situações"
      ]
    },
    {
      "cell_type": "markdown",
      "metadata": {
        "id": "Kiu5TfgHWfIJ",
        "colab_type": "text"
      },
      "source": [
        "1. Usando o conceito normal de herança\n",
        "2. Usando o conceito de herança múltipla exemplificado abaixo:\n"
      ]
    },
    {
      "cell_type": "code",
      "metadata": {
        "id": "EvtpNaHTWN7u",
        "colab_type": "code",
        "colab": {}
      },
      "source": [
        "class Veiculo ():\n",
        "  def __init__(self, marca, modelo, anoDeFabricacao, cor):\n",
        "      self.marca = marca \n",
        "      self.modelo = modelo\n",
        "      self.anoDeFabricacao = anoDeFabricacao\n",
        "      self.cor = cor \n",
        "\n",
        "class Veiculo_Terrestre ():\n",
        "    def __init__(self):\n",
        "      self.qnt_rodas = None\n",
        "      # pass\n",
        "    \n",
        "    def set_qnt_rodas(self, qnt_rodas):\n",
        "      self.qnt_rodas = qnt_rodas\n",
        "\n",
        "class Veiculo_Aquatico ():\n",
        "  pass\n",
        "\n",
        "class Carro (Veiculo, Veiculo_Terrestre):\n",
        "  def __init__(self, marca, modelo, anoDeFabricacao, cor, qnt_rodas, qnt_portas, vol_bagageiro):\n",
        "      super().__init__(marca, modelo, anoDeFabricacao, cor)\n",
        "      super().set_qnt_rodas(qnt_rodas)\n",
        "      self.qnt_portas = qnt_portas\n",
        "      self.vol_bagageiro = vol_bagageiro #metros cúbicos"
      ],
      "execution_count": null,
      "outputs": []
    },
    {
      "cell_type": "markdown",
      "metadata": {
        "id": "NePl2aYEqyeR",
        "colab_type": "text"
      },
      "source": [
        "Na herança múltipla o método *super()* funciona de um jeito diferente. Como ele herda de duas classes diferentes, caso haja conflito de métodos, ele sempre \"escolherá\" o método da primeira classe passada como parâmetro"
      ]
    },
    {
      "cell_type": "code",
      "metadata": {
        "id": "CXBolbJTWy-m",
        "colab_type": "code",
        "colab": {
          "base_uri": "https://localhost:8080/"
        },
        "outputId": "f621ba54-8888-4f2b-d7c1-3c36cd2f61c7"
      },
      "source": [
        "gol = Carro('wolks', 'gol', 2010, 'branco', 4, 4, 500) \n",
        "\n",
        "#Atributos de Veiculo, Veiculo, Veiculo_Terrestre e Carro, respectivamente\n",
        "print(gol.marca, gol.modelo, gol.qnt_rodas, gol.qnt_portas)"
      ],
      "execution_count": null,
      "outputs": [
        {
          "output_type": "stream",
          "text": [
            "wolks gol 4 4\n"
          ],
          "name": "stdout"
        }
      ]
    },
    {
      "cell_type": "code",
      "metadata": {
        "id": "4ZSmmLQ7Wx7P",
        "colab_type": "code",
        "colab": {
          "base_uri": "https://localhost:8080/"
        },
        "outputId": "f7e199d6-3fa4-43d4-a7c1-e7bdac98d79c"
      },
      "source": [
        "isinstance(gol, Veiculo_Terrestre)\n",
        "type(gol)"
      ],
      "execution_count": null,
      "outputs": [
        {
          "output_type": "execute_result",
          "data": {
            "text/plain": [
              "__main__.Carro"
            ]
          },
          "metadata": {
            "tags": []
          },
          "execution_count": 42
        }
      ]
    },
    {
      "cell_type": "code",
      "metadata": {
        "id": "jz14BluqWxrq",
        "colab_type": "code",
        "colab": {
          "base_uri": "https://localhost:8080/"
        },
        "outputId": "b2657dce-5da1-4b49-a52d-37de140229cb"
      },
      "source": [
        "veic = Veiculo(\"wolks\", 'gol', 2010, 'branco')\n",
        "type(veic)"
      ],
      "execution_count": null,
      "outputs": [
        {
          "output_type": "execute_result",
          "data": {
            "text/plain": [
              "__main__.Veiculo"
            ]
          },
          "metadata": {
            "tags": []
          },
          "execution_count": 43
        }
      ]
    },
    {
      "cell_type": "markdown",
      "metadata": {
        "id": "ZAQqFwzeWOdH",
        "colab_type": "text"
      },
      "source": [
        "### Lição 4: Classes abstratas"
      ]
    },
    {
      "cell_type": "markdown",
      "metadata": {
        "id": "WZu_jDNDj1jr",
        "colab_type": "text"
      },
      "source": [
        "Para aplicarmos o conceito de classe abstrata no Python devemos, primeiramente, importar o módulo **abc**"
      ]
    },
    {
      "cell_type": "code",
      "metadata": {
        "id": "52HaFkcqkJFl",
        "colab_type": "code",
        "colab": {}
      },
      "source": [
        "import abc"
      ],
      "execution_count": null,
      "outputs": []
    },
    {
      "cell_type": "markdown",
      "metadata": {
        "id": "IvpvUWLP21kh",
        "colab_type": "text"
      },
      "source": [
        "O importante do modulo *abc* é que ele é utilizado para determinar qual é a classe mãe, através do *abc.ABCMeta*. Toda classe abstrata precisará necessariamente herdar da classe *abc.ABCMeta*."
      ]
    },
    {
      "cell_type": "markdown",
      "metadata": {
        "id": "qhwcu1YKoDmW",
        "colab_type": "text"
      },
      "source": [
        "Sobre classes abstratas devemos comentar um ponto importante. Uma classe é dita abstrata se há, pelo menos, um método abstrato. Ou seja, deve ter apenas a assinatura do método para que ele possa ser implementado nas classes filhas."
      ]
    },
    {
      "cell_type": "markdown",
      "metadata": {
        "id": "OmK0hea7YKhw",
        "colab_type": "text"
      },
      "source": [
        "Em seguida, podemos construir a nossa ideia de classe abstrata. Repare em como realizamos a marcação de um método abstrato. Precisamos utilizar um *decorator* com @abc.abstractmethod acima do método em questão."
      ]
    },
    {
      "cell_type": "code",
      "metadata": {
        "id": "ffShZcBDWTwf",
        "colab_type": "code",
        "colab": {}
      },
      "source": [
        "class Veiculo (metaclass=abc.ABCMeta):\n",
        "  def __init__(self, marca, modelo, anoDeFabricacao, cor):\n",
        "      self.marca = marca \n",
        "      self.modelo = modelo\n",
        "      self.anoDeFabricacao = anoDeFabricacao\n",
        "      self.cor = cor \n",
        "\n",
        "  @abc.abstractmethod\n",
        "  def mostrar_veiculo(self):\n",
        "    return\n",
        "\n",
        "class Carro (Veiculo):\n",
        "  def __init__(self, marca, modelo, anoDeFabricacao, cor, qnt_portas, vol_bagageiro):\n",
        "      super().__init__(marca, modelo, anoDeFabricacao, cor)\n",
        "      self.qnt_portas = qnt_portas\n",
        "      self.vol_bagageiro = vol_bagageiro #metros cúbicos\n",
        "    \n",
        "  def mostrar_veiculo(self):\n",
        "    print(self.marca, self.modelo, self.anoDeFabricacao, self.cor, self.qnt_portas, self.vol_bagageiro)"
      ],
      "execution_count": null,
      "outputs": []
    },
    {
      "cell_type": "markdown",
      "metadata": {
        "id": "OByFFZbAQDs_",
        "colab_type": "text"
      },
      "source": [
        "Poderemos instanciar um objeto de nossas classes filhas normalmente:"
      ]
    },
    {
      "cell_type": "code",
      "metadata": {
        "id": "RIEE5lo9Z2Rz",
        "colab_type": "code",
        "colab": {
          "base_uri": "https://localhost:8080/"
        },
        "outputId": "234ef852-09f6-4427-9f9a-d589b9540627"
      },
      "source": [
        "gol = Carro('wolks', 'gol', 2010, 'branco', 4, 500) \n",
        "\n",
        "gol.mostrar_veiculo()"
      ],
      "execution_count": null,
      "outputs": [
        {
          "output_type": "stream",
          "text": [
            "wolks gol 2010 branco 4 500\n"
          ],
          "name": "stdout"
        }
      ]
    },
    {
      "cell_type": "markdown",
      "metadata": {
        "id": "kZOSI67uZ8fm",
        "colab_type": "text"
      },
      "source": [
        "É importante ressaltar que **não podemos instaciar um objeto de uma classe abstrata** "
      ]
    },
    {
      "cell_type": "code",
      "metadata": {
        "id": "y_S3LNi2Z72T",
        "colab_type": "code",
        "colab": {
          "base_uri": "https://localhost:8080/"
        },
        "outputId": "332ae89a-35ad-4fc2-9e35-0aad4e9890a8"
      },
      "source": [
        "veic = Veiculo(\"wolks\", \"gol\", 2010, \"branco\")"
      ],
      "execution_count": null,
      "outputs": [
        {
          "output_type": "error",
          "ename": "TypeError",
          "evalue": "ignored",
          "traceback": [
            "\u001b[0;31m---------------------------------------------------------------------------\u001b[0m",
            "\u001b[0;31mTypeError\u001b[0m                                 Traceback (most recent call last)",
            "\u001b[0;32m<ipython-input-47-cc0fbe8fc9f0>\u001b[0m in \u001b[0;36m<module>\u001b[0;34m()\u001b[0m\n\u001b[0;32m----> 1\u001b[0;31m \u001b[0mveic\u001b[0m \u001b[0;34m=\u001b[0m \u001b[0mVeiculo\u001b[0m\u001b[0;34m(\u001b[0m\u001b[0;34m\"wolks\"\u001b[0m\u001b[0;34m,\u001b[0m \u001b[0;34m\"gol\"\u001b[0m\u001b[0;34m,\u001b[0m \u001b[0;36m2010\u001b[0m\u001b[0;34m,\u001b[0m \u001b[0;34m\"branco\"\u001b[0m\u001b[0;34m)\u001b[0m\u001b[0;34m\u001b[0m\u001b[0;34m\u001b[0m\u001b[0m\n\u001b[0m",
            "\u001b[0;31mTypeError\u001b[0m: Can't instantiate abstract class Veiculo with abstract methods mostrar_veiculo"
          ]
        }
      ]
    },
    {
      "cell_type": "markdown",
      "metadata": {
        "id": "lCUJVtzcpw22",
        "colab_type": "text"
      },
      "source": [
        "Apesar do Python apresentar o conceito de classes abstratas, ele não possui interfaces ao contrário de linguagens como Java e PHP"
      ]
    },
    {
      "cell_type": "markdown",
      "metadata": {
        "id": "WiR2X5fuWUXT",
        "colab_type": "text"
      },
      "source": [
        "### Lição 5: Polimorfismo"
      ]
    },
    {
      "cell_type": "markdown",
      "metadata": {
        "id": "2EqaaefJJlz3",
        "colab_type": "text"
      },
      "source": [
        "Usamos estratégias de Polimorfismo quando, além de aplicarmos o conceito de **herança**, queremos que um método estabelecido na classe mãe se adapte à classe filha"
      ]
    },
    {
      "cell_type": "code",
      "metadata": {
        "id": "TBnhX3foWXBy",
        "colab_type": "code",
        "colab": {}
      },
      "source": [
        "class Veiculo ():\n",
        "  def __init__(self, marca, modelo, anoDeFabricacao, cor):\n",
        "    self.marca = marca \n",
        "    self.modelo = modelo\n",
        "    self.anoDeFabricacao = anoDeFabricacao\n",
        "    self.cor = cor \n",
        "\n",
        "  def mostrar_veiculo(self):\n",
        "    print(\"Método da classe Veiculo\")\n",
        "    print(self.marca, self.modelo, self.anoDeFabricacao, self.cor)\n",
        "\n",
        "class Carro (Veiculo):\n",
        "  def __init__(self, marca, modelo, anoDeFabricacao, cor, qnt_portas, vol_bagageiro):\n",
        "    super().__init__(marca, modelo, anoDeFabricacao, cor)\n",
        "    self.qnt_portas = qnt_portas\n",
        "    self.vol_bagageiro = vol_bagageiro #metros cúbicos\n",
        "\n",
        "  def mostrar_veiculo(self):\n",
        "    super().mostrar_veiculo()\n",
        "    print(\"Método da classe Carro\")\n",
        "    print(self.marca, self.modelo, self.anoDeFabricacao, self.cor, self.qnt_portas, self.vol_bagageiro)"
      ],
      "execution_count": null,
      "outputs": []
    },
    {
      "cell_type": "code",
      "metadata": {
        "id": "VNTCurmHMQ5H",
        "colab_type": "code",
        "colab": {}
      },
      "source": [
        "veic = Veiculo('minha_marca', 'meu_modelo', 2020, 'minha_cor')\n",
        "gol = Carro('wolks', 'gol', 2010, 'branco', 4, 500) "
      ],
      "execution_count": null,
      "outputs": []
    },
    {
      "cell_type": "code",
      "metadata": {
        "id": "iTSutR_8MVFE",
        "colab_type": "code",
        "colab": {}
      },
      "source": [
        "veic.mostrar_veiculo()"
      ],
      "execution_count": null,
      "outputs": []
    },
    {
      "cell_type": "code",
      "metadata": {
        "id": "34IpWHaIMWpu",
        "colab_type": "code",
        "colab": {}
      },
      "source": [
        "gol.mostrar_veiculo()"
      ],
      "execution_count": null,
      "outputs": []
    },
    {
      "cell_type": "code",
      "metadata": {
        "id": "QM22VWDVMaZp",
        "colab_type": "code",
        "colab": {}
      },
      "source": [
        "gol.mostrar_veiculo()"
      ],
      "execution_count": null,
      "outputs": []
    },
    {
      "cell_type": "markdown",
      "metadata": {
        "id": "0Y5L8Hw1WXdg",
        "colab_type": "text"
      },
      "source": [
        "### Lição 6: Sobrecarga de operadores"
      ]
    },
    {
      "cell_type": "markdown",
      "metadata": {
        "id": "iAogPnRCMwx1",
        "colab_type": "text"
      },
      "source": [
        "Como já mostramos, a ideia da sobrecarga é redefinir o conceito de um operador já existente, como **+**, **-**, etc. A partir disso vamos fazer o seguinte para nossa classe **Carro**"
      ]
    },
    {
      "cell_type": "markdown",
      "metadata": {
        "id": "i6UiBtkUOBwT",
        "colab_type": "text"
      },
      "source": [
        "* Vamos definir que a soma entre dois objetos Carro seja a soma de suas capacidades para os bagageiros.\n",
        "\n",
        "* Vamos definir também que uma impressão no formato da nossa função 'mostrar_veiculo' deva ser executada sempre que pedirmos a impressão de nosso objeto em um print(Carro)."
      ]
    },
    {
      "cell_type": "code",
      "metadata": {
        "id": "8E8FK-FFWaYv",
        "colab_type": "code",
        "colab": {}
      },
      "source": [
        "class Veiculo ():\n",
        "  def __init__(self, marca, modelo, anoDeFabricacao, cor):\n",
        "    self.marca = marca \n",
        "    self.modelo = modelo\n",
        "    self.anoDeFabricacao = anoDeFabricacao\n",
        "    self.cor = cor \n",
        "\n",
        "class Carro (Veiculo):\n",
        "  def __init__(self, marca, modelo, anoDeFabricacao, cor, qnt_portas, vol_bagageiro):\n",
        "    super().__init__(marca, modelo, anoDeFabricacao, cor)\n",
        "    self.qnt_portas = qnt_portas\n",
        "    self.vol_bagageiro = vol_bagageiro #metros cúbicos\n",
        "\n",
        "  def mostrar_veiculo(self):\n",
        "    print(\"Método da classe Carro\")\n",
        "    print(self.marca, self.modelo, self.anoDeFabricacao, self.cor, self.qnt_portas, self.vol_bagageiro)\n",
        "\n",
        "  def __add__(self, other): #Definir operaçãão de adiçãão entre objetos Carro\n",
        "    return self.vol_bagageiro + other.vol_bagageiro\n",
        "\n",
        "  def __str__(self): #Definir transformação de nosso objeto em string - método chamado pela função print() \n",
        "    return \"Método da classe Carro \\n\" + str(self.marca) + str(self.modelo) + str(self.anoDeFabricacao) + str(self.cor) + str(self.qnt_portas) + str(self.vol_bagageiro)\n",
        "\n",
        "  def __repr__(self):\n",
        "    return self.__str__() + \"\\n Nova coisa\"\n",
        "  "
      ],
      "execution_count": null,
      "outputs": []
    },
    {
      "cell_type": "code",
      "metadata": {
        "id": "CVVy5FwAOUjK",
        "colab_type": "code",
        "colab": {}
      },
      "source": [
        "gol = Carro('wolks', 'gol', 2010, 'laranja', 4, 500) \n",
        "fusca = Carro('wolks', 'fusca', 1990, 'azul claro', 2, 300)\n",
        "\n",
        "fusca2 = Carro('wolks', 'fusca', 1990, 'azul claro', 2, 400)"
      ],
      "execution_count": null,
      "outputs": []
    },
    {
      "cell_type": "code",
      "metadata": {
        "id": "Lb_edSNqOUa5",
        "colab_type": "code",
        "colab": {}
      },
      "source": [
        "gol + fusca"
      ],
      "execution_count": null,
      "outputs": []
    },
    {
      "cell_type": "code",
      "metadata": {
        "id": "pHI9MyoYOYSd",
        "colab_type": "code",
        "colab": {}
      },
      "source": [
        "print(gol)"
      ],
      "execution_count": null,
      "outputs": []
    },
    {
      "cell_type": "markdown",
      "metadata": {
        "id": "TsXNRba-OiB_",
        "colab_type": "text"
      },
      "source": [
        "Isso foi apenas um dos exemplos do que podemos fazer com a sobrecarga de operadores, se quiser ver a lista completa veja o [link](https://docs.python.org/3/reference/datamodel.html#specialnames)"
      ]
    },
    {
      "cell_type": "markdown",
      "metadata": {
        "id": "A_nQoAn_WbmE",
        "colab_type": "text"
      },
      "source": [
        "## Módulo 3: Tratamento de exceções"
      ]
    },
    {
      "cell_type": "markdown",
      "metadata": {
        "id": "9FXtXMAHXewY",
        "colab_type": "text"
      },
      "source": [
        "### Lição 1: Exceções e fluxos de execução"
      ]
    },
    {
      "cell_type": "markdown",
      "metadata": {
        "id": "BzQPyDtxgCUd",
        "colab_type": "text"
      },
      "source": [
        "Os erros de execução que acontecem mesmo que o código esteja escrito corretamente são chamados de **exceções**.  Em sua biblioteca padrão, o Python possiu diversos tipos de exceções que podemos ver no [link](https://docs.python.org/pt-br/3/library/exceptions.html)"
      ]
    },
    {
      "cell_type": "code",
      "metadata": {
        "id": "qu3RI3OQvYUy",
        "colab_type": "code",
        "colab": {}
      },
      "source": [
        "10/0"
      ],
      "execution_count": null,
      "outputs": []
    },
    {
      "cell_type": "code",
      "metadata": {
        "id": "5vkDExswWhOc",
        "colab_type": "code",
        "colab": {}
      },
      "source": [
        "y = x + 5\n",
        "y"
      ],
      "execution_count": null,
      "outputs": []
    },
    {
      "cell_type": "markdown",
      "metadata": {
        "id": "LhW8OAcswd-v",
        "colab_type": "text"
      },
      "source": [
        "Através da biblioteca builtins nós temos acesso a vários tipos de erros"
      ]
    },
    {
      "cell_type": "code",
      "metadata": {
        "id": "bEeWsuXdwdM8",
        "colab_type": "code",
        "colab": {}
      },
      "source": [
        "import builtins"
      ],
      "execution_count": null,
      "outputs": []
    },
    {
      "cell_type": "code",
      "metadata": {
        "id": "Y5Aifh-ox4qb",
        "colab_type": "code",
        "colab": {}
      },
      "source": [
        "help(builtins)"
      ],
      "execution_count": null,
      "outputs": []
    },
    {
      "cell_type": "markdown",
      "metadata": {
        "id": "xojsrzyEXm9P",
        "colab_type": "text"
      },
      "source": [
        "### Lição 2: Blocos try e except\n"
      ]
    },
    {
      "cell_type": "markdown",
      "metadata": {
        "id": "HZ8O7avzyBhz",
        "colab_type": "text"
      },
      "source": [
        "Para lidar com essas exceções o Python possiu a estrutura **try / except**. "
      ]
    },
    {
      "cell_type": "code",
      "metadata": {
        "id": "mf6_rB1SXsDn",
        "colab_type": "code",
        "colab": {}
      },
      "source": [
        "resultado = None\n",
        "\n",
        "a = float(input(\"Numerador: \"))\n",
        "b = float(input(\"Denominador: \"))\n",
        "\n",
        "try:\n",
        "  resultado = a / b\n",
        "except:\n",
        "  print(\"Divisão por zero, favor digitar outro número\")\n",
        "\n",
        "print(\"Resultado: \", resultado)\n",
        "print(\"Fim\")"
      ],
      "execution_count": null,
      "outputs": []
    },
    {
      "cell_type": "markdown",
      "metadata": {
        "id": "MuwmrQ9yzNE6",
        "colab_type": "text"
      },
      "source": [
        "Uma das facilidades do except é que podemos especificar qual exceção será direcionada em cada um dos blocos de instruções"
      ]
    },
    {
      "cell_type": "code",
      "metadata": {
        "id": "vB-E6kVXzNty",
        "colab_type": "code",
        "colab": {}
      },
      "source": [
        "resultado = None\n",
        "\n",
        "try:\n",
        "  a = int(input(\"Numerador: \"))\n",
        "  b = int(input(\"Denominador: \"))\n",
        "  resultado = a / b\n",
        "except ZeroDivisionError:\n",
        "  print(\"Divisão por zero, favor digitar outro número\")\n",
        "except:\n",
        "  print(\"Outro erro ocorreu\")\n",
        "\n",
        "print(\"Resultado: \", resultado)"
      ],
      "execution_count": null,
      "outputs": []
    },
    {
      "cell_type": "markdown",
      "metadata": {
        "id": "73pu61XNn3Px",
        "colab_type": "text"
      },
      "source": [
        "E, além disso, o Python permite que um except lide com um ou mais erros"
      ]
    },
    {
      "cell_type": "code",
      "metadata": {
        "id": "TxGP6-9U0fgC",
        "colab_type": "code",
        "colab": {}
      },
      "source": [
        "resultado = None\n",
        "\n",
        "try:\n",
        "  a = int(input(\"Numerador: \"))\n",
        "  b = int(input(\"Denominador: \"))\n",
        "  resultado = a / b\n",
        "except (ZeroDivisionError, ValueError):\n",
        "  print(\"Digite outro denominador\")\n",
        "\n",
        "print(\"Resultado: \", resultado)"
      ],
      "execution_count": null,
      "outputs": []
    },
    {
      "cell_type": "markdown",
      "metadata": {
        "id": "mshoKi3NXwd9",
        "colab_type": "text"
      },
      "source": [
        "### Lição 3: Blocos else e fiinally"
      ]
    },
    {
      "cell_type": "markdown",
      "metadata": {
        "id": "dZkZEZ4NpttV",
        "colab_type": "text"
      },
      "source": [
        "Junto com o try / except podemos utilizar a estrutura **else** que será executada quando não houver nenhum tipo de erro a ser lidado no except"
      ]
    },
    {
      "cell_type": "code",
      "metadata": {
        "id": "s9TxrEDHX0yh",
        "colab_type": "code",
        "colab": {}
      },
      "source": [
        "try:\n",
        "    idade = int(input('Digite sua idade:'))\n",
        "except:\n",
        "    print ('Um valor inválido foi digitado.')\n",
        "else:\n",
        "    if idade <= 18:\n",
        "        print('Você é menor de idade, não posso permitir a entrada')\n",
        "    else:\n",
        "        print('Bem-vindo! Aproveite o máximo possível.')"
      ],
      "execution_count": null,
      "outputs": []
    },
    {
      "cell_type": "code",
      "metadata": {
        "id": "O1yRBOhIhl3r",
        "colab_type": "code",
        "colab": {}
      },
      "source": [
        "try:\n",
        "    idade = int(input('Digite sua idade:'))\n",
        "except:\n",
        "    print ('Um valor inválido foi digitado.')\n",
        "else:\n",
        "    if idade <= 18:\n",
        "        print('Você é menor de idade, não posso permitir a entrada')\n",
        "    else:\n",
        "        print('Bem-vindo! Aproveite o máximo possível.')\n",
        "finally:\n",
        "  print('Próximo da fila, por favor!'\u001d)"
      ],
      "execution_count": null,
      "outputs": []
    },
    {
      "cell_type": "markdown",
      "metadata": {
        "id": "s31_V2YGX11A",
        "colab_type": "text"
      },
      "source": [
        "## Módulo 4: Manipulação de arquivos"
      ]
    },
    {
      "cell_type": "markdown",
      "metadata": {
        "id": "RbB-BYrSYiEf",
        "colab_type": "text"
      },
      "source": [
        "### Lição 2: Abrindo e fechando arquivos .txt"
      ]
    },
    {
      "cell_type": "markdown",
      "metadata": {
        "id": "o8aebigu2pXD",
        "colab_type": "text"
      },
      "source": [
        "<center>O Python oferece diveras maneira de abrimos um arquivo: <center>\n",
        "\n",
        "| Caractere | Funcionalidade   |\n",
        "|:------:|:------:|\n",
        "|   'r'  | Leitura|\n",
        "|   'w'  | Escrita, substituindo o conteúdo já existente do arquivo|\n",
        "|   'x'  | Escrita, retornando erro quando já existe conteúdo no arquivo|\n",
        "|   'a'  | Escrita, inserindo dados no final do arquivo|\n",
        "|   'b'  | Modo binário|\n",
        "|   't'  | Modo texto (padrão)|\n",
        "|   '+' | Leitura e escrita|\n"
      ]
    },
    {
      "cell_type": "code",
      "metadata": {
        "id": "oDdxY_5wYlq9",
        "colab_type": "code",
        "colab": {}
      },
      "source": [
        "arquivo = open('palavras.txt')\n",
        "type(arquivo)\n",
        "arquivo.close()"
      ],
      "execution_count": null,
      "outputs": []
    },
    {
      "cell_type": "markdown",
      "metadata": {
        "id": "ZwD0GMt29btI",
        "colab_type": "text"
      },
      "source": [
        "Como falamos, é super importante lembrar de fechar um arquivo logo após terminar de utilizá-lo"
      ]
    },
    {
      "cell_type": "markdown",
      "metadata": {
        "id": "eIcHQjQ1YncC",
        "colab_type": "text"
      },
      "source": [
        "### Lição 3: Escrevendo em arquivos .txt"
      ]
    },
    {
      "cell_type": "markdown",
      "metadata": {
        "id": "PiMyMud4C4Up",
        "colab_type": "text"
      },
      "source": [
        "Para escrevermos em um arquivo devemos abrí-lo com 'w', 'x' ou 'a', por serem opções de escrita. Como nosso arquivo palavras já possui conteudo, vamos utilizar o caractere 'a' para escrever no final do arquiuvo"
      ]
    },
    {
      "cell_type": "code",
      "metadata": {
        "id": "YFMytfeBYuta",
        "colab_type": "code",
        "colab": {}
      },
      "source": [
        "arquivo = open('palavras.txt', 'a')"
      ],
      "execution_count": null,
      "outputs": []
    },
    {
      "cell_type": "markdown",
      "metadata": {
        "id": "eGI7-liDD1xQ",
        "colab_type": "text"
      },
      "source": [
        "**Write()**"
      ]
    },
    {
      "cell_type": "code",
      "metadata": {
        "id": "N-d0GP5vDsQT",
        "colab_type": "code",
        "colab": {}
      },
      "source": [
        "arquivo.write(\"Curso Python\\n\")\n",
        "arquivo.write(\"Da Voitto\\n\")"
      ],
      "execution_count": null,
      "outputs": []
    },
    {
      "cell_type": "code",
      "metadata": {
        "id": "Qe3N7-UgFi1E",
        "colab_type": "code",
        "colab": {}
      },
      "source": [
        "arquivo.close()"
      ],
      "execution_count": null,
      "outputs": []
    },
    {
      "cell_type": "markdown",
      "metadata": {
        "id": "bG0xgT4bEbpv",
        "colab_type": "text"
      },
      "source": [
        "**Writelines()**"
      ]
    },
    {
      "cell_type": "code",
      "metadata": {
        "id": "BzDQl1HzFbkM",
        "colab_type": "code",
        "colab": {}
      },
      "source": [
        "arquivo = open('palavras.txt', 'a' )"
      ],
      "execution_count": null,
      "outputs": []
    },
    {
      "cell_type": "code",
      "metadata": {
        "id": "3ESSyk0qHMG3",
        "colab_type": "code",
        "colab": {}
      },
      "source": [
        "lista = ['texto', 'valor', '10']  # todos os valores devem ser srtings\n",
        "arquivo.writelines(lista)"
      ],
      "execution_count": null,
      "outputs": []
    },
    {
      "cell_type": "markdown",
      "metadata": {
        "id": "nSDubz4cYvXW",
        "colab_type": "text"
      },
      "source": [
        "### Lição 4: Lendo arquivos .txt"
      ]
    },
    {
      "cell_type": "markdown",
      "metadata": {
        "id": "wxfCluU6MIcZ",
        "colab_type": "text"
      },
      "source": [
        "Das opções de caracteres mostradas na tabela a que está voltada para leitura é o caractere 'r', então vamos utilizá-lo para ler o arquivo que queremos.\n",
        "\n",
        "É importante ressaltar que para usar o caractere 'r' o arquivo deve existir previamente. Caso contrário o Python retornará um erro do tipo *FileNotFound*"
      ]
    },
    {
      "cell_type": "code",
      "metadata": {
        "id": "8sYcxxsTY0EH",
        "colab_type": "code",
        "colab": {}
      },
      "source": [
        "#Arquivo ja existente\n",
        "arquivo = open(\"palavras.txt\", 'r')"
      ],
      "execution_count": null,
      "outputs": []
    },
    {
      "cell_type": "code",
      "metadata": {
        "id": "igMRrupuOgwx",
        "colab_type": "code",
        "colab": {}
      },
      "source": [
        "#Arquivo inexistente \n",
        "arquivo2 = open('arquivo_qualquer', 'r')"
      ],
      "execution_count": null,
      "outputs": []
    },
    {
      "cell_type": "markdown",
      "metadata": {
        "id": "a58ZDkXXOxqo",
        "colab_type": "text"
      },
      "source": [
        "**Read()**"
      ]
    },
    {
      "cell_type": "code",
      "metadata": {
        "id": "jSWvhJbdOuRO",
        "colab_type": "code",
        "colab": {}
      },
      "source": [
        "arquivo.read()"
      ],
      "execution_count": null,
      "outputs": []
    },
    {
      "cell_type": "code",
      "metadata": {
        "id": "KZRmoo0yPinC",
        "colab_type": "code",
        "colab": {}
      },
      "source": [
        "arquivo.close()"
      ],
      "execution_count": null,
      "outputs": []
    },
    {
      "cell_type": "markdown",
      "metadata": {
        "id": "R0R7OG0qP5ru",
        "colab_type": "text"
      },
      "source": [
        "Percebemos que ao imprimir o *arquivo.read()* o Python mostrou o \\n (que indica mudança de linha). O código abaixo mostra uma estratégia de como ajustar isso"
      ]
    },
    {
      "cell_type": "code",
      "metadata": {
        "id": "jDh8QZY1P20n",
        "colab_type": "code",
        "colab": {}
      },
      "source": [
        "arquivo = open(\"palavras.txt\", \"r\")\n",
        "arq = arquivo.read()\n",
        "arq = arq.split(\"\\n\")  \n",
        "print(arq)\n",
        "arquivo.close()"
      ],
      "execution_count": null,
      "outputs": []
    },
    {
      "cell_type": "markdown",
      "metadata": {
        "id": "77z_FzZyRCe4",
        "colab_type": "text"
      },
      "source": [
        "Cada linha do arquivo se transformou em um item da lista. Isso possibilita trabalharmos com cada item de forma separada"
      ]
    },
    {
      "cell_type": "markdown",
      "metadata": {
        "id": "LfgLM4zySFjd",
        "colab_type": "text"
      },
      "source": [
        "Uma forma alternativa de acessarmos linha por linha de uma arquivo é através de loops. Veja como é possível utilizando o for"
      ]
    },
    {
      "cell_type": "code",
      "metadata": {
        "id": "XIPQ1TFZO4LZ",
        "colab_type": "code",
        "colab": {}
      },
      "source": [
        "arquivo = open(\"palavras.txt\", \"r\")\n",
        "for linha in arquivo:\n",
        "  print(linha)\n",
        "arquivo.close()"
      ],
      "execution_count": null,
      "outputs": []
    },
    {
      "cell_type": "markdown",
      "metadata": {
        "id": "RJFsIKAxO2Aj",
        "colab_type": "text"
      },
      "source": [
        "**Readline()**"
      ]
    },
    {
      "cell_type": "code",
      "metadata": {
        "id": "5WojZca2S71R",
        "colab_type": "code",
        "colab": {}
      },
      "source": [
        "arquivo = open(\"palavras.txt\", 'r')\n",
        "linha = arquivo.readline()\n",
        "linha"
      ],
      "execution_count": null,
      "outputs": []
    },
    {
      "cell_type": "markdown",
      "metadata": {
        "id": "6YDsKLocTqHy",
        "colab_type": "text"
      },
      "source": [
        "A cada vez que chamamos o método *realine()* ele lê uma nova linha"
      ]
    },
    {
      "cell_type": "code",
      "metadata": {
        "id": "dnwe0-g4Twpb",
        "colab_type": "code",
        "colab": {}
      },
      "source": [
        "linha2 = arquivo.readline()\n",
        "linha2"
      ],
      "execution_count": null,
      "outputs": []
    },
    {
      "cell_type": "code",
      "metadata": {
        "id": "JdrmaSqjTwh9",
        "colab_type": "code",
        "colab": {}
      },
      "source": [
        "arquivo.readline()"
      ],
      "execution_count": null,
      "outputs": []
    },
    {
      "cell_type": "code",
      "metadata": {
        "id": "5oLpdNQ3UJd-",
        "colab_type": "code",
        "colab": {}
      },
      "source": [
        "arquivo.close()"
      ],
      "execution_count": null,
      "outputs": []
    },
    {
      "cell_type": "markdown",
      "metadata": {
        "id": "BgLHl_KtO4g1",
        "colab_type": "text"
      },
      "source": [
        "**Readlines()**"
      ]
    },
    {
      "cell_type": "code",
      "metadata": {
        "id": "sSzr4mGyO9Sy",
        "colab_type": "code",
        "colab": {}
      },
      "source": [
        "arquivo = open(\"palavras.txt\", 'r')\n",
        "arquivo.readlines()"
      ],
      "execution_count": null,
      "outputs": []
    },
    {
      "cell_type": "code",
      "metadata": {
        "id": "7e7WzrhQU2Lu",
        "colab_type": "code",
        "colab": {}
      },
      "source": [
        "arquivo.close()"
      ],
      "execution_count": null,
      "outputs": []
    },
    {
      "cell_type": "markdown",
      "metadata": {
        "id": "KGT9L0ZmY0gz",
        "colab_type": "text"
      },
      "source": [
        "### Lição 5: O comando with"
      ]
    },
    {
      "cell_type": "markdown",
      "metadata": {
        "id": "lE7htAOjVrOS",
        "colab_type": "text"
      },
      "source": [
        "**Sem with**"
      ]
    },
    {
      "cell_type": "code",
      "metadata": {
        "id": "U3I3CQzUY4oJ",
        "colab_type": "code",
        "colab": {}
      },
      "source": [
        "arquivo = open('palavras.txt', 'a'\u001c)\n",
        "arquivo.write('Ola mundo\\n')\n",
        "arquivo.close()"
      ],
      "execution_count": null,
      "outputs": []
    },
    {
      "cell_type": "code",
      "metadata": {
        "id": "hptZP0vp4BLn",
        "colab_type": "code",
        "colab": {}
      },
      "source": [
        "arquivo = open('palavras.txt', 'a')\n",
        "try:\n",
        "  arquivo.write('Ola mundo\\n')\n",
        "finally:\n",
        "  arquivo.close()"
      ],
      "execution_count": null,
      "outputs": []
    },
    {
      "cell_type": "markdown",
      "metadata": {
        "id": "mvEjzTPJVtMr",
        "colab_type": "text"
      },
      "source": [
        "**Com with**"
      ]
    },
    {
      "cell_type": "code",
      "metadata": {
        "id": "B9awYHKaVvuS",
        "colab_type": "code",
        "colab": {}
      },
      "source": [
        "with open('palavras.txt', \"r\") as arquivo:\n",
        "    for linha in arquivo:\n",
        "        print(linha)"
      ],
      "execution_count": null,
      "outputs": []
    },
    {
      "cell_type": "markdown",
      "metadata": {
        "id": "yxnr6fJKY5NK",
        "colab_type": "text"
      },
      "source": [
        "### Lição 7: Importando e lendo arquivos .csv"
      ]
    },
    {
      "cell_type": "markdown",
      "metadata": {
        "id": "EK8zJjU97GKj",
        "colab_type": "text"
      },
      "source": [
        "Para tratar com arquivos *.csv* o Python oferece uma biblioteca especial, chamda csv. "
      ]
    },
    {
      "cell_type": "code",
      "metadata": {
        "id": "QHB6UZ6-8Zr7",
        "colab_type": "code",
        "colab": {}
      },
      "source": [
        "import csv"
      ],
      "execution_count": null,
      "outputs": []
    },
    {
      "cell_type": "markdown",
      "metadata": {
        "id": "vAl3L2hT8YpP",
        "colab_type": "text"
      },
      "source": [
        "O tratamento desse tipo de arquivo normalmente é feito através do comando with, em que indicamos qual arquivo queremos abrir e, em seguida, usamos os métodos **reader** e **DictReader** para carregar o conteúdo do arquivo. "
      ]
    },
    {
      "cell_type": "markdown",
      "metadata": {
        "id": "TpgylMn_9225",
        "colab_type": "text"
      },
      "source": [
        "**Reader()**"
      ]
    },
    {
      "cell_type": "markdown",
      "metadata": {
        "id": "CUycHhD-95yC",
        "colab_type": "text"
      },
      "source": [
        "No *Reader* cada linha do arquivo csv é carregada em uma lista considerando os delimitadores que passamos como parâmetro."
      ]
    },
    {
      "cell_type": "code",
      "metadata": {
        "id": "4UCmkx2P60xO",
        "colab_type": "code",
        "colab": {}
      },
      "source": [
        "with open('setores.csv') as csvfile:\n",
        "    arq = csv.reader(csvfile, delimiter=',', lineterminator='\\n')\n",
        "    X = list(arq)\n",
        "    for l in arq:\n",
        "        print(l)"
      ],
      "execution_count": null,
      "outputs": []
    },
    {
      "cell_type": "markdown",
      "metadata": {
        "id": "HX6trWfxIX3K",
        "colab_type": "text"
      },
      "source": [
        "Uma maneira útil de carregar uum arquivo csv é armazená-lo em uma lista. Como cada linha do arquivo é reconhecido como uma lista, teremos, então, uma lista de listas."
      ]
    },
    {
      "cell_type": "code",
      "metadata": {
        "id": "FTnKC0GIY-wx",
        "colab_type": "code",
        "colab": {}
      },
      "source": [
        "with open('setores.csv', newline='\\n') as csvfile:\n",
        "    arq = csv.reader(csvfile, delimiter=',')\n",
        "    X = list(arq)\n",
        "X"
      ],
      "execution_count": null,
      "outputs": []
    },
    {
      "cell_type": "markdown",
      "metadata": {
        "id": "6Bnj6052J3qz",
        "colab_type": "text"
      },
      "source": [
        "Com isso podemos acessar o elementos do arquivo da seguinte forma"
      ]
    },
    {
      "cell_type": "code",
      "metadata": {
        "id": "wTZWDUo3KSlp",
        "colab_type": "code",
        "colab": {}
      },
      "source": [
        "X[1]"
      ],
      "execution_count": null,
      "outputs": []
    },
    {
      "cell_type": "code",
      "metadata": {
        "id": "9XcAcQmlKSZl",
        "colab_type": "code",
        "colab": {}
      },
      "source": [
        "X[1][2]"
      ],
      "execution_count": null,
      "outputs": []
    },
    {
      "cell_type": "markdown",
      "metadata": {
        "id": "UZVRK_sRKkKL",
        "colab_type": "text"
      },
      "source": [
        "**DictReader()**"
      ]
    },
    {
      "cell_type": "markdown",
      "metadata": {
        "id": "ivWlgsiSLGM7",
        "colab_type": "text"
      },
      "source": [
        "O *csv* também permite carregarmos as informações diretamente em um dicionário, através do **DictReader()**, em que as chaves são os valores da primeira linha do arquivo e os valores são uma lista com as coluunas de cada chave criada. "
      ]
    },
    {
      "cell_type": "code",
      "metadata": {
        "id": "NX4lmwoCKjmV",
        "colab_type": "code",
        "colab": {}
      },
      "source": [
        "with open('setores.csv', newline='\\n') as csvfile:\n",
        "    arq = csv.DictReader(csvfile, delimiter=',')\n",
        "    X = list(arq)\n",
        "    \n",
        "X"
      ],
      "execution_count": null,
      "outputs": []
    },
    {
      "cell_type": "markdown",
      "metadata": {
        "id": "dNfJKH1eY_kI",
        "colab_type": "text"
      },
      "source": [
        "### Lição 8: Escrevendo em arquivos .csv"
      ]
    },
    {
      "cell_type": "markdown",
      "metadata": {
        "id": "rsRxGM2cMzuD",
        "colab_type": "text"
      },
      "source": [
        "Para escrever em arquivos .csv, a biblioteca oferece métodos com **Writerow()** e **Writerows()**"
      ]
    },
    {
      "cell_type": "markdown",
      "metadata": {
        "id": "C0nI2EaWNraG",
        "colab_type": "text"
      },
      "source": [
        "Para conseguirmos escrever devemos fazer o seguinte:"
      ]
    },
    {
      "cell_type": "code",
      "metadata": {
        "id": "NFCHpv3RZGLG",
        "colab_type": "code",
        "colab": {}
      },
      "source": [
        "with open('infs.csv', 'w') as csvfile:\n",
        "    arq = csv.writer(csvfile, delimiter=',')"
      ],
      "execution_count": null,
      "outputs": []
    },
    {
      "cell_type": "markdown",
      "metadata": {
        "id": "SilXJZTbN_X5",
        "colab_type": "text"
      },
      "source": [
        "**Writerow()**\n",
        " > No comando writerow podemos escrever um conjunto de informações diretamene em uma linha do arquivo de destino a partir de um objeto iterável."
      ]
    },
    {
      "cell_type": "code",
      "metadata": {
        "id": "ltwUKpLwON2_",
        "colab_type": "code",
        "colab": {}
      },
      "source": [
        "cabecalho = ['nome', 'sobrenome', 'email', 'nota']\n",
        "with open('infs.csv', 'w') as csvfile:\n",
        "    arq = csv.writer(csvfile, delimiter=',')\n",
        "    arq.writerow(cabecalho)"
      ],
      "execution_count": null,
      "outputs": []
    },
    {
      "cell_type": "markdown",
      "metadata": {
        "id": "GkrTP2-NO8WZ",
        "colab_type": "text"
      },
      "source": [
        "> Para adicionarmos um conteúdo referente ao cabeçalho que construimos, basta passarmos uma lista contendo as informações de acordo com o cabeçalho."
      ]
    },
    {
      "cell_type": "code",
      "metadata": {
        "id": "Vhs_f0fJZKbx",
        "colab_type": "code",
        "colab": {}
      },
      "source": [
        "inf1 = ['João', 'Silva', 'joaosilva@email.com', 10]\n",
        "with open('infs.csv', 'w') as csvfile:\n",
        "    arq = csv.writer(csvfile, delimiter=',')\n",
        "    arq.writerow(cabecalho)\n",
        "    arq.writerow(inf1)"
      ],
      "execution_count": null,
      "outputs": []
    },
    {
      "cell_type": "markdown",
      "metadata": {
        "id": "g0dfkShtPT8N",
        "colab_type": "text"
      },
      "source": [
        "**Writerows()**"
      ]
    },
    {
      "cell_type": "markdown",
      "metadata": {
        "id": "Z3z_hUKKPwPk",
        "colab_type": "text"
      },
      "source": [
        "> Com o writerows podemos escrever um conjunto de linhas no arquivo, ao invés de ter que criar um objeto (lista, tupla, etc) e ir adicionando um por um. "
      ]
    },
    {
      "cell_type": "code",
      "metadata": {
        "id": "sIoNe3SrPNGR",
        "colab_type": "code",
        "colab": {}
      },
      "source": [
        "inf = [['João', 'Silva', 'joaosilva@email.com', 9], ['Maria', 'Souza', 'mariasouza@email.com', 10]]\n",
        "with open('infs.csv', 'w') as csvfile:\n",
        "    arq = csv.writer(csvfile, delimiter=',')\n",
        "    arq.writerow(cabecalho)\n",
        "    arq.writerows(inf)"
      ],
      "execution_count": null,
      "outputs": []
    },
    {
      "cell_type": "markdown",
      "metadata": {
        "id": "hOynXbRuSUKB",
        "colab_type": "text"
      },
      "source": [
        "**DictWriter()**"
      ]
    },
    {
      "cell_type": "markdown",
      "metadata": {
        "id": "MKs41j-qn5zz",
        "colab_type": "text"
      },
      "source": [
        "É um método usado para criar um objeto que funciona como um gravador comum, mas mapeia dicionários em linhas de saída."
      ]
    },
    {
      "cell_type": "code",
      "metadata": {
        "id": "6-5Ml8FMSQEa",
        "colab_type": "code",
        "colab": {}
      },
      "source": [
        "with open('nomes.csv', 'w', newline='') as csvfile:\n",
        "    fieldnames = ['primeiro_nome', 'ultimo_nome']\n",
        "    writer = csv.DictWriter(csvfile, fieldnames=fieldnames)\n",
        "\n",
        "    writer.writeheader()\n",
        "    writer.writerow({'primeiro_nome': 'João', 'ultimo_nome': 'Silva'})\n",
        "    writer.writerow({'primeiro_nome': 'Maria', 'ultimo_nome': 'Souza'})\n",
        "    writer.writerow({'primeiro_nome': 'José', 'ultimo_nome': 'Santos'})"
      ],
      "execution_count": null,
      "outputs": []
    },
    {
      "cell_type": "markdown",
      "metadata": {
        "id": "5Y0ovH8vU6gO",
        "colab_type": "text"
      },
      "source": [
        "## Módulo 5: Conhecendo os Arrays\n",
        "\n"
      ]
    },
    {
      "cell_type": "markdown",
      "metadata": {
        "id": "gzxVtNZsEI1w",
        "colab_type": "text"
      },
      "source": [
        "### Lição 1: O que é o Numpy?\n"
      ]
    },
    {
      "cell_type": "markdown",
      "metadata": {
        "id": "PpHsue7uEr7p",
        "colab_type": "text"
      },
      "source": [
        "Teórico"
      ]
    },
    {
      "cell_type": "markdown",
      "metadata": {
        "id": "-a8DHNzuVPi3",
        "colab_type": "text"
      },
      "source": [
        "### Lição 2: Relação entre listas e arrays"
      ]
    },
    {
      "cell_type": "markdown",
      "metadata": {
        "id": "FHN5AlK_EyVL",
        "colab_type": "text"
      },
      "source": [
        "#### Parte 1: Tempo de processamento"
      ]
    },
    {
      "cell_type": "markdown",
      "metadata": {
        "id": "S9pqHeOQXreO",
        "colab_type": "text"
      },
      "source": [
        "Assim como as bibliotecas que vimos anteriormente, como *math*, *csv*, antes de usar o **Numpy** devemos importá-lo para nosso código. É um consenso usarmos o \"apelido\" np ao importarmos a biblioteca"
      ]
    },
    {
      "cell_type": "code",
      "metadata": {
        "id": "cIMliyuyVN_O",
        "colab_type": "code",
        "colab": {}
      },
      "source": [
        "import numpy as np"
      ],
      "execution_count": null,
      "outputs": []
    },
    {
      "cell_type": "markdown",
      "metadata": {
        "id": "Dy8Ex37IYP4p",
        "colab_type": "text"
      },
      "source": [
        "Vejamos, na prática, como o ndarray consegue ser mais eficiente do que as listas:"
      ]
    },
    {
      "cell_type": "code",
      "metadata": {
        "id": "fDNw1_jQasm2",
        "colab_type": "code",
        "colab": {}
      },
      "source": [
        "import time\n",
        "l = 10000000"
      ],
      "execution_count": null,
      "outputs": []
    },
    {
      "cell_type": "markdown",
      "metadata": {
        "id": "xqo8jq4waau2",
        "colab_type": "text"
      },
      "source": [
        "> Usando listas nativas do Python"
      ]
    },
    {
      "cell_type": "code",
      "metadata": {
        "id": "DUvwDQDeYOwJ",
        "colab_type": "code",
        "colab": {}
      },
      "source": [
        "start = time.time()\n",
        "a, b = range(l), range(l)\n",
        "c = []\n",
        "\n",
        "for i in a:\n",
        "  c.append(a[i] * b[i])\n",
        "\n",
        "t = time.time() - start\n",
        "\n",
        "print(\"Tempo: {}\".format(t))"
      ],
      "execution_count": null,
      "outputs": []
    },
    {
      "cell_type": "markdown",
      "metadata": {
        "id": "-Gx8p0zvai3_",
        "colab_type": "text"
      },
      "source": [
        "> Usando o Numpy array"
      ]
    },
    {
      "cell_type": "code",
      "metadata": {
        "id": "mT_yD6ZsanEG",
        "colab_type": "code",
        "colab": {}
      },
      "source": [
        "start = time.time()\n",
        "a = np.arange(l)\n",
        "b = np.arange(l)\n",
        "\n",
        "c = a * b\n",
        "\n",
        "t = time.time() - start\n",
        "\n",
        "print(\"Tempo: {}\".format(t))"
      ],
      "execution_count": null,
      "outputs": []
    },
    {
      "cell_type": "markdown",
      "metadata": {
        "id": "17iShecTbGAO",
        "colab_type": "text"
      },
      "source": [
        "Com isso, podemos perceber que o tempo de processamento usando o Numpy Array é muito menor do que usando a lista nativa do Python."
      ]
    },
    {
      "cell_type": "markdown",
      "metadata": {
        "id": "q5i0nDyHFE_C",
        "colab_type": "text"
      },
      "source": [
        "#### Parte 2: Semelhanças entre lisas e arrays"
      ]
    },
    {
      "cell_type": "markdown",
      "metadata": {
        "id": "pDCXw2gEJyAY",
        "colab_type": "text"
      },
      "source": [
        "Antes de vermos as diferenças e semelhanças entre listas e arrays, vamos ver como transformar uma lista em um array. Para isso vamos usar o método *array* do Numpy. \n",
        "\n",
        "Com esse método podemos passar tanto uma variável que guarda uma lista, quanto uma lista propriamente dita. "
      ]
    },
    {
      "cell_type": "code",
      "metadata": {
        "id": "Z5kv16gu9bo8",
        "colab_type": "code",
        "colab": {}
      },
      "source": [
        "lista = [5,6,7,8,9]"
      ],
      "execution_count": null,
      "outputs": []
    },
    {
      "cell_type": "code",
      "metadata": {
        "id": "fzcdgh7RgA3u",
        "colab_type": "code",
        "colab": {
          "base_uri": "https://localhost:8080/",
          "height": 34
        },
        "outputId": "d1bc506c-9a2a-4eba-ba90-4f3992881848"
      },
      "source": [
        "array = np.array([0,1,2,3,4])\n",
        "array"
      ],
      "execution_count": null,
      "outputs": [
        {
          "output_type": "execute_result",
          "data": {
            "text/plain": [
              "array([0, 1, 2, 3, 4])"
            ]
          },
          "metadata": {
            "tags": []
          },
          "execution_count": 4
        }
      ]
    },
    {
      "cell_type": "code",
      "metadata": {
        "id": "Qzqd4FsM-g1u",
        "colab_type": "code",
        "colab": {
          "base_uri": "https://localhost:8080/",
          "height": 34
        },
        "outputId": "7d335c53-b7dd-44f1-e4ca-b47d6aad6269"
      },
      "source": [
        "array2 = np.array(lista)\n",
        "array2"
      ],
      "execution_count": null,
      "outputs": [
        {
          "output_type": "execute_result",
          "data": {
            "text/plain": [
              "array([5, 6, 7, 8, 9])"
            ]
          },
          "metadata": {
            "tags": []
          },
          "execution_count": 5
        }
      ]
    },
    {
      "cell_type": "markdown",
      "metadata": {
        "id": "2WkNFGRT6oQb",
        "colab_type": "text"
      },
      "source": [
        "O acesso das listas e dos arrays é praticamente igual. Ambos são feitos através de **objeto [índice]**"
      ]
    },
    {
      "cell_type": "code",
      "metadata": {
        "id": "sZWSjcwHzL_J",
        "colab_type": "code",
        "colab": {
          "base_uri": "https://localhost:8080/",
          "height": 51
        },
        "outputId": "839d75f4-55eb-49ae-9720-c05b6cbe667f"
      },
      "source": [
        "print(lista[0])\n",
        "print(lista[3])"
      ],
      "execution_count": null,
      "outputs": [
        {
          "output_type": "stream",
          "text": [
            "5\n",
            "8\n"
          ],
          "name": "stdout"
        }
      ]
    },
    {
      "cell_type": "code",
      "metadata": {
        "id": "K2peWtOGFibF",
        "colab_type": "code",
        "colab": {
          "base_uri": "https://localhost:8080/",
          "height": 51
        },
        "outputId": "2b931ed9-d185-4502-d04f-c8de687cc978"
      },
      "source": [
        "print(array[0])\n",
        "print(array[-1])"
      ],
      "execution_count": null,
      "outputs": [
        {
          "output_type": "stream",
          "text": [
            "0\n",
            "4\n"
          ],
          "name": "stdout"
        }
      ]
    },
    {
      "cell_type": "markdown",
      "metadata": {
        "id": "coAvNbt38FQV",
        "colab_type": "text"
      },
      "source": [
        "Além do acesso, podemos usar as funções nativas em cima desses arrays, como *type* e *len*"
      ]
    },
    {
      "cell_type": "code",
      "metadata": {
        "id": "bUA3l0e-6DjT",
        "colab_type": "code",
        "colab": {
          "base_uri": "https://localhost:8080/",
          "height": 51
        },
        "outputId": "dcc1f754-a582-4fcd-e406-cc0aca667eaa"
      },
      "source": [
        "print(len(array))\n",
        "print(type(array))"
      ],
      "execution_count": null,
      "outputs": [
        {
          "output_type": "stream",
          "text": [
            "5\n",
            "<class 'numpy.ndarray'>\n"
          ],
          "name": "stdout"
        }
      ]
    },
    {
      "cell_type": "markdown",
      "metadata": {
        "id": "ekGmv0gUOqgJ",
        "colab_type": "text"
      },
      "source": [
        "#### Parte 3: Operadores"
      ]
    },
    {
      "cell_type": "markdown",
      "metadata": {
        "id": "zewGro5J9cp9",
        "colab_type": "text"
      },
      "source": [
        "A principal diferença entre essas duas estruturas é a forma que eles são manipulados. Devido a característica de *vetorização* dos arrays, quando fazemos uma operação essa é aplicada em cada item do array.\n",
        "\n",
        "Observe, abaixo, que os itens do array não são separados por vírgulas"
      ]
    },
    {
      "cell_type": "code",
      "metadata": {
        "id": "0Gcs6NZH_ypH",
        "colab_type": "code",
        "colab": {
          "base_uri": "https://localhost:8080/",
          "height": 51
        },
        "outputId": "ca533a9d-f910-4523-a6df-6a177590e731"
      },
      "source": [
        "lista = [10, 4, 16, 15, 100]\n",
        "array = np.array(lista)\n",
        "\n",
        "print(lista)\n",
        "print(array)"
      ],
      "execution_count": null,
      "outputs": [
        {
          "output_type": "stream",
          "text": [
            "[10, 4, 16, 15, 100]\n",
            "[ 10   4  16  15 100]\n"
          ],
          "name": "stdout"
        }
      ]
    },
    {
      "cell_type": "markdown",
      "metadata": {
        "id": "ovWSqni-z8gd",
        "colab_type": "text"
      },
      "source": [
        "**Operadores de soma (+) e subtração (-)**"
      ]
    },
    {
      "cell_type": "markdown",
      "metadata": {
        "id": "f89vJNfh_qNH",
        "colab_type": "text"
      },
      "source": [
        " > Lista"
      ]
    },
    {
      "cell_type": "markdown",
      "metadata": {
        "id": "Ek4zVnG2HLUU",
        "colab_type": "text"
      },
      "source": [
        "Nas listas, o operador **+** traz a a ideia de concatenação, quando feito entre duas listas, e o operador **-** não pode ser executado."
      ]
    },
    {
      "cell_type": "code",
      "metadata": {
        "id": "iu3yjPNbzXun",
        "colab_type": "code",
        "colab": {
          "base_uri": "https://localhost:8080/",
          "height": 34
        },
        "outputId": "d464c91c-17d1-46c3-85f0-40773d15b1db"
      },
      "source": [
        "lista1 = [1,2,3,4,5]\n",
        "lista2 = [6,7,8,9,10]\n",
        "\n",
        "lista1 + lista2"
      ],
      "execution_count": null,
      "outputs": [
        {
          "output_type": "execute_result",
          "data": {
            "text/plain": [
              "[1, 2, 3, 4, 5, 6, 7, 8, 9, 10]"
            ]
          },
          "metadata": {
            "tags": []
          },
          "execution_count": 10
        }
      ]
    },
    {
      "cell_type": "code",
      "metadata": {
        "id": "dtP4k87lGQuR",
        "colab_type": "code",
        "colab": {}
      },
      "source": [
        "lista1 - lista2"
      ],
      "execution_count": null,
      "outputs": []
    },
    {
      "cell_type": "markdown",
      "metadata": {
        "id": "ScLcZC3mIXi0",
        "colab_type": "text"
      },
      "source": [
        "A estrutura lista também não suporta a soma com um escalar"
      ]
    },
    {
      "cell_type": "code",
      "metadata": {
        "id": "EBGhU2JmIhRC",
        "colab_type": "code",
        "colab": {
          "base_uri": "https://localhost:8080/",
          "height": 164
        },
        "outputId": "0a93b272-8ea8-4ba2-925b-2c9c265cdb0b"
      },
      "source": [
        "lista1 + 3"
      ],
      "execution_count": null,
      "outputs": [
        {
          "output_type": "error",
          "ename": "TypeError",
          "evalue": "ignored",
          "traceback": [
            "\u001b[0;31m---------------------------------------------------------------------------\u001b[0m",
            "\u001b[0;31mTypeError\u001b[0m                                 Traceback (most recent call last)",
            "\u001b[0;32m<ipython-input-11-d2a82519ba04>\u001b[0m in \u001b[0;36m<module>\u001b[0;34m()\u001b[0m\n\u001b[0;32m----> 1\u001b[0;31m \u001b[0mlista1\u001b[0m \u001b[0;34m+\u001b[0m \u001b[0;36m3\u001b[0m\u001b[0;34m\u001b[0m\u001b[0;34m\u001b[0m\u001b[0m\n\u001b[0m",
            "\u001b[0;31mTypeError\u001b[0m: can only concatenate list (not \"int\") to list"
          ]
        }
      ]
    },
    {
      "cell_type": "markdown",
      "metadata": {
        "id": "ukCfYebI_sQm",
        "colab_type": "text"
      },
      "source": [
        "> Array"
      ]
    },
    {
      "cell_type": "markdown",
      "metadata": {
        "id": "ZdYldlV_Ikou",
        "colab_type": "text"
      },
      "source": [
        "Ao contrário das listas, os arrays enxergam os operadores **+** e **-** como soma e subtração. "
      ]
    },
    {
      "cell_type": "code",
      "metadata": {
        "id": "MsJmUUef_uNP",
        "colab_type": "code",
        "colab": {
          "base_uri": "https://localhost:8080/",
          "height": 68
        },
        "outputId": "99e41b39-4f47-4a1f-a3a2-d77a5ffed230"
      },
      "source": [
        "array1 = np.array(lista1)\n",
        "array2 = np.array(lista2)\n",
        "\n",
        "print(array1)\n",
        "print(array2)\n",
        "array1 + array2"
      ],
      "execution_count": null,
      "outputs": [
        {
          "output_type": "stream",
          "text": [
            "[1 2 3 4 5]\n",
            "[ 6  7  8  9 10]\n"
          ],
          "name": "stdout"
        },
        {
          "output_type": "execute_result",
          "data": {
            "text/plain": [
              "array([ 7,  9, 11, 13, 15])"
            ]
          },
          "metadata": {
            "tags": []
          },
          "execution_count": 12
        }
      ]
    },
    {
      "cell_type": "code",
      "metadata": {
        "id": "UDFJfckCKEGu",
        "colab_type": "code",
        "colab": {
          "base_uri": "https://localhost:8080/",
          "height": 34
        },
        "outputId": "134ba9c4-564b-48d8-f8cc-1ffa76b33692"
      },
      "source": [
        "array1 - array2"
      ],
      "execution_count": null,
      "outputs": [
        {
          "output_type": "execute_result",
          "data": {
            "text/plain": [
              "array([-5, -5, -5, -5, -5])"
            ]
          },
          "metadata": {
            "tags": []
          },
          "execution_count": 13
        }
      ]
    },
    {
      "cell_type": "markdown",
      "metadata": {
        "id": "yPGtgCMAKNfh",
        "colab_type": "text"
      },
      "source": [
        "Também podemos usar essas operações para somar ou subtrair um escalar em cada elemento"
      ]
    },
    {
      "cell_type": "code",
      "metadata": {
        "id": "_HWXqFvkKMiQ",
        "colab_type": "code",
        "colab": {
          "base_uri": "https://localhost:8080/",
          "height": 34
        },
        "outputId": "5e50ee17-5881-4296-a8ff-0c0e57f81890"
      },
      "source": [
        "array1 + 10"
      ],
      "execution_count": null,
      "outputs": [
        {
          "output_type": "execute_result",
          "data": {
            "text/plain": [
              "array([11, 12, 13, 14, 15])"
            ]
          },
          "metadata": {
            "tags": []
          },
          "execution_count": 14
        }
      ]
    },
    {
      "cell_type": "code",
      "metadata": {
        "id": "gXdpJ0mXLImn",
        "colab_type": "code",
        "colab": {
          "base_uri": "https://localhost:8080/",
          "height": 34
        },
        "outputId": "f2e2c65f-9602-4028-93f2-45acafc2bb36"
      },
      "source": [
        "array2 - 3"
      ],
      "execution_count": null,
      "outputs": [
        {
          "output_type": "execute_result",
          "data": {
            "text/plain": [
              "array([3, 4, 5, 6, 7])"
            ]
          },
          "metadata": {
            "tags": []
          },
          "execution_count": 15
        }
      ]
    },
    {
      "cell_type": "markdown",
      "metadata": {
        "id": "gWXOmuwl5toK",
        "colab_type": "text"
      },
      "source": [
        "**Operadores de multiplicação (*) e divisao (/)**"
      ]
    },
    {
      "cell_type": "markdown",
      "metadata": {
        "id": "sgG4f-MdLPPj",
        "colab_type": "text"
      },
      "source": [
        "> Lista"
      ]
    },
    {
      "cell_type": "markdown",
      "metadata": {
        "id": "uLjuG-B4LcT_",
        "colab_type": "text"
      },
      "source": [
        "Nas listas o operador * traz a ideia de repeticão, enquanto o operador **/** não pode ser executado"
      ]
    },
    {
      "cell_type": "code",
      "metadata": {
        "id": "UhlXpVvD6c4N",
        "colab_type": "code",
        "colab": {
          "base_uri": "https://localhost:8080/",
          "height": 34
        },
        "outputId": "829695c0-b1b4-47ed-8480-dd1f8a9fea08"
      },
      "source": [
        "lista1 * 3"
      ],
      "execution_count": null,
      "outputs": [
        {
          "output_type": "execute_result",
          "data": {
            "text/plain": [
              "[1, 2, 3, 4, 5, 1, 2, 3, 4, 5, 1, 2, 3, 4, 5]"
            ]
          },
          "metadata": {
            "tags": []
          },
          "execution_count": 16
        }
      ]
    },
    {
      "cell_type": "code",
      "metadata": {
        "id": "QC9byQQbM1Oi",
        "colab_type": "code",
        "colab": {
          "base_uri": "https://localhost:8080/",
          "height": 164
        },
        "outputId": "040c9ab3-77f0-46f2-c5c9-461b60ea91dd"
      },
      "source": [
        "lista2 / 3"
      ],
      "execution_count": null,
      "outputs": [
        {
          "output_type": "error",
          "ename": "TypeError",
          "evalue": "ignored",
          "traceback": [
            "\u001b[0;31m---------------------------------------------------------------------------\u001b[0m",
            "\u001b[0;31mTypeError\u001b[0m                                 Traceback (most recent call last)",
            "\u001b[0;32m<ipython-input-17-5f7e225f009f>\u001b[0m in \u001b[0;36m<module>\u001b[0;34m()\u001b[0m\n\u001b[0;32m----> 1\u001b[0;31m \u001b[0mlista2\u001b[0m \u001b[0;34m/\u001b[0m \u001b[0;36m3\u001b[0m\u001b[0;34m\u001b[0m\u001b[0;34m\u001b[0m\u001b[0m\n\u001b[0m",
            "\u001b[0;31mTypeError\u001b[0m: unsupported operand type(s) for /: 'list' and 'int'"
          ]
        }
      ]
    },
    {
      "cell_type": "markdown",
      "metadata": {
        "id": "HlQ5egooNIzv",
        "colab_type": "text"
      },
      "source": [
        "É importante ressaltar que não podemos \"multiplicar\" uma lista por outra"
      ]
    },
    {
      "cell_type": "code",
      "metadata": {
        "id": "wLj0fggmNFja",
        "colab_type": "code",
        "colab": {
          "base_uri": "https://localhost:8080/",
          "height": 164
        },
        "outputId": "c8a705c1-2cc8-40ed-c77d-64f7fd6903cf"
      },
      "source": [
        "lista1 * lista2"
      ],
      "execution_count": null,
      "outputs": [
        {
          "output_type": "error",
          "ename": "TypeError",
          "evalue": "ignored",
          "traceback": [
            "\u001b[0;31m---------------------------------------------------------------------------\u001b[0m",
            "\u001b[0;31mTypeError\u001b[0m                                 Traceback (most recent call last)",
            "\u001b[0;32m<ipython-input-18-bdc71fc189af>\u001b[0m in \u001b[0;36m<module>\u001b[0;34m()\u001b[0m\n\u001b[0;32m----> 1\u001b[0;31m \u001b[0mlista1\u001b[0m \u001b[0;34m*\u001b[0m \u001b[0mlista2\u001b[0m\u001b[0;34m\u001b[0m\u001b[0;34m\u001b[0m\u001b[0m\n\u001b[0m",
            "\u001b[0;31mTypeError\u001b[0m: can't multiply sequence by non-int of type 'list'"
          ]
        }
      ]
    },
    {
      "cell_type": "markdown",
      "metadata": {
        "id": "0bJEWyF2LRyP",
        "colab_type": "text"
      },
      "source": [
        "> Array"
      ]
    },
    {
      "cell_type": "markdown",
      "metadata": {
        "id": "Kd0FZUFxM4Z2",
        "colab_type": "text"
      },
      "source": [
        "Os operadores * e / funcionarão da mesma forma que + e -."
      ]
    },
    {
      "cell_type": "code",
      "metadata": {
        "id": "J9_hOTq_NjpF",
        "colab_type": "code",
        "colab": {
          "base_uri": "https://localhost:8080/",
          "height": 34
        },
        "outputId": "04efb352-ae5b-48ae-a1bc-c595dab5900a"
      },
      "source": [
        "array1 * 2"
      ],
      "execution_count": null,
      "outputs": [
        {
          "output_type": "execute_result",
          "data": {
            "text/plain": [
              "array([ 2,  4,  6,  8, 10])"
            ]
          },
          "metadata": {
            "tags": []
          },
          "execution_count": 19
        }
      ]
    },
    {
      "cell_type": "code",
      "metadata": {
        "id": "9qei3aDwM4xu",
        "colab_type": "code",
        "colab": {
          "base_uri": "https://localhost:8080/",
          "height": 34
        },
        "outputId": "9a7f1dbe-b839-4187-ee24-ac3e0ae1f12c"
      },
      "source": [
        "array1 / 4"
      ],
      "execution_count": null,
      "outputs": [
        {
          "output_type": "execute_result",
          "data": {
            "text/plain": [
              "array([0.25, 0.5 , 0.75, 1.  , 1.25])"
            ]
          },
          "metadata": {
            "tags": []
          },
          "execution_count": 20
        }
      ]
    },
    {
      "cell_type": "code",
      "metadata": {
        "id": "4puIxZFuOPAb",
        "colab_type": "code",
        "colab": {
          "base_uri": "https://localhost:8080/",
          "height": 34
        },
        "outputId": "14be14de-14d9-44b2-cf96-70bfb26e2fc7"
      },
      "source": [
        "array1 * array2"
      ],
      "execution_count": null,
      "outputs": [
        {
          "output_type": "execute_result",
          "data": {
            "text/plain": [
              "array([ 6, 14, 24, 36, 50])"
            ]
          },
          "metadata": {
            "tags": []
          },
          "execution_count": 21
        }
      ]
    },
    {
      "cell_type": "markdown",
      "metadata": {
        "id": "85TJlHDJkmDK",
        "colab_type": "text"
      },
      "source": [
        "Podemos, também, a função nativa *pow* ou o operador ** "
      ]
    },
    {
      "cell_type": "code",
      "metadata": {
        "id": "MvrDlwaCkqVl",
        "colab_type": "code",
        "colab": {
          "base_uri": "https://localhost:8080/",
          "height": 232
        },
        "outputId": "9b970395-091f-4768-b7f7-db5b50cd7362"
      },
      "source": [
        "print(array1)\n",
        "print(array1 **2)\n",
        "print(lista1 ** 2)"
      ],
      "execution_count": null,
      "outputs": [
        {
          "output_type": "stream",
          "text": [
            "[1 2 3 4 5]\n",
            "[ 1  4  9 16 25]\n"
          ],
          "name": "stdout"
        },
        {
          "output_type": "error",
          "ename": "TypeError",
          "evalue": "ignored",
          "traceback": [
            "\u001b[0;31m---------------------------------------------------------------------------\u001b[0m",
            "\u001b[0;31mTypeError\u001b[0m                                 Traceback (most recent call last)",
            "\u001b[0;32m<ipython-input-22-5161f1dd87bc>\u001b[0m in \u001b[0;36m<module>\u001b[0;34m()\u001b[0m\n\u001b[1;32m      1\u001b[0m \u001b[0mprint\u001b[0m\u001b[0;34m(\u001b[0m\u001b[0marray1\u001b[0m\u001b[0;34m)\u001b[0m\u001b[0;34m\u001b[0m\u001b[0;34m\u001b[0m\u001b[0m\n\u001b[1;32m      2\u001b[0m \u001b[0mprint\u001b[0m\u001b[0;34m(\u001b[0m\u001b[0marray1\u001b[0m \u001b[0;34m**\u001b[0m\u001b[0;36m2\u001b[0m\u001b[0;34m)\u001b[0m\u001b[0;34m\u001b[0m\u001b[0;34m\u001b[0m\u001b[0m\n\u001b[0;32m----> 3\u001b[0;31m \u001b[0mprint\u001b[0m\u001b[0;34m(\u001b[0m\u001b[0mlista1\u001b[0m \u001b[0;34m**\u001b[0m \u001b[0;36m2\u001b[0m\u001b[0;34m)\u001b[0m\u001b[0;34m\u001b[0m\u001b[0;34m\u001b[0m\u001b[0m\n\u001b[0m",
            "\u001b[0;31mTypeError\u001b[0m: unsupported operand type(s) for ** or pow(): 'list' and 'int'"
          ]
        }
      ]
    },
    {
      "cell_type": "markdown",
      "metadata": {
        "id": "GrYqeb8zHuft",
        "colab_type": "text"
      },
      "source": [
        "**Função lambda**"
      ]
    },
    {
      "cell_type": "markdown",
      "metadata": {
        "id": "Qib636jIH98L",
        "colab_type": "text"
      },
      "source": [
        "Por último devemos ressaltar a facilidade que o array traz por podermos utilizar uma função *lambda* diretamente no seus elementos, dispensandi estruturas de repetição"
      ]
    },
    {
      "cell_type": "code",
      "metadata": {
        "id": "tbsMGE4_Hu1y",
        "colab_type": "code",
        "colab": {
          "base_uri": "https://localhost:8080/",
          "height": 50
        },
        "outputId": "4e572334-680d-484f-bbca-9db56f5f127c"
      },
      "source": [
        "f = lambda x: x**(2) + 2*x - x\n",
        "\n",
        "print(f(array1))\n",
        "print(f(array2))\n",
        "print(f(lista1)) #gera um erro de execução"
      ],
      "execution_count": null,
      "outputs": [
        {
          "output_type": "stream",
          "text": [
            "[ 2  6 12 20 30]\n",
            "[ 42  56  72  90 110]\n"
          ],
          "name": "stdout"
        }
      ]
    },
    {
      "cell_type": "markdown",
      "metadata": {
        "id": "RC5miDJXRFPE",
        "colab_type": "text"
      },
      "source": [
        "Repare que para aplicar a função lambda f em uma lista, poderíamos utilizar o *map* que estudamos anteriormente. "
      ]
    },
    {
      "cell_type": "code",
      "metadata": {
        "id": "KTtmAqmhRXEh",
        "colab_type": "code",
        "colab": {
          "base_uri": "https://localhost:8080/",
          "height": 34
        },
        "outputId": "7464f670-bb79-4543-aa4f-bdb67dee696f"
      },
      "source": [
        "m = map(f, lista1)\n",
        "print(list(m))"
      ],
      "execution_count": null,
      "outputs": [
        {
          "output_type": "stream",
          "text": [
            "[2, 6, 12, 20, 30]\n"
          ],
          "name": "stdout"
        }
      ]
    },
    {
      "cell_type": "markdown",
      "metadata": {
        "id": "apUgk1mfVyBq",
        "colab_type": "text"
      },
      "source": [
        "### Lição 3: O Numpy array"
      ]
    },
    {
      "cell_type": "markdown",
      "metadata": {
        "id": "1kv6-qfuO_y5",
        "colab_type": "text"
      },
      "source": [
        "#### Parte 1: Arrays de uma dimensão"
      ]
    },
    {
      "cell_type": "markdown",
      "metadata": {
        "id": "Sm2TTO1lSjkO",
        "colab_type": "text"
      },
      "source": [
        "Como falamos os arrays podem ter *N* dimensões. Por agora, veremos como construir e lidar apenas com arrays de uma dimensão"
      ]
    },
    {
      "cell_type": "markdown",
      "metadata": {
        "id": "ZD4CxErQUfyJ",
        "colab_type": "text"
      },
      "source": [
        "Como vimos anteriormente, podemos criar arrays a partir de listas e tuplas com a ajuda do método **array()**. Através dele, vamos criar o array com os preços das blusa"
      ]
    },
    {
      "cell_type": "markdown",
      "metadata": {
        "id": "HuYTem7ZLRRs",
        "colab_type": "text"
      },
      "source": [
        "<style type=\"text/css\">\n",
        ".tg  {border-collapse:collapse;border-spacing:0;}\n",
        ".tg td{border-color:black;border-style:solid;border-width:1px;font-family:Arial, sans-serif;font-size:14px;\n",
        "  overflow:hidden;padding:10px 5px;word-break:normal;}\n",
        ".tg th{border-color:black;border-style:solid;border-width:1px;font-family:Arial, sans-serif;font-size:14px;\n",
        "  font-weight:normal;overflow:hidden;padding:10px 5px;word-break:normal;}\n",
        ".tg .tg-c3ow{border-color:inherit;text-align:center;vertical-align:top}\n",
        "</style>\n",
        "<table class=\"tg\">\n",
        "<tbody>\n",
        "  <tr>\n",
        "    <td class=\"tg-c3ow\">149,99</td>\n",
        "    <td class=\"tg-c3ow\">79,90</td>\n",
        "    <td class=\"tg-c3ow\">39,99</td>\n",
        "    <td class=\"tg-c3ow\">250,0</td>\n",
        "    <td class=\"tg-c3ow\">99,90</td>\n",
        "  </tr>\n",
        "</tbody>\n",
        "</table>"
      ]
    },
    {
      "cell_type": "code",
      "metadata": {
        "id": "9IzgU3uXV780",
        "colab_type": "code",
        "colab": {
          "base_uri": "https://localhost:8080/",
          "height": 34
        },
        "outputId": "922edf03-057e-4134-f535-578cbc7940ce"
      },
      "source": [
        "precos = np.array([149.99,79.90,39.99,250,99.90])\n",
        "precos"
      ],
      "execution_count": null,
      "outputs": [
        {
          "output_type": "execute_result",
          "data": {
            "text/plain": [
              "array([149.99,  79.9 ,  39.99, 250.  ,  99.9 ])"
            ]
          },
          "metadata": {
            "tags": []
          },
          "execution_count": 2
        }
      ]
    },
    {
      "cell_type": "markdown",
      "metadata": {
        "id": "GUGony4xMfbO",
        "colab_type": "text"
      },
      "source": [
        "Com esse método np.array podemos definir qual o tipo de dados que queremos no nosso array a partir do dtype. Se quisessemos, por exemplo, apenas preços inteiros podemos fazer o seguinte"
      ]
    },
    {
      "cell_type": "code",
      "metadata": {
        "id": "YloAk4FVK4xc",
        "colab_type": "code",
        "colab": {
          "base_uri": "https://localhost:8080/",
          "height": 34
        },
        "outputId": "4f8a8c95-2bcd-4368-96a2-088f2fda99a7"
      },
      "source": [
        "precos2 = np.array([149.99,79.90,39.99,250,99.90], dtype=int)\n",
        "precos2"
      ],
      "execution_count": null,
      "outputs": [
        {
          "output_type": "execute_result",
          "data": {
            "text/plain": [
              "array([149,  79,  39, 250,  99])"
            ]
          },
          "metadata": {
            "tags": []
          },
          "execution_count": 24
        }
      ]
    },
    {
      "cell_type": "markdown",
      "metadata": {
        "id": "XGF5cSv23GDG",
        "colab_type": "text"
      },
      "source": [
        "Além do dtype int que mostramos acima, podemos colocar tipos de dados *'int32'*, *'float64'*, etc. Esse tipos demarcam o tamanho dos tipos das variáveis que estarão dentro do nosso array."
      ]
    },
    {
      "cell_type": "code",
      "metadata": {
        "id": "nxDIzMID34VH",
        "colab_type": "code",
        "colab": {
          "base_uri": "https://localhost:8080/",
          "height": 51
        },
        "outputId": "f6f83721-7f77-46fe-fd99-e7cd450a0b73"
      },
      "source": [
        "precos3 = np.array([149.99,79.90,39.99,250,99.90], dtype = 'int32')\n",
        "print(precos3.dtype)\n",
        "precos3"
      ],
      "execution_count": null,
      "outputs": [
        {
          "output_type": "stream",
          "text": [
            "int32\n"
          ],
          "name": "stdout"
        },
        {
          "output_type": "execute_result",
          "data": {
            "text/plain": [
              "array([149,  79,  39, 250,  99], dtype=int32)"
            ]
          },
          "metadata": {
            "tags": []
          },
          "execution_count": 12
        }
      ]
    },
    {
      "cell_type": "markdown",
      "metadata": {
        "id": "haTUwMGePOQz",
        "colab_type": "text"
      },
      "source": [
        "Se quisessemos acessar apenas um dos valores presentes no array *precos* basta acessar da mesma forma que acessamos em listas"
      ]
    },
    {
      "cell_type": "code",
      "metadata": {
        "id": "d3wg2pePWO_w",
        "colab_type": "code",
        "colab": {
          "base_uri": "https://localhost:8080/",
          "height": 68
        },
        "outputId": "faeccae0-7a42-49b4-a863-b6835e2a7ea3"
      },
      "source": [
        "print(precos[3])\n",
        "print(precos[:3])\n",
        "print(precos[-1])"
      ],
      "execution_count": null,
      "outputs": [
        {
          "output_type": "stream",
          "text": [
            "250.0\n",
            "[149.99  79.9   39.99]\n",
            "99.9\n"
          ],
          "name": "stdout"
        }
      ]
    },
    {
      "cell_type": "markdown",
      "metadata": {
        "id": "m0q0GLjM103g",
        "colab_type": "text"
      },
      "source": [
        "Podemos, também, inserir novos elementos no array assim como fizemos em listas através de todas as formas de acesso"
      ]
    },
    {
      "cell_type": "code",
      "metadata": {
        "id": "RwOrABPb11aD",
        "colab_type": "code",
        "colab": {
          "base_uri": "https://localhost:8080/",
          "height": 34
        },
        "outputId": "5d8c34a1-8929-4a31-f605-50258652ba1e"
      },
      "source": [
        "precos[3] = 34.90\n",
        "precos"
      ],
      "execution_count": null,
      "outputs": [
        {
          "output_type": "execute_result",
          "data": {
            "text/plain": [
              "array([149.99,  79.9 ,  39.99,  34.9 ,  99.9 ])"
            ]
          },
          "metadata": {
            "tags": []
          },
          "execution_count": 3
        }
      ]
    },
    {
      "cell_type": "code",
      "metadata": {
        "id": "cRUAtmePlm-p",
        "colab_type": "code",
        "colab": {
          "base_uri": "https://localhost:8080/",
          "height": 34
        },
        "outputId": "e25304fe-c8f4-4396-9968-7f4a64273ff8"
      },
      "source": [
        "precos [3:5] = 25.8, 179.90\n",
        "precos"
      ],
      "execution_count": null,
      "outputs": [
        {
          "output_type": "execute_result",
          "data": {
            "text/plain": [
              "array([149.99,  79.9 ,  39.99,  25.8 , 179.9 ])"
            ]
          },
          "metadata": {
            "tags": []
          },
          "execution_count": 5
        }
      ]
    },
    {
      "cell_type": "markdown",
      "metadata": {
        "id": "Jkuo9cqtr_1U",
        "colab_type": "text"
      },
      "source": [
        "Quando criamos um array dessa forma, passando uma lista como parâmetro, se tivermos uma lista heterogênea como o Numpy a transforma em um array homogêneo?"
      ]
    },
    {
      "cell_type": "code",
      "metadata": {
        "id": "RR7F6PtpsAON",
        "colab_type": "code",
        "colab": {
          "base_uri": "https://localhost:8080/",
          "height": 51
        },
        "outputId": "77fc2671-15c2-4e83-9732-63c5fd0bb990"
      },
      "source": [
        "lista_heterogenea = ['precos', 'das blusas',149.99,79.90, 40,250,99.90]\n",
        "array_heterogeneo = np.array(lista_heterogenea)\n",
        "array_heterogeneo"
      ],
      "execution_count": null,
      "outputs": [
        {
          "output_type": "execute_result",
          "data": {
            "text/plain": [
              "array(['precos', 'das blusas', '149.99', '79.9', '40', '250', '99.9'],\n",
              "      dtype='<U10')"
            ]
          },
          "metadata": {
            "tags": []
          },
          "execution_count": 26
        }
      ]
    },
    {
      "cell_type": "markdown",
      "metadata": {
        "id": "JRWddg5nk7Dt",
        "colab_type": "text"
      },
      "source": [
        "Observe que o array identificou que todos os elementos da lista são strings, já quue passamos uma lista com objetos string, int e float. O dtype U10 significa que o *Numpy* pega a string de maior tamanho e define como tipo padrão de todos os elementos da string"
      ]
    },
    {
      "cell_type": "markdown",
      "metadata": {
        "id": "cGV060AHqZBr",
        "colab_type": "text"
      },
      "source": [
        "#### Parte 2: Consultas em arrays"
      ]
    },
    {
      "cell_type": "markdown",
      "metadata": {
        "id": "AqYREplormz1",
        "colab_type": "text"
      },
      "source": [
        "Uma das grandes utilidades que o arrays nos propõe é a possibilidade de **consulta**. Através da consulta, podemos ver como se comportam os dados do nosso array"
      ]
    },
    {
      "cell_type": "markdown",
      "metadata": {
        "id": "l1LqeH8stOXK",
        "colab_type": "text"
      },
      "source": [
        "Se quisessemos consultar, por exemplo, quais as blusas tem preço maior que R$50,00 "
      ]
    },
    {
      "cell_type": "code",
      "metadata": {
        "id": "zSXFv_LNuzua",
        "colab_type": "code",
        "colab": {
          "base_uri": "https://localhost:8080/",
          "height": 34
        },
        "outputId": "60415d96-0817-4db2-88c3-9eb5d5b54047"
      },
      "source": [
        "precos > 50"
      ],
      "execution_count": null,
      "outputs": [
        {
          "output_type": "execute_result",
          "data": {
            "text/plain": [
              "array([ True,  True, False,  True,  True])"
            ]
          },
          "metadata": {
            "tags": []
          },
          "execution_count": 27
        }
      ]
    },
    {
      "cell_type": "markdown",
      "metadata": {
        "id": "Y7tAUDNRUIxY",
        "colab_type": "text"
      },
      "source": [
        "Poderíamos também, ver quais são menores ou iguais a R$ 40,00"
      ]
    },
    {
      "cell_type": "code",
      "metadata": {
        "id": "vugDy0h0vA6c",
        "colab_type": "code",
        "colab": {
          "base_uri": "https://localhost:8080/",
          "height": 34
        },
        "outputId": "01722f43-6d20-4552-b2f4-1941298c081a"
      },
      "source": [
        "precos <= 40"
      ],
      "execution_count": null,
      "outputs": [
        {
          "output_type": "execute_result",
          "data": {
            "text/plain": [
              "array([False, False,  True, False, False])"
            ]
          },
          "metadata": {
            "tags": []
          },
          "execution_count": 28
        }
      ]
    },
    {
      "cell_type": "markdown",
      "metadata": {
        "id": "duQKZ7-uvK_l",
        "colab_type": "text"
      },
      "source": [
        "O exemplo mostrado acima apenas retorna True, se o valor obedece a condição, e False se ela não obedece. Mas e se quisessemos saber quais são os valores que obedecem a condição? "
      ]
    },
    {
      "cell_type": "code",
      "metadata": {
        "id": "3x081N8QvKnT",
        "colab_type": "code",
        "colab": {
          "base_uri": "https://localhost:8080/",
          "height": 34
        },
        "outputId": "e0cdf8d3-effd-431f-c9ea-746632eb858d"
      },
      "source": [
        "precos[precos <= 40]"
      ],
      "execution_count": null,
      "outputs": [
        {
          "output_type": "execute_result",
          "data": {
            "text/plain": [
              "array([39.99])"
            ]
          },
          "metadata": {
            "tags": []
          },
          "execution_count": 29
        }
      ]
    },
    {
      "cell_type": "markdown",
      "metadata": {
        "id": "QK2EC61NvPCl",
        "colab_type": "text"
      },
      "source": [
        "Além disso, também é poossível criarmos expressões relacionais com os operadores and, or e not através dos símbolos &, || e ~"
      ]
    },
    {
      "cell_type": "code",
      "metadata": {
        "id": "EW0kyNaEvJZ3",
        "colab_type": "code",
        "colab": {
          "base_uri": "https://localhost:8080/",
          "height": 34
        },
        "outputId": "55531eab-d234-44e6-d7fd-3f6acdfe20b0"
      },
      "source": [
        "precos[(precos >= 80) & (precos <= 150)]"
      ],
      "execution_count": null,
      "outputs": [
        {
          "output_type": "execute_result",
          "data": {
            "text/plain": [
              "array([149.99,  99.9 ])"
            ]
          },
          "metadata": {
            "tags": []
          },
          "execution_count": 30
        }
      ]
    },
    {
      "cell_type": "code",
      "metadata": {
        "id": "gs_uWQLzkFYi",
        "colab_type": "code",
        "colab": {
          "base_uri": "https://localhost:8080/",
          "height": 34
        },
        "outputId": "f8e46f86-5d49-4c0a-8227-2840a08486e9"
      },
      "source": [
        "precos[(precos < 50) | (precos > 100)]"
      ],
      "execution_count": null,
      "outputs": [
        {
          "output_type": "execute_result",
          "data": {
            "text/plain": [
              "array([149.99,  39.99, 250.  ])"
            ]
          },
          "metadata": {
            "tags": []
          },
          "execution_count": 31
        }
      ]
    },
    {
      "cell_type": "code",
      "metadata": {
        "id": "xCU277txklWk",
        "colab_type": "code",
        "colab": {
          "base_uri": "https://localhost:8080/",
          "height": 34
        },
        "outputId": "d1b204a3-c7da-4ce6-9d8d-fcb3c4f790ab"
      },
      "source": [
        "precos[~(precos > 100)]"
      ],
      "execution_count": null,
      "outputs": [
        {
          "output_type": "execute_result",
          "data": {
            "text/plain": [
              "array([79.9 , 39.99, 99.9 ])"
            ]
          },
          "metadata": {
            "tags": []
          },
          "execution_count": 32
        }
      ]
    },
    {
      "cell_type": "markdown",
      "metadata": {
        "id": "JYL6Ii7Jq7WU",
        "colab_type": "text"
      },
      "source": [
        "#### Parte 3: Atributos"
      ]
    },
    {
      "cell_type": "markdown",
      "metadata": {
        "id": "bXas0vP9wHi8",
        "colab_type": "text"
      },
      "source": [
        "O Numpy, por ser uma vasta biblioteca, possui atributos interressantes que devemos conhecer"
      ]
    },
    {
      "cell_type": "markdown",
      "metadata": {
        "id": "VYqFSbIFw9vm",
        "colab_type": "text"
      },
      "source": [
        "**Ndim** : esse atributo retorna o número de dimensões do nosso array. Como estamos trabalhando, por enquanto, apenas com arrays de uma dimensão, ele retornará apenas 1."
      ]
    },
    {
      "cell_type": "code",
      "metadata": {
        "id": "ErXJKEmryDV8",
        "colab_type": "code",
        "colab": {
          "base_uri": "https://localhost:8080/",
          "height": 34
        },
        "outputId": "4436cff4-1132-41e8-d79a-0539e65734bf"
      },
      "source": [
        "precos.ndim"
      ],
      "execution_count": null,
      "outputs": [
        {
          "output_type": "execute_result",
          "data": {
            "text/plain": [
              "1"
            ]
          },
          "metadata": {
            "tags": []
          },
          "execution_count": 33
        }
      ]
    },
    {
      "cell_type": "markdown",
      "metadata": {
        "id": "LCqOx3F4yHf0",
        "colab_type": "text"
      },
      "source": [
        "**Shape** : retorna uma tupla com a quantidade de elementos em cada dimensão do array"
      ]
    },
    {
      "cell_type": "code",
      "metadata": {
        "id": "yojs10neyi3k",
        "colab_type": "code",
        "colab": {
          "base_uri": "https://localhost:8080/",
          "height": 34
        },
        "outputId": "053158a2-81da-4cda-853f-fb60bca0fff9"
      },
      "source": [
        "precos.shape"
      ],
      "execution_count": null,
      "outputs": [
        {
          "output_type": "execute_result",
          "data": {
            "text/plain": [
              "(5,)"
            ]
          },
          "metadata": {
            "tags": []
          },
          "execution_count": 34
        }
      ]
    },
    {
      "cell_type": "markdown",
      "metadata": {
        "id": "0tSQ4FosyWDm",
        "colab_type": "text"
      },
      "source": [
        "**Size** : se quisermos saber a quantidade total de elementos presentes usamos esse atributo."
      ]
    },
    {
      "cell_type": "code",
      "metadata": {
        "id": "8P8m_CUWyvup",
        "colab_type": "code",
        "colab": {
          "base_uri": "https://localhost:8080/",
          "height": 34
        },
        "outputId": "243d255d-9cf3-44b0-c54f-f4f399a8697b"
      },
      "source": [
        "precos.size"
      ],
      "execution_count": null,
      "outputs": [
        {
          "output_type": "execute_result",
          "data": {
            "text/plain": [
              "5"
            ]
          },
          "metadata": {
            "tags": []
          },
          "execution_count": 35
        }
      ]
    },
    {
      "cell_type": "markdown",
      "metadata": {
        "id": "GV9ov8bayWbI",
        "colab_type": "text"
      },
      "source": [
        "**Dtype** : assim como podemos criar arrays passando o tipo de dados que queremos, podemos ver o tipo desses dados se não soubermos quais os dados dentro do array"
      ]
    },
    {
      "cell_type": "code",
      "metadata": {
        "id": "jNxl7LlYzR57",
        "colab_type": "code",
        "colab": {
          "base_uri": "https://localhost:8080/",
          "height": 34
        },
        "outputId": "923a9cf2-51fe-478f-8693-a5ae45fd0b5c"
      },
      "source": [
        "precos.dtype"
      ],
      "execution_count": null,
      "outputs": [
        {
          "output_type": "execute_result",
          "data": {
            "text/plain": [
              "dtype('float64')"
            ]
          },
          "metadata": {
            "tags": []
          },
          "execution_count": 36
        }
      ]
    },
    {
      "cell_type": "code",
      "metadata": {
        "id": "3E3QEfQ2wW1k",
        "colab_type": "code",
        "colab": {
          "base_uri": "https://localhost:8080/",
          "height": 34
        },
        "outputId": "81aaa42a-635e-4b91-931d-2ccae8aba303"
      },
      "source": [
        "array_heterogeneo.dtype"
      ],
      "execution_count": null,
      "outputs": [
        {
          "output_type": "execute_result",
          "data": {
            "text/plain": [
              "dtype('<U10')"
            ]
          },
          "metadata": {
            "tags": []
          },
          "execution_count": 37
        }
      ]
    },
    {
      "cell_type": "markdown",
      "metadata": {
        "id": "JAueWHpNq-ph",
        "colab_type": "text"
      },
      "source": [
        "#### Parte 4: Métodos"
      ]
    },
    {
      "cell_type": "markdown",
      "metadata": {
        "id": "0FVAftiP2KDc",
        "colab_type": "text"
      },
      "source": [
        "Além dos atributos, temos métodos importantes que nos ajudarão a manipular os arrays "
      ]
    },
    {
      "cell_type": "markdown",
      "metadata": {
        "id": "sJJ4p7AB28dg",
        "colab_type": "text"
      },
      "source": [
        "O **ndarray** tem métodos matemáticos e estatísticos que são muito utilizados, como somatório, mínimo, máximo, média, desvio padrão, variância, etc. "
      ]
    },
    {
      "cell_type": "markdown",
      "metadata": {
        "id": "6Ytfa_7Aot0o",
        "colab_type": "text"
      },
      "source": [
        "**Somatório** : digamos que queremos saber qual o somatório total dos preços dos produtos que vendemos. Para isso o array apresenta o método *sum()*"
      ]
    },
    {
      "cell_type": "code",
      "metadata": {
        "id": "ewprCKAPwn99",
        "colab_type": "code",
        "colab": {
          "base_uri": "https://localhost:8080/",
          "height": 34
        },
        "outputId": "45add148-56ed-47c5-845c-c0a54d1f153b"
      },
      "source": [
        "precos.sum()"
      ],
      "execution_count": null,
      "outputs": [
        {
          "output_type": "execute_result",
          "data": {
            "text/plain": [
              "619.78"
            ]
          },
          "metadata": {
            "tags": []
          },
          "execution_count": 38
        }
      ]
    },
    {
      "cell_type": "markdown",
      "metadata": {
        "id": "82RVCjmYpVLn",
        "colab_type": "text"
      },
      "source": [
        "**Mínimo e máximo** : se quissesemos saber qual o produto de maior valor e qual o produto de menor valor usaremos os métodos *min()* e *max()*"
      ]
    },
    {
      "cell_type": "code",
      "metadata": {
        "id": "qcmzbWrEwnyq",
        "colab_type": "code",
        "colab": {
          "base_uri": "https://localhost:8080/",
          "height": 34
        },
        "outputId": "a705efcf-e10a-4426-b303-36148bbf532d"
      },
      "source": [
        "precos.min()"
      ],
      "execution_count": null,
      "outputs": [
        {
          "output_type": "execute_result",
          "data": {
            "text/plain": [
              "39.99"
            ]
          },
          "metadata": {
            "tags": []
          },
          "execution_count": 39
        }
      ]
    },
    {
      "cell_type": "code",
      "metadata": {
        "id": "FrThV3QMpaAw",
        "colab_type": "code",
        "colab": {
          "base_uri": "https://localhost:8080/",
          "height": 34
        },
        "outputId": "96b5942f-8489-4233-ea2b-eeaa1a6f4e72"
      },
      "source": [
        "precos.max()"
      ],
      "execution_count": null,
      "outputs": [
        {
          "output_type": "execute_result",
          "data": {
            "text/plain": [
              "250.0"
            ]
          },
          "metadata": {
            "tags": []
          },
          "execution_count": 40
        }
      ]
    },
    {
      "cell_type": "markdown",
      "metadata": {
        "id": "aMQS6r7apddr",
        "colab_type": "text"
      },
      "source": [
        "**Média, desvio padrão e variância** : o array também oferece funções para calcularmos qual a média, qual o desvio padrão e qual a variância dos preços dos produtos"
      ]
    },
    {
      "cell_type": "code",
      "metadata": {
        "id": "kXQpBv9lp3ML",
        "colab_type": "code",
        "colab": {
          "base_uri": "https://localhost:8080/",
          "height": 34
        },
        "outputId": "4e7c2ed5-ba81-45dc-d235-d68b422a0017"
      },
      "source": [
        "#Média\n",
        "precos.mean()"
      ],
      "execution_count": null,
      "outputs": [
        {
          "output_type": "execute_result",
          "data": {
            "text/plain": [
              "123.95599999999999"
            ]
          },
          "metadata": {
            "tags": []
          },
          "execution_count": 41
        }
      ]
    },
    {
      "cell_type": "code",
      "metadata": {
        "id": "hLRLVdXmqAWd",
        "colab_type": "code",
        "colab": {
          "base_uri": "https://localhost:8080/",
          "height": 34
        },
        "outputId": "4bec1456-b544-4da6-b20d-551ff48fbe40"
      },
      "source": [
        "#Desvio padrão\n",
        "precos.std()"
      ],
      "execution_count": null,
      "outputs": [
        {
          "output_type": "execute_result",
          "data": {
            "text/plain": [
              "72.29767703045512"
            ]
          },
          "metadata": {
            "tags": []
          },
          "execution_count": 42
        }
      ]
    },
    {
      "cell_type": "code",
      "metadata": {
        "id": "6DLdU89pqK5A",
        "colab_type": "code",
        "colab": {
          "base_uri": "https://localhost:8080/",
          "height": 34
        },
        "outputId": "4f738ee0-8693-4392-9cad-6030879463d0"
      },
      "source": [
        "#Variância\n",
        "precos.var()"
      ],
      "execution_count": null,
      "outputs": [
        {
          "output_type": "execute_result",
          "data": {
            "text/plain": [
              "5226.954103999999"
            ]
          },
          "metadata": {
            "tags": []
          },
          "execution_count": 43
        }
      ]
    },
    {
      "cell_type": "markdown",
      "metadata": {
        "id": "kKK6naM7qcg0",
        "colab_type": "text"
      },
      "source": [
        "Além desses, temos métodos úteis para manipular arrays, como ordenar, mudar forma ou tamanho, etc."
      ]
    },
    {
      "cell_type": "markdown",
      "metadata": {
        "id": "epwscsbftKOd",
        "colab_type": "text"
      },
      "source": [
        "**Sort**: se quisermos ordenar os preços dos produtos, usamos o *sort()*. Com ele, podemos ordenar de forma crescente."
      ]
    },
    {
      "cell_type": "code",
      "metadata": {
        "id": "p41VZZSptHpk",
        "colab_type": "code",
        "colab": {
          "base_uri": "https://localhost:8080/",
          "height": 34
        },
        "outputId": "366e8add-f5b3-4475-97d8-26083f18493c"
      },
      "source": [
        "precos.sort()\n",
        "precos"
      ],
      "execution_count": null,
      "outputs": [
        {
          "output_type": "execute_result",
          "data": {
            "text/plain": [
              "array([ 39.99,  79.9 ,  99.9 , 149.99, 250.  ])"
            ]
          },
          "metadata": {
            "tags": []
          },
          "execution_count": 44
        }
      ]
    },
    {
      "cell_type": "markdown",
      "metadata": {
        "id": "IuiQkbHPt1Dj",
        "colab_type": "text"
      },
      "source": [
        "**Copy** : se quisermos criar uma cópia do array usamos o método *copy()*"
      ]
    },
    {
      "cell_type": "code",
      "metadata": {
        "id": "Sm3mbwqmtIKT",
        "colab_type": "code",
        "colab": {
          "base_uri": "https://localhost:8080/",
          "height": 34
        },
        "outputId": "d2dfdfdd-cc26-439a-e57c-af245373cbe8"
      },
      "source": [
        "precos_copia = precos.copy()\n",
        "precos_copia"
      ],
      "execution_count": null,
      "outputs": [
        {
          "output_type": "execute_result",
          "data": {
            "text/plain": [
              "array([ 39.99,  79.9 ,  99.9 , 149.99, 250.  ])"
            ]
          },
          "metadata": {
            "tags": []
          },
          "execution_count": 45
        }
      ]
    },
    {
      "cell_type": "code",
      "metadata": {
        "id": "FrFOxcxFaPe6",
        "colab_type": "code",
        "colab": {
          "base_uri": "https://localhost:8080/",
          "height": 51
        },
        "outputId": "fd56d43e-2547-41d9-9731-1b8aea532bef"
      },
      "source": [
        "pc = precos_copia\n",
        "print(pc is precos)\n",
        "print(pc is precos_copia)"
      ],
      "execution_count": null,
      "outputs": [
        {
          "output_type": "stream",
          "text": [
            "False\n",
            "True\n"
          ],
          "name": "stdout"
        }
      ]
    },
    {
      "cell_type": "markdown",
      "metadata": {
        "id": "ck8gVmkVWr-o",
        "colab_type": "text"
      },
      "source": [
        "### Lição 4: Procedimentos e funções para arrays"
      ]
    },
    {
      "cell_type": "markdown",
      "metadata": {
        "id": "nANb0h9syChF",
        "colab_type": "text"
      },
      "source": [
        "#### Parte 1: Criação de arrays especiais"
      ]
    },
    {
      "cell_type": "markdown",
      "metadata": {
        "id": "x5WCqoPvynSo",
        "colab_type": "text"
      },
      "source": [
        "Além das formas de criação que vimos anteriormente, o *Numpy* oferece funções para criar alguns tipos específicos de arrays"
      ]
    },
    {
      "cell_type": "markdown",
      "metadata": {
        "id": "LJYmxnMGzqHs",
        "colab_type": "text"
      },
      "source": [
        "**Zeros** :  Se precisarmos criar um ndarray preenchido apenas por \"zeros\" o Numpy oferece a função *zeros()*, passando, em forma de tupla as dimensões do array"
      ]
    },
    {
      "cell_type": "code",
      "metadata": {
        "id": "ivAZLtVJXFfg",
        "colab_type": "code",
        "colab": {
          "base_uri": "https://localhost:8080/",
          "height": 34
        },
        "outputId": "aedf9694-cc43-488f-a991-0d90f90db7d8"
      },
      "source": [
        "array_com_zeros = np.zeros(8)\n",
        "array_com_zeros"
      ],
      "execution_count": null,
      "outputs": [
        {
          "output_type": "execute_result",
          "data": {
            "text/plain": [
              "array([0., 0., 0., 0., 0., 0., 0., 0.])"
            ]
          },
          "metadata": {
            "tags": []
          },
          "execution_count": 47
        }
      ]
    },
    {
      "cell_type": "markdown",
      "metadata": {
        "id": "hHmmFzrk0qNX",
        "colab_type": "text"
      },
      "source": [
        "**Ones** : Muito parecido com o *zeros()* temos a função para criar array preenchido apenas com \"uns\", a *ones()*, que também devemos passar como parâmetro uma tupla com as dimensões do array"
      ]
    },
    {
      "cell_type": "code",
      "metadata": {
        "id": "xSyssUcg0iuG",
        "colab_type": "code",
        "colab": {
          "base_uri": "https://localhost:8080/",
          "height": 34
        },
        "outputId": "459292eb-e379-4dfe-f7ab-b3d2045da6c2"
      },
      "source": [
        "array_com_uns = np.ones(8)\n",
        "array_com_uns"
      ],
      "execution_count": null,
      "outputs": [
        {
          "output_type": "execute_result",
          "data": {
            "text/plain": [
              "array([1., 1., 1., 1., 1., 1., 1., 1.])"
            ]
          },
          "metadata": {
            "tags": []
          },
          "execution_count": 49
        }
      ]
    },
    {
      "cell_type": "markdown",
      "metadata": {
        "id": "YpUxdnRh1JdA",
        "colab_type": "text"
      },
      "source": [
        "**Empty** : Um método que precisamos tomar cuidado é o *empty()*, que cria um ndarray vazio. Ao contrário do que pensamos ele não cria uma estrutura cheia de zeros, mas sim uma estrutura vazia, normalmente preenchida com lixo de memória."
      ]
    },
    {
      "cell_type": "code",
      "metadata": {
        "id": "xUlAr7A41EJB",
        "colab_type": "code",
        "colab": {
          "base_uri": "https://localhost:8080/",
          "height": 34
        },
        "outputId": "5c56905c-b162-419b-bd4a-a0f3953b5f6d"
      },
      "source": [
        "array_vazio = np.empty(8)\n",
        "array_vazio"
      ],
      "execution_count": null,
      "outputs": [
        {
          "output_type": "execute_result",
          "data": {
            "text/plain": [
              "array([1., 1., 1., 1., 1., 1., 1., 1.])"
            ]
          },
          "metadata": {
            "tags": []
          },
          "execution_count": 53
        }
      ]
    },
    {
      "cell_type": "markdown",
      "metadata": {
        "id": "aT-RbuRG2Q87",
        "colab_type": "text"
      },
      "source": [
        "**Full**: O método *full()* preenche todo array com o elemento que passarmos como parâmetro"
      ]
    },
    {
      "cell_type": "code",
      "metadata": {
        "id": "QNP8dtJY14lf",
        "colab_type": "code",
        "colab": {
          "base_uri": "https://localhost:8080/",
          "height": 34
        },
        "outputId": "abb7ab09-d859-47cb-8003-220ee3cf4dac"
      },
      "source": [
        "array_completo = np.full(8,2)\n",
        "array_completo"
      ],
      "execution_count": null,
      "outputs": [
        {
          "output_type": "execute_result",
          "data": {
            "text/plain": [
              "array([2, 2, 2, 2, 2, 2, 2, 2])"
            ]
          },
          "metadata": {
            "tags": []
          },
          "execution_count": 54
        }
      ]
    },
    {
      "cell_type": "markdown",
      "metadata": {
        "id": "z5UnMFl83rTl",
        "colab_type": "text"
      },
      "source": [
        "O Numpy também possui um método para gerar arrays aleatóorios, o **Random**. Com ele, podemos criar vetores de números aleatórios de inteiros, reais e muito mais. A [documentação oficial](https://docs.scipy.org/doc/numpy-1.16.0/reference/routines.random.html) mostra todas as opções que temos com o random."
      ]
    },
    {
      "cell_type": "markdown",
      "metadata": {
        "id": "mJmKyIu16Aj2",
        "colab_type": "text"
      },
      "source": [
        "**Random** : Para criar um array de inteiros aleatórios usamos o *random.randint()*"
      ]
    },
    {
      "cell_type": "code",
      "metadata": {
        "id": "PuawA5nX3DUK",
        "colab_type": "code",
        "colab": {
          "base_uri": "https://localhost:8080/",
          "height": 34
        },
        "outputId": "0fa38ba3-66f0-49f3-83a4-0e8dee710f30"
      },
      "source": [
        "array_aleatorio_inteiros = np.random.randint(1,10, size=8)\n",
        "array_aleatorio_inteiros"
      ],
      "execution_count": null,
      "outputs": [
        {
          "output_type": "execute_result",
          "data": {
            "text/plain": [
              "array([6, 2, 4, 1, 9, 1, 7, 8])"
            ]
          },
          "metadata": {
            "tags": []
          },
          "execution_count": 55
        }
      ]
    },
    {
      "cell_type": "markdown",
      "metadata": {
        "id": "7lxl8cn86wO8",
        "colab_type": "text"
      },
      "source": [
        "> O random.random cria um array de floats aleatórios dentro do intervalo [0,1)"
      ]
    },
    {
      "cell_type": "code",
      "metadata": {
        "id": "VzQYT_SS7lKV",
        "colab_type": "code",
        "colab": {
          "base_uri": "https://localhost:8080/",
          "height": 85
        },
        "outputId": "7a0cc2cb-ca36-41cb-ed2c-8c76628359d7"
      },
      "source": [
        "array_aleatorio_floats = np.random.random(20)\n",
        "array_aleatorio_floats"
      ],
      "execution_count": null,
      "outputs": [
        {
          "output_type": "execute_result",
          "data": {
            "text/plain": [
              "array([0.44401163, 0.82535827, 0.11352511, 0.68075159, 0.62393062,\n",
              "       0.48445174, 0.98241707, 0.74489972, 0.62053419, 0.68166677,\n",
              "       0.95803328, 0.89982655, 0.6572362 , 0.55584408, 0.79212068,\n",
              "       0.04258   , 0.45630292, 0.49040868, 0.2953805 , 0.1634409 ])"
            ]
          },
          "metadata": {
            "tags": []
          },
          "execution_count": 56
        }
      ]
    },
    {
      "cell_type": "markdown",
      "metadata": {
        "id": "lVMt43w57jcO",
        "colab_type": "text"
      },
      "source": [
        "O Numpy também permite criarmos arrays aleatórios seguindo distribuições normais e uniformes. Veremos no módulo 8 como representar esses arrays gráficamente."
      ]
    },
    {
      "cell_type": "markdown",
      "metadata": {
        "id": "Apm8IxVr47sf",
        "colab_type": "text"
      },
      "source": [
        "**Arange**: Essa função retorna um array com valores igualmente espaçados quando passamos um dado intervalo. Ela funciona de forma muito parecida com o *range()* nativo do python"
      ]
    },
    {
      "cell_type": "code",
      "metadata": {
        "id": "tTHayOjn48IS",
        "colab_type": "code",
        "colab": {
          "base_uri": "https://localhost:8080/",
          "height": 34
        },
        "outputId": "86617327-1494-4be5-ecd6-d4c0714628bc"
      },
      "source": [
        "array_range1 = np.arange(8)\n",
        "array_range1"
      ],
      "execution_count": null,
      "outputs": [
        {
          "output_type": "execute_result",
          "data": {
            "text/plain": [
              "array([0, 1, 2, 3, 4, 5, 6, 7])"
            ]
          },
          "metadata": {
            "tags": []
          },
          "execution_count": 50
        }
      ]
    },
    {
      "cell_type": "code",
      "metadata": {
        "id": "b1p_Kq7W6pA8",
        "colab_type": "code",
        "colab": {
          "base_uri": "https://localhost:8080/",
          "height": 34
        },
        "outputId": "547353d4-3f49-4f56-b5bd-4880119087b6"
      },
      "source": [
        "array_range2 = np.arange(10,20)\n",
        "array_range2"
      ],
      "execution_count": null,
      "outputs": [
        {
          "output_type": "execute_result",
          "data": {
            "text/plain": [
              "array([10, 11, 12, 13, 14, 15, 16, 17, 18, 19])"
            ]
          },
          "metadata": {
            "tags": []
          },
          "execution_count": 51
        }
      ]
    },
    {
      "cell_type": "code",
      "metadata": {
        "id": "gf2Iwqne6uNJ",
        "colab_type": "code",
        "colab": {
          "base_uri": "https://localhost:8080/",
          "height": 34
        },
        "outputId": "e398377d-76b7-4389-ba55-eb1c085da3f5"
      },
      "source": [
        "array_range3 = np.arange(0,20,2)\n",
        "array_range3"
      ],
      "execution_count": null,
      "outputs": [
        {
          "output_type": "execute_result",
          "data": {
            "text/plain": [
              "array([ 0,  2,  4,  6,  8, 10, 12, 14, 16, 18])"
            ]
          },
          "metadata": {
            "tags": []
          },
          "execution_count": 52
        }
      ]
    },
    {
      "cell_type": "markdown",
      "metadata": {
        "id": "0JMc0Btx9NG4",
        "colab_type": "text"
      },
      "source": [
        "**Linspace**: A última forma de criação de arrays que vale a pena comentarmos é a *linspace()*, que cria um ndarray em um intervalo que podemos especificar e informar a quantidade de pontos (igualmente espaçados) dentro desse intervalo."
      ]
    },
    {
      "cell_type": "markdown",
      "metadata": {
        "id": "3D6E_ai_-Ymd",
        "colab_type": "text"
      },
      "source": [
        "<center> linspace(início, fim, [num, ...]) <center>"
      ]
    },
    {
      "cell_type": "markdown",
      "metadata": {
        "id": "21CH5qMt-hx0",
        "colab_type": "text"
      },
      "source": [
        "Em que inicio e fim são parâmetros obrigatórios para determinar o intervalo em que o array será criado e num é parâmetro opcionai que determina a quantidade de elementos que queremos"
      ]
    },
    {
      "cell_type": "code",
      "metadata": {
        "id": "57ZugRC177Kq",
        "colab_type": "code",
        "colab": {}
      },
      "source": [
        "np.linspace(0, 10, 10)"
      ],
      "execution_count": null,
      "outputs": []
    },
    {
      "cell_type": "markdown",
      "metadata": {
        "id": "E7A2hHKaBFSi",
        "colab_type": "text"
      },
      "source": [
        "#### Parte 2: Manipulação de elementos"
      ]
    },
    {
      "cell_type": "markdown",
      "metadata": {
        "id": "q5VIHPZsB94E",
        "colab_type": "text"
      },
      "source": [
        "**Concatenate**: Digamos que, por um acidente, salvamos os preços das novas mercadorias em um array diferente. Um método útil para juntar essas duas informações em apenas um só é o *concatenate*."
      ]
    },
    {
      "cell_type": "code",
      "metadata": {
        "id": "3K_11ebgBOMP",
        "colab_type": "code",
        "colab": {
          "base_uri": "https://localhost:8080/",
          "height": 51
        },
        "outputId": "8fae33b7-1e03-453e-93b5-e1b93b9b9c19"
      },
      "source": [
        "precos_novas_mercadorias = np.array([59.90, 29.99, 179.80, 249.90])\n",
        "novos_precos = np.concatenate((precos,precos_novas_mercadorias))\n",
        "novos_precos"
      ],
      "execution_count": null,
      "outputs": [
        {
          "output_type": "execute_result",
          "data": {
            "text/plain": [
              "array([ 39.99,  79.9 ,  99.9 , 149.99, 250.  ,  59.9 ,  29.99, 179.8 ,\n",
              "       249.9 ])"
            ]
          },
          "metadata": {
            "tags": []
          },
          "execution_count": 57
        }
      ]
    },
    {
      "cell_type": "markdown",
      "metadata": {
        "id": "6qA50c4PDJM7",
        "colab_type": "text"
      },
      "source": [
        "**Split**: Além de concatenar, podemos também separar arrays com a ajuda com *split*. Podemos, por exemplo,  seprar o preço como as 3 primeiras sendo blusas casuais, as 3 do meio como blusas sociais e as 3 últimas como blusas esportivas."
      ]
    },
    {
      "cell_type": "markdown",
      "metadata": {
        "id": "cpdydOBjMHlt",
        "colab_type": "text"
      },
      "source": [
        "<center> np.split(array, indices_ou_seção) <center>"
      ]
    },
    {
      "cell_type": "markdown",
      "metadata": {
        "id": "EI92UbJNMvyc",
        "colab_type": "text"
      },
      "source": [
        "Para isso, precisamos passar como parâmetros o array que queremos e em quais ou quantas seções queremos dividí-lo"
      ]
    },
    {
      "cell_type": "code",
      "metadata": {
        "id": "-WIoHrZAGABh",
        "colab_type": "code",
        "colab": {
          "base_uri": "https://localhost:8080/",
          "height": 68
        },
        "outputId": "4ebcc2bd-14f4-4ae2-c1ea-38ef3c479d2f"
      },
      "source": [
        "np.split(novos_precos, 3)"
      ],
      "execution_count": null,
      "outputs": [
        {
          "output_type": "execute_result",
          "data": {
            "text/plain": [
              "[array([39.99, 79.9 , 99.9 ]),\n",
              " array([149.99, 250.  ,  59.9 ]),\n",
              " array([ 29.99, 179.8 , 249.9 ])]"
            ]
          },
          "metadata": {
            "tags": []
          },
          "execution_count": 58
        }
      ]
    },
    {
      "cell_type": "markdown",
      "metadata": {
        "id": "lVsLHFLH8Hst",
        "colab_type": "text"
      },
      "source": [
        "**Unique**: Esse método retorna um array com os elementos  sem repetição. Se quisermos saber quais valores de blusas temos na nossa loja, podemos utilizá-lo para isso."
      ]
    },
    {
      "cell_type": "code",
      "metadata": {
        "id": "wHgwzPpe8IC7",
        "colab_type": "code",
        "colab": {
          "base_uri": "https://localhost:8080/",
          "height": 51
        },
        "outputId": "f4756760-d4d3-43ff-dd2d-0d1a28788b36"
      },
      "source": [
        "np.unique(novos_precos)"
      ],
      "execution_count": null,
      "outputs": [
        {
          "output_type": "execute_result",
          "data": {
            "text/plain": [
              "array([ 29.99,  39.99,  59.9 ,  79.9 ,  99.9 , 149.99, 179.8 , 249.9 ,\n",
              "       250.  ])"
            ]
          },
          "metadata": {
            "tags": []
          },
          "execution_count": 59
        }
      ]
    },
    {
      "cell_type": "markdown",
      "metadata": {
        "id": "LQZTdKHU8002",
        "colab_type": "text"
      },
      "source": [
        "**Delete**: Se uma blusa for vendida, por exemplo, não faz sentido o preço dela continuar em nosso array. Para isso, podemos usar o *np.delete()*"
      ]
    },
    {
      "cell_type": "code",
      "metadata": {
        "id": "_a6L0H0Z81Jv",
        "colab_type": "code",
        "colab": {
          "base_uri": "https://localhost:8080/",
          "height": 34
        },
        "outputId": "6c858e19-461d-480f-819b-8c8e27fa12a7"
      },
      "source": [
        "np.delete(novos_precos, 8)"
      ],
      "execution_count": null,
      "outputs": [
        {
          "output_type": "execute_result",
          "data": {
            "text/plain": [
              "array([ 39.99,  79.9 ,  99.9 , 149.99, 250.  ,  59.9 ,  29.99, 179.8 ])"
            ]
          },
          "metadata": {
            "tags": []
          },
          "execution_count": 61
        }
      ]
    },
    {
      "cell_type": "markdown",
      "metadata": {
        "id": "ASvwnfcxQ-fh",
        "colab_type": "text"
      },
      "source": [
        "#### Parte 3: Funções da matemática no *Numpy*"
      ]
    },
    {
      "cell_type": "markdown",
      "metadata": {
        "id": "E4mKE4FjSKwn",
        "colab_type": "text"
      },
      "source": [
        "Como já falamos, o Numpy é uma biblioteca muito usada para cálculos matemáticos, então vamos ver em que situações podemos usar essas ferramentas que ele oferece."
      ]
    },
    {
      "cell_type": "markdown",
      "metadata": {
        "id": "KrNFeKflvfnM",
        "colab_type": "text"
      },
      "source": [
        "> Dentro das funções matemáticas do Numpy temos as *funções trigonométricas*: "
      ]
    },
    {
      "cell_type": "markdown",
      "metadata": {
        "id": "C4YdDiUPvxUc",
        "colab_type": "text"
      },
      "source": [
        "| Método | Funcionalidade   |\n",
        "|:------:|:------:|\n",
        "|   Sin  | Calcula o seno de um dado angulo (em radianos)|\n",
        "|   Cos  | Calcula o cosseno de um dado angulo (em radianos)|\n",
        "|   Tan  | Calcula a tangente de um dado angulo (em radianos)|\n",
        "|   Arccos  | Calcula o arco cosseno de um dado angulo (em radianos)|\n",
        "|   Arcsin | Calcula o arco seno de um dado angulo (em radianos)|\n",
        "|   ...  | ...|"
      ]
    },
    {
      "cell_type": "markdown",
      "metadata": {
        "id": "1eCp12I0Z3b8",
        "colab_type": "text"
      },
      "source": [
        "![](https://drive.google.com/uc?export=view&id=1VX16r8ckczyB8Lt8wvTdtuRK5YdUgT0r)"
      ]
    },
    {
      "cell_type": "code",
      "metadata": {
        "id": "3uXA2imkQhAZ",
        "colab_type": "code",
        "colab": {
          "base_uri": "https://localhost:8080/",
          "height": 51
        },
        "outputId": "b37ab63f-895b-4734-98fb-d71b71d4334f"
      },
      "source": [
        "graus = np.array([0, np.pi / 2, np.pi, (2* np.pi)/3, 2*np.pi])\n",
        "np.sin(graus)"
      ],
      "execution_count": null,
      "outputs": [
        {
          "output_type": "execute_result",
          "data": {
            "text/plain": [
              "array([ 0.00000000e+00,  1.00000000e+00,  1.22464680e-16,  8.66025404e-01,\n",
              "       -2.44929360e-16])"
            ]
          },
          "metadata": {
            "tags": []
          },
          "execution_count": 65
        }
      ]
    },
    {
      "cell_type": "code",
      "metadata": {
        "id": "8xmZDom8x5Uu",
        "colab_type": "code",
        "colab": {
          "base_uri": "https://localhost:8080/",
          "height": 51
        },
        "outputId": "e5f7de23-b9af-48f0-b491-7a3e8d467d80"
      },
      "source": [
        "np.cos(graus)"
      ],
      "execution_count": null,
      "outputs": [
        {
          "output_type": "execute_result",
          "data": {
            "text/plain": [
              "array([ 1.000000e+00,  6.123234e-17, -1.000000e+00, -5.000000e-01,\n",
              "        1.000000e+00])"
            ]
          },
          "metadata": {
            "tags": []
          },
          "execution_count": 66
        }
      ]
    },
    {
      "cell_type": "code",
      "metadata": {
        "id": "WolnIquLylKJ",
        "colab_type": "code",
        "colab": {
          "base_uri": "https://localhost:8080/",
          "height": 51
        },
        "outputId": "cd06dd95-31e6-43d5-e479-0fa10fb311fc"
      },
      "source": [
        "np.tan(graus)"
      ],
      "execution_count": null,
      "outputs": [
        {
          "output_type": "execute_result",
          "data": {
            "text/plain": [
              "array([ 0.00000000e+00,  1.63312394e+16, -1.22464680e-16, -1.73205081e+00,\n",
              "       -2.44929360e-16])"
            ]
          },
          "metadata": {
            "tags": []
          },
          "execution_count": 67
        }
      ]
    },
    {
      "cell_type": "markdown",
      "metadata": {
        "id": "XsBTdurjzSVS",
        "colab_type": "text"
      },
      "source": [
        "> Além das funções trigonométricas, temos como calcular funções logarítmicas e exponenciais"
      ]
    },
    {
      "cell_type": "code",
      "metadata": {
        "id": "haomUBJ5zLa_",
        "colab_type": "code",
        "colab": {
          "base_uri": "https://localhost:8080/",
          "height": 68
        },
        "outputId": "88009446-cdf8-413c-a1e9-5766581daeb3"
      },
      "source": [
        "array_exp = np.arange(10)\n",
        "array_exp = np.exp(array_exp)\n",
        "array_exp"
      ],
      "execution_count": null,
      "outputs": [
        {
          "output_type": "execute_result",
          "data": {
            "text/plain": [
              "array([1.00000000e+00, 2.71828183e+00, 7.38905610e+00, 2.00855369e+01,\n",
              "       5.45981500e+01, 1.48413159e+02, 4.03428793e+02, 1.09663316e+03,\n",
              "       2.98095799e+03, 8.10308393e+03])"
            ]
          },
          "metadata": {
            "tags": []
          },
          "execution_count": 62
        }
      ]
    },
    {
      "cell_type": "code",
      "metadata": {
        "id": "Skz-9oXVQ0CQ",
        "colab_type": "code",
        "colab": {
          "base_uri": "https://localhost:8080/",
          "height": 85
        },
        "outputId": "c7e7782c-17dd-47f2-e272-84c66ae059ff"
      },
      "source": [
        "array_log = np.arange(10)\n",
        "array_log = np.log(array_log)\n",
        "array_log"
      ],
      "execution_count": null,
      "outputs": [
        {
          "output_type": "stream",
          "text": [
            "/usr/local/lib/python3.6/dist-packages/ipykernel_launcher.py:2: RuntimeWarning: divide by zero encountered in log\n",
            "  \n"
          ],
          "name": "stderr"
        },
        {
          "output_type": "execute_result",
          "data": {
            "text/plain": [
              "array([      -inf, 0.        , 0.69314718, 1.09861229, 1.38629436,\n",
              "       1.60943791, 1.79175947, 1.94591015, 2.07944154, 2.19722458])"
            ]
          },
          "metadata": {
            "tags": []
          },
          "execution_count": 64
        }
      ]
    },
    {
      "cell_type": "markdown",
      "metadata": {
        "id": "b7Qap9CM4Yut",
        "colab_type": "text"
      },
      "source": [
        "## Módulo 6: Arrays multimencionais e matrizes"
      ]
    },
    {
      "cell_type": "markdown",
      "metadata": {
        "id": "O09JLJzKkFE9",
        "colab_type": "text"
      },
      "source": [
        "### Lição 1: Arrays Multidimensionais"
      ]
    },
    {
      "cell_type": "markdown",
      "metadata": {
        "id": "KSeUzq_3lYzh",
        "colab_type": "text"
      },
      "source": [
        "Como já falamos, o array oferecido pelo *Numpy* pode ter *n* dimensões. Dentro delas, vamos aprofundar um pouco mais nas de 2 e 3 dimensões, as que são mais utilizadas"
      ]
    },
    {
      "cell_type": "markdown",
      "metadata": {
        "id": "3tOvxGTslReF",
        "colab_type": "text"
      },
      "source": [
        "#### Parte 1: Arrays 2D"
      ]
    },
    {
      "cell_type": "markdown",
      "metadata": {
        "id": "wyKnSbrbl_nY",
        "colab_type": "text"
      },
      "source": [
        "Como os arrays de duas dimensões são muito utilizados para guardar dados, como tabelas, vamos ver como fica o exemplo aqui na prática:"
      ]
    },
    {
      "cell_type": "markdown",
      "metadata": {
        "id": "qxWlGH194wmB",
        "colab_type": "text"
      },
      "source": [
        "| Código  | Preço unitário | Quantidade | Lucro |\n",
        "|:-------:|:--------------:|:----------:|:-----:|\n",
        "|   1234  |       70       |      1     |   4   |\n",
        "|   5678  |       74       |      2     |   3   |\n",
        "|   9012  |       20       |      9     |   2   |\n",
        "|   3456  |       88       |      1     |   1   |"
      ]
    },
    {
      "cell_type": "code",
      "metadata": {
        "id": "LkHb5gjR4ivc",
        "colab_type": "code",
        "colab": {
          "base_uri": "https://localhost:8080/",
          "height": 84
        },
        "outputId": "bf28a621-8ce2-4ad9-dd66-c8efb3197b5c"
      },
      "source": [
        "dados_loja = np.array(([1234,70,1,4], [5678,74,2,3],[9012,20,9,2], [3456,88,1,1]))\n",
        "dados_loja"
      ],
      "execution_count": null,
      "outputs": [
        {
          "output_type": "execute_result",
          "data": {
            "text/plain": [
              "array([[1234,   70,    1,    4],\n",
              "       [5678,   74,    2,    3],\n",
              "       [9012,   20,    9,    2],\n",
              "       [3456,   88,    1,    1]])"
            ]
          },
          "metadata": {
            "tags": []
          },
          "execution_count": 20
        }
      ]
    },
    {
      "cell_type": "markdown",
      "metadata": {
        "id": "aQlWJNuum_XS",
        "colab_type": "text"
      },
      "source": [
        "Depois de termos guardado nossos dados em um array de duas dimensões, manipular os dados de diversas formas"
      ]
    },
    {
      "cell_type": "markdown",
      "metadata": {
        "id": "X-URnvm3rlSw",
        "colab_type": "text"
      },
      "source": [
        "> **Acesso** : a forma de acesso de arrays 2D é bem similiar ao acesso do 1D, porém precisamos informar tanto a linha quanto a coluna que o elemento se encontra.\n",
        "<center> array2D [ linha ] [ coluna ] <center>\n",
        "<center> array2D [ linha , coluna ] <center>"
      ]
    },
    {
      "cell_type": "code",
      "metadata": {
        "id": "_8OSM4bznyh8",
        "colab_type": "code",
        "colab": {
          "base_uri": "https://localhost:8080/",
          "height": 34
        },
        "outputId": "e424b562-92b7-4a37-bb03-1aaa7d0aedc1"
      },
      "source": [
        "dados_loja[2][1]"
      ],
      "execution_count": null,
      "outputs": [
        {
          "output_type": "execute_result",
          "data": {
            "text/plain": [
              "20"
            ]
          },
          "metadata": {
            "tags": []
          },
          "execution_count": 51
        }
      ]
    },
    {
      "cell_type": "markdown",
      "metadata": {
        "id": "cjidgyZftW3f",
        "colab_type": "text"
      },
      "source": [
        "Podemos, também, selecionar apenas linhas ou apenas colunas. Digamos que queremos trabalhar apenas com a linha dos dois primeiros produtos ou apenas com a quantidade que foi vendida"
      ]
    },
    {
      "cell_type": "code",
      "metadata": {
        "id": "aGDJG7IynyWQ",
        "colab_type": "code",
        "colab": {
          "base_uri": "https://localhost:8080/",
          "height": 51
        },
        "outputId": "6e46229f-00dc-44af-96b6-4e8323dfd378"
      },
      "source": [
        "produto2 = dados_loja[2:]\n",
        "produto2"
      ],
      "execution_count": null,
      "outputs": [
        {
          "output_type": "execute_result",
          "data": {
            "text/plain": [
              "array([[9012,   20,    9,    2],\n",
              "       [3456,   88,    1,    1]])"
            ]
          },
          "metadata": {
            "tags": []
          },
          "execution_count": 53
        }
      ]
    },
    {
      "cell_type": "code",
      "metadata": {
        "id": "_DJtlS4T2A10",
        "colab_type": "code",
        "colab": {
          "base_uri": "https://localhost:8080/",
          "height": 34
        },
        "outputId": "83388097-f73b-4d6b-d0ab-6574068da3e4"
      },
      "source": [
        "qtde_vendida = dados_loja[:,2]\n",
        "qtde_vendida"
      ],
      "execution_count": null,
      "outputs": [
        {
          "output_type": "execute_result",
          "data": {
            "text/plain": [
              "array([1, 2, 9, 1])"
            ]
          },
          "metadata": {
            "tags": []
          },
          "execution_count": 55
        }
      ]
    },
    {
      "cell_type": "markdown",
      "metadata": {
        "id": "SsPktB6jvrEQ",
        "colab_type": "text"
      },
      "source": [
        "> **Consulta**: a consulta feita em arrays de uma dimensão também é possível ser feita nos arrays de duas dimensões. Se quisermos saber quais produtos tiveram vendas maiores que ou iguais a 4 unidades, podemos fazer o seguinte"
      ]
    },
    {
      "cell_type": "code",
      "metadata": {
        "id": "KYbvlAizmI-e",
        "colab_type": "code",
        "colab": {
          "base_uri": "https://localhost:8080/",
          "height": 84
        },
        "outputId": "90163fdc-e868-4ac1-f312-d1c1713c6f04"
      },
      "source": [
        "dados_loja >= 2"
      ],
      "execution_count": null,
      "outputs": [
        {
          "output_type": "execute_result",
          "data": {
            "text/plain": [
              "array([[ True,  True, False,  True],\n",
              "       [ True,  True,  True,  True],\n",
              "       [ True,  True,  True,  True],\n",
              "       [ True,  True, False, False]])"
            ]
          },
          "metadata": {
            "tags": []
          },
          "execution_count": 25
        }
      ]
    },
    {
      "cell_type": "code",
      "metadata": {
        "id": "MjPUSeROmL5_",
        "colab_type": "code",
        "colab": {
          "base_uri": "https://localhost:8080/",
          "height": 50
        },
        "outputId": "0ce75a4c-60a3-45c2-dfc6-d55a275b5d32"
      },
      "source": [
        "dados_loja[dados_loja >= 2]"
      ],
      "execution_count": null,
      "outputs": [
        {
          "output_type": "execute_result",
          "data": {
            "text/plain": [
              "array([1234,   70,    4, 5678,   74,    2,    3, 9012,   20,    9,    2,\n",
              "       3456,   88])"
            ]
          },
          "metadata": {
            "tags": []
          },
          "execution_count": 26
        }
      ]
    },
    {
      "cell_type": "code",
      "metadata": {
        "id": "vMEKvXBbvrcA",
        "colab_type": "code",
        "colab": {
          "base_uri": "https://localhost:8080/",
          "height": 34
        },
        "outputId": "24983873-986d-4ca3-c197-019c4b9c9031"
      },
      "source": [
        "dados_loja[:,2] >= 2"
      ],
      "execution_count": null,
      "outputs": [
        {
          "output_type": "execute_result",
          "data": {
            "text/plain": [
              "array([False,  True,  True, False])"
            ]
          },
          "metadata": {
            "tags": []
          },
          "execution_count": 24
        }
      ]
    },
    {
      "cell_type": "code",
      "metadata": {
        "id": "huLw6erJmW8M",
        "colab_type": "code",
        "colab": {
          "base_uri": "https://localhost:8080/",
          "height": 50
        },
        "outputId": "e8efb990-4aec-4183-8315-cf7374213161"
      },
      "source": [
        "dados_loja[dados_loja[:,2] >= 2]"
      ],
      "execution_count": null,
      "outputs": [
        {
          "output_type": "execute_result",
          "data": {
            "text/plain": [
              "array([[5678,   74,    2,    3],\n",
              "       [9012,   20,    9,    2]])"
            ]
          },
          "metadata": {
            "tags": []
          },
          "execution_count": 27
        }
      ]
    },
    {
      "cell_type": "markdown",
      "metadata": {
        "id": "6e2zptuwxiyP",
        "colab_type": "text"
      },
      "source": [
        "> **Dados estatísticos**: quando estamos trabalhando com dados, é muito importante sabermos algumas informações sobre eles, como média, desvio padrão, mínimo, máximo e a variância"
      ]
    },
    {
      "cell_type": "code",
      "metadata": {
        "id": "rXO_a-FcxjNO",
        "colab_type": "code",
        "colab": {
          "base_uri": "https://localhost:8080/",
          "height": 34
        },
        "outputId": "eb4f3a8f-a05f-4c6b-de41-45cf8fbcb53d"
      },
      "source": [
        "#Qual a média de preços dos produtos?\n",
        "dados_loja[:,1].mean()"
      ],
      "execution_count": null,
      "outputs": [
        {
          "output_type": "execute_result",
          "data": {
            "text/plain": [
              "63.0"
            ]
          },
          "metadata": {
            "tags": []
          },
          "execution_count": 58
        }
      ]
    },
    {
      "cell_type": "code",
      "metadata": {
        "id": "iH_PoTPY1D1D",
        "colab_type": "code",
        "colab": {
          "base_uri": "https://localhost:8080/",
          "height": 51
        },
        "outputId": "436d1d40-e039-4a4a-f314-df785555620f"
      },
      "source": [
        "#Qual foi o maior lucro obtido? E o mínimo?\n",
        "print('Lucro máximo:',dados_loja[:, 3].max())\n",
        "print('Lucro minimo:',dados_loja[:, 3].min())"
      ],
      "execution_count": null,
      "outputs": [
        {
          "output_type": "stream",
          "text": [
            "Lucro máximo: 4\n",
            "Lucro minimo: 1\n"
          ],
          "name": "stdout"
        }
      ]
    },
    {
      "cell_type": "code",
      "metadata": {
        "id": "fmGcargG1Dqr",
        "colab_type": "code",
        "colab": {
          "base_uri": "https://localhost:8080/",
          "height": 34
        },
        "outputId": "4cb35b5e-e030-4c32-ca3f-75848a36c8d1"
      },
      "source": [
        "#Qual foi a variância do lucro?\n",
        "dados_loja[:, 3].var()"
      ],
      "execution_count": null,
      "outputs": [
        {
          "output_type": "execute_result",
          "data": {
            "text/plain": [
              "1.25"
            ]
          },
          "metadata": {
            "tags": []
          },
          "execution_count": 61
        }
      ]
    },
    {
      "cell_type": "markdown",
      "metadata": {
        "id": "78_442aW3KHE",
        "colab_type": "text"
      },
      "source": [
        "> **Split**: assim como conseguimos separar arrays de 1 dimensão, também conseguimos fazer essa separação em arrays de 2 dimensões "
      ]
    },
    {
      "cell_type": "code",
      "metadata": {
        "id": "JzkrQeQk1Dfa",
        "colab_type": "code",
        "colab": {
          "base_uri": "https://localhost:8080/",
          "height": 238
        },
        "outputId": "8f4a482b-cfd5-4953-9e63-e7badd08c44c"
      },
      "source": [
        "#Separando as colunas\n",
        "np.hsplit(dados_loja,4)"
      ],
      "execution_count": null,
      "outputs": [
        {
          "output_type": "execute_result",
          "data": {
            "text/plain": [
              "[array([[1234],\n",
              "        [5678],\n",
              "        [9012],\n",
              "        [3456]]), array([[70],\n",
              "        [74],\n",
              "        [20],\n",
              "        [88]]), array([[1],\n",
              "        [2],\n",
              "        [9],\n",
              "        [1]]), array([[4],\n",
              "        [3],\n",
              "        [2],\n",
              "        [1]])]"
            ]
          },
          "metadata": {
            "tags": []
          },
          "execution_count": 63
        }
      ]
    },
    {
      "cell_type": "code",
      "metadata": {
        "id": "HW8n9dQr5-gh",
        "colab_type": "code",
        "colab": {
          "base_uri": "https://localhost:8080/",
          "height": 85
        },
        "outputId": "25404b8e-a542-4e80-8f89-610156227742"
      },
      "source": [
        "#Separando as linhas\n",
        "np.vsplit(dados_loja,4)"
      ],
      "execution_count": null,
      "outputs": [
        {
          "output_type": "execute_result",
          "data": {
            "text/plain": [
              "[array([[1234,   70,    1,    4]]),\n",
              " array([[5678,   74,    2,    3]]),\n",
              " array([[9012,   20,    9,    2]]),\n",
              " array([[3456,   88,    1,    1]])]"
            ]
          },
          "metadata": {
            "tags": []
          },
          "execution_count": 65
        }
      ]
    },
    {
      "cell_type": "markdown",
      "metadata": {
        "id": "vruxfRcQlUH8",
        "colab_type": "text"
      },
      "source": [
        "#### Parte 2: Arrays 3D"
      ]
    },
    {
      "cell_type": "markdown",
      "metadata": {
        "id": "QcZpsv4DSHq6",
        "colab_type": "text"
      },
      "source": [
        "Para desenvolvermos o exemplo das franquias da nossa loja podemos criar um array de 3D dimensões "
      ]
    },
    {
      "cell_type": "markdown",
      "metadata": {
        "id": "CVO27H0jztwE",
        "colab_type": "text"
      },
      "source": [
        ""
      ]
    },
    {
      "cell_type": "code",
      "metadata": {
        "id": "buNPDpsglUh3",
        "colab_type": "code",
        "colab": {
          "base_uri": "https://localhost:8080/",
          "height": 255
        },
        "outputId": "2c347825-89bf-48c9-b785-344d26700672"
      },
      "source": [
        "array_3d = np.random.randint(0,10,size=(3,4,4))\n",
        "array_3d"
      ],
      "execution_count": null,
      "outputs": [
        {
          "output_type": "execute_result",
          "data": {
            "text/plain": [
              "array([[[6, 3],\n",
              "        [5, 1],\n",
              "        [8, 5],\n",
              "        [8, 0]],\n",
              "\n",
              "       [[7, 9],\n",
              "        [4, 6],\n",
              "        [1, 1],\n",
              "        [0, 7]],\n",
              "\n",
              "       [[4, 1],\n",
              "        [2, 6],\n",
              "        [5, 4],\n",
              "        [0, 8]]])"
            ]
          },
          "metadata": {
            "tags": []
          },
          "execution_count": 3
        }
      ]
    },
    {
      "cell_type": "markdown",
      "metadata": {
        "id": "wwHa3aB810Sj",
        "colab_type": "text"
      },
      "source": [
        "Da mesma forma que usamos métodos para analisar o array de duas dimensões podemos usar para analisar e manipular o de três dimensões"
      ]
    },
    {
      "cell_type": "code",
      "metadata": {
        "id": "8_G9bbow10pO",
        "colab_type": "code",
        "colab": {}
      },
      "source": [
        "#pensar em exemplos"
      ],
      "execution_count": null,
      "outputs": []
    },
    {
      "cell_type": "markdown",
      "metadata": {
        "id": "dljlSbS8kSCo",
        "colab_type": "text"
      },
      "source": [
        "### Lição 2: Estrutura *Matrix* "
      ]
    },
    {
      "cell_type": "markdown",
      "metadata": {
        "id": "5Urko0Gi5XQV",
        "colab_type": "text"
      },
      "source": [
        "Além de podermos criar arrays de duas dimensões, o *Numpy* também oferece uma estrutura específica para esses casos chamada **Matrix**. "
      ]
    },
    {
      "cell_type": "code",
      "metadata": {
        "id": "3WTRJLe9kWqk",
        "colab_type": "code",
        "colab": {
          "base_uri": "https://localhost:8080/",
          "height": 85
        },
        "outputId": "2505556d-ae16-4d33-d68c-cba6538b194c"
      },
      "source": [
        "a = np.random.randint(0,10,size=(2,2))\n",
        "b = np.random.randint(0,10,size=(2,2))\n",
        "print(a)\n",
        "print(b)"
      ],
      "execution_count": null,
      "outputs": [
        {
          "output_type": "stream",
          "text": [
            "[[2 7]\n",
            " [6 2]]\n",
            "[[4 3]\n",
            " [6 6]]\n"
          ],
          "name": "stdout"
        }
      ]
    },
    {
      "cell_type": "code",
      "metadata": {
        "id": "ZSYi74w6-g1M",
        "colab_type": "code",
        "colab": {
          "base_uri": "https://localhost:8080/",
          "height": 51
        },
        "outputId": "41be8015-d47d-4839-b2fd-e90bad3c62ff"
      },
      "source": [
        "A = np.matrix(a)\n",
        "B = np.matrix(b)\n",
        "A "
      ],
      "execution_count": null,
      "outputs": [
        {
          "output_type": "execute_result",
          "data": {
            "text/plain": [
              "matrix([[2, 7],\n",
              "        [6, 2]])"
            ]
          },
          "metadata": {
            "tags": []
          },
          "execution_count": 77
        }
      ]
    },
    {
      "cell_type": "code",
      "metadata": {
        "id": "IZEhtfGG_eH2",
        "colab_type": "code",
        "colab": {
          "base_uri": "https://localhost:8080/",
          "height": 51
        },
        "outputId": "520c7a4d-fd72-4526-f349-1d987be15309"
      },
      "source": [
        "B"
      ],
      "execution_count": null,
      "outputs": [
        {
          "output_type": "execute_result",
          "data": {
            "text/plain": [
              "matrix([[4, 3],\n",
              "        [6, 6]])"
            ]
          },
          "metadata": {
            "tags": []
          },
          "execution_count": 78
        }
      ]
    },
    {
      "cell_type": "markdown",
      "metadata": {
        "id": "s_lQtoPF7r3E",
        "colab_type": "text"
      },
      "source": [
        "Apesar de parecerem estruturas iguais aos arrays 2D, o objeto *matrix* possui a vantagem de realização de operações matriciais, como multiplicação entre duas matrizes"
      ]
    },
    {
      "cell_type": "code",
      "metadata": {
        "id": "aST5l7CU8m6L",
        "colab_type": "code",
        "colab": {
          "base_uri": "https://localhost:8080/",
          "height": 51
        },
        "outputId": "dc01f2b2-45ec-4640-dace-7b32a9fe47d3"
      },
      "source": [
        "A * B"
      ],
      "execution_count": null,
      "outputs": [
        {
          "output_type": "execute_result",
          "data": {
            "text/plain": [
              "matrix([[52, 18],\n",
              "        [32, 17]])"
            ]
          },
          "metadata": {
            "tags": []
          },
          "execution_count": 74
        }
      ]
    },
    {
      "cell_type": "code",
      "metadata": {
        "id": "XjvgOp9a9UN9",
        "colab_type": "code",
        "colab": {
          "base_uri": "https://localhost:8080/",
          "height": 51
        },
        "outputId": "d864a7b3-fdba-4d68-859b-ae0c43227252"
      },
      "source": [
        "A * 2"
      ],
      "execution_count": null,
      "outputs": [
        {
          "output_type": "execute_result",
          "data": {
            "text/plain": [
              "matrix([[12,  8],\n",
              "        [ 4, 10]])"
            ]
          },
          "metadata": {
            "tags": []
          },
          "execution_count": 75
        }
      ]
    },
    {
      "cell_type": "markdown",
      "metadata": {
        "id": "lkRJqEpZCyya",
        "colab_type": "text"
      },
      "source": [
        "O numpy oferece uma função chamada *matmul*, utilizada para multiplicação de arrays e matrizes"
      ]
    },
    {
      "cell_type": "code",
      "metadata": {
        "id": "TmhRJWc2C0EI",
        "colab_type": "code",
        "colab": {
          "base_uri": "https://localhost:8080/",
          "height": 51
        },
        "outputId": "6f219308-ad87-488e-956a-74f16b2cf347"
      },
      "source": [
        "np.matmul(A,B)"
      ],
      "execution_count": null,
      "outputs": [
        {
          "output_type": "execute_result",
          "data": {
            "text/plain": [
              "matrix([[52, 18],\n",
              "        [32, 17]])"
            ]
          },
          "metadata": {
            "tags": []
          },
          "execution_count": 76
        }
      ]
    },
    {
      "cell_type": "markdown",
      "metadata": {
        "id": "tpZF7uP9AbNK",
        "colab_type": "text"
      },
      "source": [
        "As matrizes possuem os mesmos atributos que os arrays, como *ndim*, *shape*, *size*, etc.\n"
      ]
    },
    {
      "cell_type": "code",
      "metadata": {
        "id": "FUdjhsCKAbjl",
        "colab_type": "code",
        "colab": {
          "base_uri": "https://localhost:8080/",
          "height": 68
        },
        "outputId": "adf06081-2816-4e75-c343-e9c947320916"
      },
      "source": [
        "print('Ndmi:', A.ndim)\n",
        "print('Shape:', A.shape)\n",
        "print('Size:', A.size)"
      ],
      "execution_count": null,
      "outputs": [
        {
          "output_type": "stream",
          "text": [
            "Ndmi: 2\n",
            "Shape: (2, 2)\n",
            "Size: 4\n"
          ],
          "name": "stdout"
        }
      ]
    },
    {
      "cell_type": "markdown",
      "metadata": {
        "id": "mDA1XvmnCBKs",
        "colab_type": "text"
      },
      "source": [
        "Porém, além dos atributos em comum, as matrizes possuem outros bem interessantes"
      ]
    },
    {
      "cell_type": "markdown",
      "metadata": {
        "id": "w3XV-226Cs9w",
        "colab_type": "text"
      },
      "source": [
        "> **A**: retorna a matriz como ndarray"
      ]
    },
    {
      "cell_type": "code",
      "metadata": {
        "id": "ML-O6473Csc3",
        "colab_type": "code",
        "colab": {
          "base_uri": "https://localhost:8080/",
          "height": 51
        },
        "outputId": "6c2a1a6e-8132-41b1-aba2-0efdf4724ac6"
      },
      "source": [
        "array_da_matriz = A.A\n",
        "array_da_matriz"
      ],
      "execution_count": null,
      "outputs": [
        {
          "output_type": "execute_result",
          "data": {
            "text/plain": [
              "array([[6, 4],\n",
              "       [2, 5]])"
            ]
          },
          "metadata": {
            "tags": []
          },
          "execution_count": 80
        }
      ]
    },
    {
      "cell_type": "markdown",
      "metadata": {
        "id": "rj0afZ8eCuyI",
        "colab_type": "text"
      },
      "source": [
        "> **A1** : retorna a matriz como um ndarray unidimensional"
      ]
    },
    {
      "cell_type": "code",
      "metadata": {
        "id": "r00VQM2mCBeP",
        "colab_type": "code",
        "colab": {
          "base_uri": "https://localhost:8080/",
          "height": 34
        },
        "outputId": "eef5cfa5-57b9-451c-ea1f-fd8c1497f492"
      },
      "source": [
        "A.A1"
      ],
      "execution_count": null,
      "outputs": [
        {
          "output_type": "execute_result",
          "data": {
            "text/plain": [
              "array([6, 4, 2, 5])"
            ]
          },
          "metadata": {
            "tags": []
          },
          "execution_count": 81
        }
      ]
    },
    {
      "cell_type": "markdown",
      "metadata": {
        "id": "V2ROdwIgCzK7",
        "colab_type": "text"
      },
      "source": [
        "> **T** : retorna a transposta da matriz"
      ]
    },
    {
      "cell_type": "code",
      "metadata": {
        "id": "iS9uglESCzps",
        "colab_type": "code",
        "colab": {
          "base_uri": "https://localhost:8080/",
          "height": 51
        },
        "outputId": "343c2285-14d1-409c-83a0-8f5738552757"
      },
      "source": [
        "A.T"
      ],
      "execution_count": null,
      "outputs": [
        {
          "output_type": "execute_result",
          "data": {
            "text/plain": [
              "matrix([[6, 2],\n",
              "        [4, 5]])"
            ]
          },
          "metadata": {
            "tags": []
          },
          "execution_count": 82
        }
      ]
    },
    {
      "cell_type": "markdown",
      "metadata": {
        "id": "YmjMf8x2DoyQ",
        "colab_type": "text"
      },
      "source": [
        "> **I** : retorna a inversa da matriz"
      ]
    },
    {
      "cell_type": "code",
      "metadata": {
        "id": "8-hL8zFmDpDr",
        "colab_type": "code",
        "colab": {
          "base_uri": "https://localhost:8080/",
          "height": 51
        },
        "outputId": "62615187-3db4-4355-8940-985b73ad5eb5"
      },
      "source": [
        "A.I"
      ],
      "execution_count": null,
      "outputs": [
        {
          "output_type": "execute_result",
          "data": {
            "text/plain": [
              "matrix([[ 0.22727273, -0.18181818],\n",
              "        [-0.09090909,  0.27272727]])"
            ]
          },
          "metadata": {
            "tags": []
          },
          "execution_count": 83
        }
      ]
    },
    {
      "cell_type": "markdown",
      "metadata": {
        "id": "XvwUa4NVkXSD",
        "colab_type": "text"
      },
      "source": [
        "### Lição 3: Procedimentos e funções "
      ]
    },
    {
      "cell_type": "markdown",
      "metadata": {
        "id": "1aWkbNVZ9uNi",
        "colab_type": "text"
      },
      "source": [
        "Todos os métodos que foram usados em arrays podem ser, também, utilizados em matrizes, porém alguns fazem mais sentido serem usados em matrizes"
      ]
    },
    {
      "cell_type": "code",
      "metadata": {
        "id": "rxIuAWG9U0O0",
        "colab_type": "code",
        "colab": {}
      },
      "source": [
        "c = np.matrix(np.random.randint(0,10,size=(3,5)))\n",
        "d = np.matrix(np.random.randint(0,10,size=(4,6)))"
      ],
      "execution_count": null,
      "outputs": []
    },
    {
      "cell_type": "code",
      "metadata": {
        "id": "HRBoAN3aWCc3",
        "colab_type": "code",
        "colab": {
          "base_uri": "https://localhost:8080/",
          "height": 170
        },
        "outputId": "36e959f0-a81f-49ec-ccb5-0085b6aac4c1"
      },
      "source": [
        "print('Matrix c:\\n',c)\n",
        "print('Matrix d:\\n',d)"
      ],
      "execution_count": null,
      "outputs": [
        {
          "output_type": "stream",
          "text": [
            "Matrix c:\n",
            " [[2 1 6 1 0]\n",
            " [8 7 5 7 4]\n",
            " [0 8 4 1 2]]\n",
            "Matrix d:\n",
            " [[3 9 7 2 8 6]\n",
            " [9 3 4 2 4 3]\n",
            " [8 1 4 0 0 9]\n",
            " [3 8 4 4 1 0]]\n"
          ],
          "name": "stdout"
        }
      ]
    },
    {
      "cell_type": "markdown",
      "metadata": {
        "id": "XbaIJBMa4rOw",
        "colab_type": "text"
      },
      "source": [
        "> **Explorando os eixos**: o interessante das matrizes é que podemos explorar apenas colunas ou apenas linhas. Se passarmos o parâmetro *axis = 0* estamos falando de **colunas**, porém se usarmos *axis = 1* estamos falando de **linhas**"
      ]
    },
    {
      "cell_type": "code",
      "metadata": {
        "id": "BMs6l2m-4rpV",
        "colab_type": "code",
        "colab": {
          "base_uri": "https://localhost:8080/",
          "height": 34
        },
        "outputId": "5cfb3b20-90ec-42e1-9e07-4d6b914cb161"
      },
      "source": [
        "c.max(axis=0)"
      ],
      "execution_count": null,
      "outputs": [
        {
          "output_type": "execute_result",
          "data": {
            "text/plain": [
              "matrix([[8, 8, 6, 7, 4]])"
            ]
          },
          "metadata": {
            "tags": []
          },
          "execution_count": 15
        }
      ]
    },
    {
      "cell_type": "code",
      "metadata": {
        "id": "y1yppUHh5yWB",
        "colab_type": "code",
        "colab": {
          "base_uri": "https://localhost:8080/",
          "height": 85
        },
        "outputId": "68048aba-43b2-474e-b9db-7053781e347b"
      },
      "source": [
        "d.max(axis=1)"
      ],
      "execution_count": null,
      "outputs": [
        {
          "output_type": "execute_result",
          "data": {
            "text/plain": [
              "matrix([[9],\n",
              "        [9],\n",
              "        [9],\n",
              "        [8]])"
            ]
          },
          "metadata": {
            "tags": []
          },
          "execution_count": 16
        }
      ]
    },
    {
      "cell_type": "code",
      "metadata": {
        "id": "4w8t5YpN52CU",
        "colab_type": "code",
        "colab": {
          "base_uri": "https://localhost:8080/",
          "height": 34
        },
        "outputId": "477e09df-299e-4027-e5a5-10fd454a4461"
      },
      "source": [
        "c.sum(axis=0)"
      ],
      "execution_count": null,
      "outputs": [
        {
          "output_type": "execute_result",
          "data": {
            "text/plain": [
              "matrix([[10, 16, 15,  9,  6]])"
            ]
          },
          "metadata": {
            "tags": []
          },
          "execution_count": 17
        }
      ]
    },
    {
      "cell_type": "markdown",
      "metadata": {
        "id": "-r6DOUk7UmAn",
        "colab_type": "text"
      },
      "source": [
        "> **Reshape** e **resize**: tanto o reshape quanto o resize mudam o formato do array de acordo com o novo formato que passamos como parâmetro. A diferença é que o reshape retorna um novo array com o formato informado e o resize muda diretamente do array"
      ]
    },
    {
      "cell_type": "code",
      "metadata": {
        "id": "hHOeLERKUls5",
        "colab_type": "code",
        "colab": {
          "base_uri": "https://localhost:8080/",
          "height": 102
        },
        "outputId": "3d9a9a0f-e74b-4946-eb0d-c621339290cb"
      },
      "source": [
        "c.reshape((5,3))"
      ],
      "execution_count": null,
      "outputs": [
        {
          "output_type": "execute_result",
          "data": {
            "text/plain": [
              "matrix([[7, 6, 3],\n",
              "        [0, 0, 9],\n",
              "        [6, 3, 5],\n",
              "        [1, 1, 2],\n",
              "        [2, 1, 8]])"
            ]
          },
          "metadata": {
            "tags": []
          },
          "execution_count": 73
        }
      ]
    },
    {
      "cell_type": "code",
      "metadata": {
        "id": "-HVkeAQyohFK",
        "colab_type": "code",
        "colab": {}
      },
      "source": [
        "C.shape"
      ],
      "execution_count": null,
      "outputs": []
    },
    {
      "cell_type": "code",
      "metadata": {
        "id": "CKFDs4dFWAsj",
        "colab_type": "code",
        "colab": {
          "base_uri": "https://localhost:8080/",
          "height": 51
        },
        "outputId": "b86112db-96cd-484d-839b-9541e92a1b40"
      },
      "source": [
        "d.resize((2,12))\n",
        "d"
      ],
      "execution_count": null,
      "outputs": [
        {
          "output_type": "execute_result",
          "data": {
            "text/plain": [
              "matrix([[8, 1, 6, 7, 5, 0, 4, 2, 4, 8, 2, 1],\n",
              "        [3, 7, 4, 5, 2, 4, 5, 4, 7, 9, 4, 6]])"
            ]
          },
          "metadata": {
            "tags": []
          },
          "execution_count": 75
        }
      ]
    },
    {
      "cell_type": "code",
      "metadata": {
        "id": "nPQQAQMlojHr",
        "colab_type": "code",
        "colab": {}
      },
      "source": [
        "d.shape"
      ],
      "execution_count": null,
      "outputs": []
    },
    {
      "cell_type": "markdown",
      "metadata": {
        "id": "z-0xbzSO-z8p",
        "colab_type": "text"
      },
      "source": [
        "> **Trace()** : retorna o valor do somatório da diagonal principal da matriz"
      ]
    },
    {
      "cell_type": "code",
      "metadata": {
        "id": "K6CDk7FT-0Ut",
        "colab_type": "code",
        "colab": {
          "base_uri": "https://localhost:8080/",
          "height": 85
        },
        "outputId": "bdfc9b4c-06b2-431a-ed73-92ccc867b467"
      },
      "source": [
        "A2 = np.matrix(np.random.randint(0,10,size=(4,4)))\n",
        "A2"
      ],
      "execution_count": null,
      "outputs": [
        {
          "output_type": "execute_result",
          "data": {
            "text/plain": [
              "matrix([[6, 5, 0, 7],\n",
              "        [5, 7, 4, 7],\n",
              "        [6, 5, 2, 6],\n",
              "        [4, 7, 3, 6]])"
            ]
          },
          "metadata": {
            "tags": []
          },
          "execution_count": 20
        }
      ]
    },
    {
      "cell_type": "code",
      "metadata": {
        "id": "lR1AhhavGcDq",
        "colab_type": "code",
        "colab": {
          "base_uri": "https://localhost:8080/",
          "height": 34
        },
        "outputId": "57b09e65-f3bd-4f54-ad62-735536790d1e"
      },
      "source": [
        "A2.trace()"
      ],
      "execution_count": null,
      "outputs": [
        {
          "output_type": "execute_result",
          "data": {
            "text/plain": [
              "matrix([[21]])"
            ]
          },
          "metadata": {
            "tags": []
          },
          "execution_count": 21
        }
      ]
    },
    {
      "cell_type": "markdown",
      "metadata": {
        "id": "GO4fVKz7-0sB",
        "colab_type": "text"
      },
      "source": [
        "> **Dot()** : realiza o produto de duas matrizes (ou arrays)"
      ]
    },
    {
      "cell_type": "code",
      "metadata": {
        "id": "gLLyrgzgGu5O",
        "colab_type": "code",
        "colab": {
          "base_uri": "https://localhost:8080/",
          "height": 85
        },
        "outputId": "409178d3-0597-4f5c-d2d5-db1644352a31"
      },
      "source": [
        "B2 = np.matrix(np.random.randint(0,10,size=(4,4)))\n",
        "B2"
      ],
      "execution_count": null,
      "outputs": [
        {
          "output_type": "execute_result",
          "data": {
            "text/plain": [
              "matrix([[0, 7, 3, 9],\n",
              "        [8, 4, 8, 9],\n",
              "        [0, 8, 3, 2],\n",
              "        [1, 0, 4, 6]])"
            ]
          },
          "metadata": {
            "tags": []
          },
          "execution_count": 22
        }
      ]
    },
    {
      "cell_type": "code",
      "metadata": {
        "id": "9b_SOzPuAJA-",
        "colab_type": "code",
        "colab": {
          "base_uri": "https://localhost:8080/",
          "height": 85
        },
        "outputId": "ab43e702-2ea4-4e12-eec6-781618936d57"
      },
      "source": [
        "A2.dot(B2)"
      ],
      "execution_count": null,
      "outputs": [
        {
          "output_type": "execute_result",
          "data": {
            "text/plain": [
              "matrix([[ 47,  62,  86, 141],\n",
              "        [ 63,  95, 111, 158],\n",
              "        [ 46,  78,  88, 139],\n",
              "        [ 62,  80, 101, 141]])"
            ]
          },
          "metadata": {
            "tags": []
          },
          "execution_count": 23
        }
      ]
    },
    {
      "cell_type": "markdown",
      "metadata": {
        "id": "BrC_lyxvYLh1",
        "colab_type": "text"
      },
      "source": [
        "> **Ravel**: essa função transforma o array ou matriz de multiplas dimensões e um array de apenas uma dimensão"
      ]
    },
    {
      "cell_type": "code",
      "metadata": {
        "id": "ymkvniEXYPgA",
        "colab_type": "code",
        "colab": {
          "base_uri": "https://localhost:8080/",
          "height": 34
        },
        "outputId": "27080ad3-5455-444b-c8ae-589389940ec8"
      },
      "source": [
        "A.ravel()"
      ],
      "execution_count": null,
      "outputs": [
        {
          "output_type": "execute_result",
          "data": {
            "text/plain": [
              "array([1, 2, 3, 2, 5, 7, 2, 3, 4])"
            ]
          },
          "metadata": {
            "tags": []
          },
          "execution_count": 24
        }
      ]
    },
    {
      "cell_type": "markdown",
      "metadata": {
        "id": "sfTzfCLg9YFT",
        "colab_type": "text"
      },
      "source": [
        "> **Ones_like e Zeros_like**: assim como podemos criar arrays preenchidos por zeros e uns quando passamos uma determinada forma, podemos, também, criar esse tipo de arrays a partir da forma de um array já existente"
      ]
    },
    {
      "cell_type": "code",
      "metadata": {
        "id": "7YDBgpnb-K4u",
        "colab_type": "code",
        "colab": {
          "base_uri": "https://localhost:8080/",
          "height": 85
        },
        "outputId": "e79a74af-3ccd-4e8a-a531-dff8d5a41f1d"
      },
      "source": [
        "np.ones_like(A2)"
      ],
      "execution_count": null,
      "outputs": [
        {
          "output_type": "execute_result",
          "data": {
            "text/plain": [
              "matrix([[1, 1, 1, 1],\n",
              "        [1, 1, 1, 1],\n",
              "        [1, 1, 1, 1],\n",
              "        [1, 1, 1, 1]])"
            ]
          },
          "metadata": {
            "tags": []
          },
          "execution_count": 25
        }
      ]
    },
    {
      "cell_type": "code",
      "metadata": {
        "id": "Zj9ThqkH-WrG",
        "colab_type": "code",
        "colab": {
          "base_uri": "https://localhost:8080/",
          "height": 68
        },
        "outputId": "c5b90e3b-0de9-44f4-c579-d2b526b7f9b5"
      },
      "source": [
        "np.zeros_like(A)"
      ],
      "execution_count": null,
      "outputs": [
        {
          "output_type": "execute_result",
          "data": {
            "text/plain": [
              "array([[0, 0, 0],\n",
              "       [0, 0, 0],\n",
              "       [0, 0, 0]])"
            ]
          },
          "metadata": {
            "tags": []
          },
          "execution_count": 26
        }
      ]
    },
    {
      "cell_type": "markdown",
      "metadata": {
        "id": "6B7bMlhAThtE",
        "colab_type": "text"
      },
      "source": [
        "## Módulo 7: Cálculo numérico e álgebra linear dentro da análise de dados"
      ]
    },
    {
      "cell_type": "markdown",
      "metadata": {
        "id": "tWgXo9xqUQs5",
        "colab_type": "text"
      },
      "source": [
        "### Lição 1: Conhecendo o cálculo numérico​"
      ]
    },
    {
      "cell_type": "markdown",
      "metadata": {
        "id": "uajHMwwDG-Wf",
        "colab_type": "text"
      },
      "source": [
        "Teórico"
      ]
    },
    {
      "cell_type": "markdown",
      "metadata": {
        "id": "uj8F6eFNUcNw",
        "colab_type": "text"
      },
      "source": [
        "### Lição 2: Álgebra linear e Ciência de Dados"
      ]
    },
    {
      "cell_type": "markdown",
      "metadata": {
        "id": "u8vmW7vyazYR",
        "colab_type": "text"
      },
      "source": [
        "A equação base para calcularmos o preço de uma blusa em nossa loja é dada pela seguinte equação: \n",
        "\n",
        "\\begin{equation}\n",
        " preco_i = 20 + 15 * tecido_i\n",
        "\\end{equation}\n",
        "\n",
        "em que *i* representa o tecido em questão"
      ]
    },
    {
      "cell_type": "markdown",
      "metadata": {
        "id": "T9868cK8cFpw",
        "colab_type": "text"
      },
      "source": [
        "Para resolvermos esse problema temos que criar duas matrizes:\n",
        "\n",
        "1. Uma matriz (5x2) com a primeira coluna preenchida por uns (1) e a segunda com o valor dos tecidos \n",
        "2. Um vetor (2x1) contendo os números da equação\n",
        "\n"
      ]
    },
    {
      "cell_type": "code",
      "metadata": {
        "id": "0VLUvCKdU1EG",
        "colab_type": "code",
        "colab": {}
      },
      "source": [
        "valor_tecidos = np.matrix([[1,9],[1,9],[1,8],[1,4],[1,3]])\n",
        "valores_equacao = np.matrix([[20],[15]])"
      ],
      "execution_count": null,
      "outputs": []
    },
    {
      "cell_type": "markdown",
      "metadata": {
        "id": "YW8QWaOup3YK",
        "colab_type": "text"
      },
      "source": [
        "Quando multiplicamos a matriz com os valores e a quantidade dos tecidos pelo vetor com as constantes da equação temos, como resultado o preço final dos produtos"
      ]
    },
    {
      "cell_type": "code",
      "metadata": {
        "id": "frpvxYPFeGE8",
        "colab_type": "code",
        "colab": {
          "base_uri": "https://localhost:8080/",
          "height": 102
        },
        "outputId": "5d0c161a-4d51-4633-d3f3-829ae42914c3"
      },
      "source": [
        "preco_final = valor_tecidos * valores_equacao\n",
        "preco_final"
      ],
      "execution_count": null,
      "outputs": [
        {
          "output_type": "execute_result",
          "data": {
            "text/plain": [
              "matrix([[155],\n",
              "        [155],\n",
              "        [140],\n",
              "        [ 80],\n",
              "        [ 65]])"
            ]
          },
          "metadata": {
            "tags": []
          },
          "execution_count": 14
        }
      ]
    },
    {
      "cell_type": "markdown",
      "metadata": {
        "id": "_MlYbHkXfKd2",
        "colab_type": "text"
      },
      "source": [
        "É interessante mostramos, também que podemos resolver sistemas lineares com o método **linalg** do *Numpy*."
      ]
    },
    {
      "cell_type": "markdown",
      "metadata": {
        "id": "AGPNnhZW6GjV",
        "colab_type": "text"
      },
      "source": [
        "Quando construímos o sistema do problema sugerido ele fica da seguinte forma: "
      ]
    },
    {
      "cell_type": "markdown",
      "metadata": {
        "id": "8Fnk0SzDfycP",
        "colab_type": "text"
      },
      "source": [
        "x: quantidade de Blusas do tipo 1 \\\\\n",
        "y: quantidade de Blusas do tipo 2 \\\\\n",
        "z: quantidade de Blusas do tipo 3 \\\\\n",
        "\n",
        "\\begin{equation}\n",
        "  x + 2y + 3z = 287 \\\\\n",
        "  2x + 5y + 7z = 674 \\\\\n",
        "  2x + 3y + 4z = 462\n",
        "\\end{equation}\n",
        "\n",
        "E pode ser representado de forma matricial como:\n",
        "\n",
        "\\begin{equation}\n",
        "    \\begin{bmatrix}\n",
        "    1 & 2 & 3 \\\\ \n",
        "    2 & 5 & 7 \\\\ \n",
        "    2 & 3 & 4\n",
        "  \\end{bmatrix} \\cdot\n",
        "  \\begin{bmatrix} \n",
        "    x \\\\ y\\\\z \n",
        "  \\end{bmatrix} = \n",
        "    \\begin{bmatrix}\n",
        "    287 \\\\ \n",
        "    674 \\\\ \n",
        "    462\n",
        "  \\end{bmatrix}\n",
        "\\end{equation}"
      ]
    },
    {
      "cell_type": "markdown",
      "metadata": {
        "id": "TuYLOPumo_qQ",
        "colab_type": "text"
      },
      "source": [
        "Em que: \n",
        "\\begin{equation}\n",
        "  A = \n",
        "  \\begin{bmatrix}\n",
        "    1 & 2 & 3 \\\\ \n",
        "    2 & 5 & 7 \\\\ \n",
        "    2 & 3 & 4\n",
        "  \\end{bmatrix}, \n",
        "  b = \n",
        "  \\begin{bmatrix}\n",
        "    287 \\\\ \n",
        "    674 \\\\ \n",
        "    462\n",
        "  \\end{bmatrix}\n",
        "\\end{equation}"
      ]
    },
    {
      "cell_type": "markdown",
      "metadata": {
        "id": "VxN_6nFeqpiJ",
        "colab_type": "text"
      },
      "source": [
        "Para usar o linalg precisamos importá-lo do *Numpy*"
      ]
    },
    {
      "cell_type": "code",
      "metadata": {
        "id": "m-UcYLgqfzgj",
        "colab_type": "code",
        "colab": {}
      },
      "source": [
        "import numpy.linalg as linalg\n",
        "import numpy as np"
      ],
      "execution_count": 2,
      "outputs": []
    },
    {
      "cell_type": "code",
      "metadata": {
        "id": "rvSX8atlqCQN",
        "colab_type": "code",
        "colab": {}
      },
      "source": [
        "A = np.array([[1,2,3], [2,5,7], [2,3,4]])\n",
        "b = np.array([[287], [674], [462]])"
      ],
      "execution_count": 3,
      "outputs": []
    },
    {
      "cell_type": "markdown",
      "metadata": {
        "id": "5AZEmYnYqUV1",
        "colab_type": "text"
      },
      "source": [
        "O método *solve()* do no linalg é o que usaremos para resolver o sistema."
      ]
    },
    {
      "cell_type": "code",
      "metadata": {
        "id": "SmGRp0KtqNQf",
        "colab_type": "code",
        "colab": {
          "base_uri": "https://localhost:8080/",
          "height": 68
        },
        "outputId": "602e28f8-20af-4f20-a5fe-e20b2ca86d63"
      },
      "source": [
        "linalg.solve(A,b)"
      ],
      "execution_count": 4,
      "outputs": [
        {
          "output_type": "execute_result",
          "data": {
            "text/plain": [
              "array([[75.],\n",
              "       [88.],\n",
              "       [12.]])"
            ]
          },
          "metadata": {
            "tags": []
          },
          "execution_count": 4
        }
      ]
    },
    {
      "cell_type": "markdown",
      "metadata": {
        "id": "GhcZHhkpU1d3",
        "colab_type": "text"
      },
      "source": [
        "### Lição 3: Polinômios: estruturas, operações, e aplicações ​"
      ]
    },
    {
      "cell_type": "markdown",
      "metadata": {
        "id": "uoN4SYNLureo",
        "colab_type": "text"
      },
      "source": [
        "Para estruturas polinomiais o Numpy também possui um método específico, o *poly1d()*. Com ele, podemos fazer diversas operações como soma, subtração, integração e derivação"
      ]
    },
    {
      "cell_type": "markdown",
      "metadata": {
        "id": "tb41amSZ1XN8",
        "colab_type": "text"
      },
      "source": [
        "Digamos que a nossa loja de blusas produza a B1 (blusa 1) e vende-a com um lucro total dado por:"
      ]
    },
    {
      "cell_type": "markdown",
      "metadata": {
        "id": "NCBrdtxD22PJ",
        "colab_type": "text"
      },
      "source": [
        "\\begin{equation}\n",
        "L(x) = -x^3 + 12x^2 + 60x - 4\n",
        "\\end{equation}"
      ]
    },
    {
      "cell_type": "markdown",
      "metadata": {
        "id": "1RoquhVbzhW9",
        "colab_type": "text"
      },
      "source": [
        "Em que x é a quantidade de B1 que foi produzida. Sabendo disso, qual o valor do lucro máximo?"
      ]
    },
    {
      "cell_type": "markdown",
      "metadata": {
        "id": "lAOyw-OY8vq9",
        "colab_type": "text"
      },
      "source": [
        "1. Vamos construir o nosso polinômio com a ajuda do *poly1d()*, em que passamoos uma lista com os coeficientes do polinômio"
      ]
    },
    {
      "cell_type": "code",
      "metadata": {
        "id": "sqrZh5IfVCAS",
        "colab_type": "code",
        "colab": {
          "base_uri": "https://localhost:8080/",
          "height": 51
        },
        "outputId": "b59d3ed4-e446-4401-f677-6d62a84dd49f"
      },
      "source": [
        "f = np.poly1d([-1, 12, 60, 4])\n",
        "print(f) "
      ],
      "execution_count": 5,
      "outputs": [
        {
          "output_type": "stream",
          "text": [
            "    3      2\n",
            "-1 x + 12 x + 60 x + 4\n"
          ],
          "name": "stdout"
        }
      ]
    },
    {
      "cell_type": "markdown",
      "metadata": {
        "id": "EVR00ZU-9VEf",
        "colab_type": "text"
      },
      "source": [
        "2. Para resolver esse problema precisamos derivar a equação *L(x)*, com a ajuda do método *deriv()*"
      ]
    },
    {
      "cell_type": "code",
      "metadata": {
        "id": "G7jg9ydY9UQx",
        "colab_type": "code",
        "colab": {
          "base_uri": "https://localhost:8080/",
          "height": 51
        },
        "outputId": "c8b3f40c-a12c-4945-bd60-4cdc5a6c9391"
      },
      "source": [
        "f_linha = f.deriv()\n",
        "print(f_linha)"
      ],
      "execution_count": 6,
      "outputs": [
        {
          "output_type": "stream",
          "text": [
            "    2\n",
            "-3 x + 24 x + 60\n"
          ],
          "name": "stdout"
        }
      ]
    },
    {
      "cell_type": "markdown",
      "metadata": {
        "id": "An-JUdWR-u-L",
        "colab_type": "text"
      },
      "source": [
        "3. Agora, vamos achar as raízes do polinômio com o método *np.roots()*"
      ]
    },
    {
      "cell_type": "code",
      "metadata": {
        "id": "9qxTRRLg3O1p",
        "colab_type": "code",
        "colab": {
          "base_uri": "https://localhost:8080/",
          "height": 34
        },
        "outputId": "4cf9d987-e6fd-4d33-f50e-bdde40aa73c8"
      },
      "source": [
        "raizes = np.roots(f_linha)\n",
        "raizes"
      ],
      "execution_count": 7,
      "outputs": [
        {
          "output_type": "execute_result",
          "data": {
            "text/plain": [
              "array([10., -2.])"
            ]
          },
          "metadata": {
            "tags": []
          },
          "execution_count": 7
        }
      ]
    },
    {
      "cell_type": "markdown",
      "metadata": {
        "id": "YtO37m_YAIeK",
        "colab_type": "text"
      },
      "source": [
        "Como estamos lidando com números inteiros, a raíz negativa que encontramos não faz sentido na nossa resolução. "
      ]
    },
    {
      "cell_type": "markdown",
      "metadata": {
        "id": "o_cmsZqoA2b3",
        "colab_type": "text"
      },
      "source": [
        "4. Precisamos aplicar a raíz positiva na equação inicial do lucro"
      ]
    },
    {
      "cell_type": "code",
      "metadata": {
        "id": "fg6L8oNNBFJ3",
        "colab_type": "code",
        "colab": {
          "base_uri": "https://localhost:8080/",
          "height": 34
        },
        "outputId": "ca0f6bc8-f424-45cc-c207-630cfa075483"
      },
      "source": [
        "f(raizes[0])"
      ],
      "execution_count": 8,
      "outputs": [
        {
          "output_type": "execute_result",
          "data": {
            "text/plain": [
              "804.0"
            ]
          },
          "metadata": {
            "tags": []
          },
          "execution_count": 8
        }
      ]
    },
    {
      "cell_type": "markdown",
      "metadata": {
        "id": "MhJS-mNCP3ti",
        "colab_type": "text"
      },
      "source": [
        "Assim, podemos concluir que o lucro máximo esperado é de R$ 804,00"
      ]
    },
    {
      "cell_type": "markdown",
      "metadata": {
        "id": "-Xb3gd7OVClV",
        "colab_type": "text"
      },
      "source": [
        "### Lição 5: Regressão linear e polinomial"
      ]
    },
    {
      "cell_type": "markdown",
      "metadata": {
        "id": "gtQk6PO87uDi",
        "colab_type": "text"
      },
      "source": [
        "Quando temos uma quantidade de dados e os resultados de uma função ao aplicarmos esse dados podemos encontrar a tendência que esses dados seguem. "
      ]
    },
    {
      "cell_type": "markdown",
      "metadata": {
        "id": "sWLoe2MLyZ8g",
        "colab_type": "text"
      },
      "source": [
        "Vamos supor que não sabemos qual função o preço da nossa loja segue, mas temos os resultados ao determinarmos um certo avalor para o tecido:"
      ]
    },
    {
      "cell_type": "markdown",
      "metadata": {
        "id": "NGy6JqVPznVP",
        "colab_type": "text"
      },
      "source": [
        "\\begin{equation}\\begin{array}{|c||cccccc|}\n",
        "\\hline tecido & 25 & 50 & 75 & 100  \\\\\n",
        "\\hline preço & 120 & 138 & 197 & 240  \\\\\n",
        "\\hline\n",
        "\\end{array}\\end{equation}"
      ]
    },
    {
      "cell_type": "code",
      "metadata": {
        "id": "DcAXSe4qVGsg",
        "colab_type": "code",
        "colab": {}
      },
      "source": [
        "x = np.array([25, 50, 75, 100])\n",
        "y = np.array([120, 138, 197, 240])"
      ],
      "execution_count": 9,
      "outputs": []
    },
    {
      "cell_type": "markdown",
      "metadata": {
        "id": "GsoS_PQz03oW",
        "colab_type": "text"
      },
      "source": [
        "Com a ajuda do **np.polyfit()** podemos encontrar quais são os coeficientes da nossa função."
      ]
    },
    {
      "cell_type": "code",
      "metadata": {
        "id": "QXDgJmyR0VBx",
        "colab_type": "code",
        "colab": {
          "base_uri": "https://localhost:8080/",
          "height": 34
        },
        "outputId": "5b7d40fb-b790-4227-b1d5-66e4e2c16db3"
      },
      "source": [
        "c1 = np.polyfit(x, y, 1)\n",
        "print(c1)"
      ],
      "execution_count": 10,
      "outputs": [
        {
          "output_type": "stream",
          "text": [
            "[ 1.676 69.   ]\n"
          ],
          "name": "stdout"
        }
      ]
    },
    {
      "cell_type": "markdown",
      "metadata": {
        "id": "qyTcH6-34Nps",
        "colab_type": "text"
      },
      "source": [
        "No exemplo acima falamos que a nossa função segue o modelo de uma função de primeiro grau. Mas e se ela seguisse uma função quadrática, por exemplo?"
      ]
    },
    {
      "cell_type": "code",
      "metadata": {
        "id": "SMeaaYxJ4N__",
        "colab_type": "code",
        "colab": {
          "base_uri": "https://localhost:8080/",
          "height": 34
        },
        "outputId": "ebb08c11-82a0-47b0-d123-481ead7bcd33"
      },
      "source": [
        "c2 = np.polyfit(x, y, 2)\n",
        "c2"
      ],
      "execution_count": 11,
      "outputs": [
        {
          "output_type": "execute_result",
          "data": {
            "text/plain": [
              "array([1.0000e-02, 4.2600e-01, 1.0025e+02])"
            ]
          },
          "metadata": {
            "tags": []
          },
          "execution_count": 11
        }
      ]
    },
    {
      "cell_type": "markdown",
      "metadata": {
        "id": "ffjah5EG1ETC",
        "colab_type": "text"
      },
      "source": [
        "Além disso, o método **np.poly1d()** nos mostra a função que os dados da tabela seguem."
      ]
    },
    {
      "cell_type": "code",
      "metadata": {
        "id": "ydsSPL0T2Mua",
        "colab_type": "code",
        "colab": {
          "base_uri": "https://localhost:8080/",
          "height": 51
        },
        "outputId": "8bb31bf6-0c33-425c-8135-275483fad5e3"
      },
      "source": [
        "p1 = np.poly1d(c1)\n",
        "print(p1)"
      ],
      "execution_count": 12,
      "outputs": [
        {
          "output_type": "stream",
          "text": [
            " \n",
            "1.676 x + 69\n"
          ],
          "name": "stdout"
        }
      ]
    },
    {
      "cell_type": "code",
      "metadata": {
        "id": "IYCeux324GFJ",
        "colab_type": "code",
        "colab": {
          "base_uri": "https://localhost:8080/",
          "height": 51
        },
        "outputId": "77e6e306-3914-4a27-ad62-87166c0337cb"
      },
      "source": [
        "p1_2 = np.poly1d( c2 )\n",
        "print(p1_2)"
      ],
      "execution_count": 13,
      "outputs": [
        {
          "output_type": "stream",
          "text": [
            "      2\n",
            "0.01 x + 0.426 x + 100.3\n"
          ],
          "name": "stdout"
        }
      ]
    },
    {
      "cell_type": "markdown",
      "metadata": {
        "id": "5K87mBWS6Ss8",
        "colab_type": "text"
      },
      "source": [
        "Com a ajuda do Matplotlib, que veremos de forma mais aprofundada no próximo módulo, podemos ver, rapidamente, como fica o gráfico das funções que geramos"
      ]
    },
    {
      "cell_type": "code",
      "metadata": {
        "id": "hXLwmeIp6NuP",
        "colab_type": "code",
        "colab": {
          "base_uri": "https://localhost:8080/",
          "height": 282
        },
        "outputId": "7ffddae6-9c8c-4c5f-80ba-2574fe8d341e"
      },
      "source": [
        "import matplotlib.pyplot as plt\n",
        "\n",
        "x_ = np.linspace(x.min(), x.max(), 200)\n",
        "\n",
        "# plt.plot(x, p1(x), x, p1_2(x))\n",
        "plt.plot(x, p1(x), x_, p1_2(x_))\n",
        "plt.plot(x, y, '.')"
      ],
      "execution_count": 14,
      "outputs": [
        {
          "output_type": "execute_result",
          "data": {
            "text/plain": [
              "[<matplotlib.lines.Line2D at 0x7f78cc5f27f0>]"
            ]
          },
          "metadata": {
            "tags": []
          },
          "execution_count": 14
        },
        {
          "output_type": "display_data",
          "data": {
            "image/png": "[encoded data removed]",
            "text/plain": [
              "<Figure size 432x288 with 1 Axes>"
            ]
          },
          "metadata": {
            "tags": [],
            "needs_background": "light"
          }
        }
      ]
    },
    {
      "cell_type": "markdown",
      "metadata": {
        "id": "qoaOPJOERJlu",
        "colab_type": "text"
      },
      "source": [
        "EXPLICAÇÃO SOBRE O MSE "
      ]
    },
    {
      "cell_type": "code",
      "metadata": {
        "id": "fHtkv79ARKHk",
        "colab_type": "code",
        "colab": {}
      },
      "source": [
        "def mse(y, y_pred):\n",
        "  erros = (y - y_pred)**2\n",
        "  return erros.mean()"
      ],
      "execution_count": 15,
      "outputs": []
    },
    {
      "cell_type": "code",
      "metadata": {
        "id": "Lh6wX-L7Stcw",
        "colab_type": "code",
        "colab": {
          "base_uri": "https://localhost:8080/",
          "height": 34
        },
        "outputId": "8945802c-e41a-43f8-8c67-b1f2798f2a07"
      },
      "source": [
        "mse(y, p1(x))"
      ],
      "execution_count": 16,
      "outputs": [
        {
          "output_type": "execute_result",
          "data": {
            "text/plain": [
              "79.67500000000017"
            ]
          },
          "metadata": {
            "tags": []
          },
          "execution_count": 16
        }
      ]
    },
    {
      "cell_type": "code",
      "metadata": {
        "id": "M3t1pwzjS_pY",
        "colab_type": "code",
        "colab": {
          "base_uri": "https://localhost:8080/",
          "height": 34
        },
        "outputId": "95e4b64b-668c-478e-c606-ca60f08bde03"
      },
      "source": [
        "mse(y, p1_2(x))"
      ],
      "execution_count": 17,
      "outputs": [
        {
          "output_type": "execute_result",
          "data": {
            "text/plain": [
              "40.61250000000008"
            ]
          },
          "metadata": {
            "tags": []
          },
          "execution_count": 17
        }
      ]
    },
    {
      "cell_type": "markdown",
      "metadata": {
        "id": "sQQl16a_7Mgx",
        "colab_type": "text"
      },
      "source": [
        "## Módulo 8: visualização de dados com Matplotlib"
      ]
    },
    {
      "cell_type": "markdown",
      "metadata": {
        "id": "HWfsf2BfVdDC",
        "colab_type": "text"
      },
      "source": [
        "### Lição 1: Conhecendo o *Matplotlib*"
      ]
    },
    {
      "cell_type": "markdown",
      "metadata": {
        "id": "10KDnuMLVsgN",
        "colab_type": "text"
      },
      "source": [
        "Os gráficos da biblioteca Matplotlib possuem uma anatomia pré definida:\n",
        "\n",
        "![image.png](data:image/png;base64,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)"
      ]
    },
    {
      "cell_type": "markdown",
      "metadata": {
        "id": "HjuLJ2LGWdgs",
        "colab_type": "text"
      },
      "source": [
        "O Matplotlib permite estilizarmos nossos gráficos como quisermos, colocando títulos e labels, escolhendo diferentes cores, escalas e tipos de linhas, além de podermos adicionar legendas que facilitam o entendimento das informações do gráfico."
      ]
    },
    {
      "cell_type": "markdown",
      "metadata": {
        "id": "HPw24PtgYzlY",
        "colab_type": "text"
      },
      "source": [
        "Para usarmos a biblioteca precisamos, primeiro, importá-la"
      ]
    },
    {
      "cell_type": "code",
      "metadata": {
        "id": "puy55J5KZbTt",
        "colab_type": "code",
        "colab": {}
      },
      "source": [
        "import matplotlib.pyplot as plt"
      ],
      "execution_count": 18,
      "outputs": []
    },
    {
      "cell_type": "markdown",
      "metadata": {
        "id": "mJS7QIQpZep0",
        "colab_type": "text"
      },
      "source": [
        "O **matplotlib.pyplot** é uma coleção de funções de estilo de comando que fazem matplotlib funcionar parecido com o MATLAB. Cada função de pyplot faz alguma alteração em uma figura: por exemplo, cria uma figura, cria uma área de plotagem em uma figura, plota algumas linhas em uma área de plotagem, decora a plotagem com rótulos, etc. \\\\"
      ]
    },
    {
      "cell_type": "markdown",
      "metadata": {
        "id": "oiGbSvIDLwDA",
        "colab_type": "text"
      },
      "source": [
        "### Lição 2: Gráfico de curvas"
      ]
    },
    {
      "cell_type": "markdown",
      "metadata": {
        "id": "UitR5yztYOmL",
        "colab_type": "text"
      },
      "source": [
        "No módulo anterior visualizamos, rápidamente, o gráfico do ajuste de curvas que fizemos. Nele, usamos o método **.plot()** do matplotlib. O comando plot gera um gráfico de curvas y versus x. "
      ]
    },
    {
      "cell_type": "markdown",
      "metadata": {
        "id": "pZZZYqH-cu-O",
        "colab_type": "text"
      },
      "source": [
        "Se tivermos duas informações X e Y podemos demonstrá-las no grafico da seguinte forma: "
      ]
    },
    {
      "cell_type": "code",
      "metadata": {
        "id": "V_UGGpKtYN01",
        "colab_type": "code",
        "colab": {
          "base_uri": "https://localhost:8080/",
          "height": 282
        },
        "outputId": "1b27680b-0189-45eb-cb4a-69f6c7d03baf"
      },
      "source": [
        "plt.plot(x,y)"
      ],
      "execution_count": 19,
      "outputs": [
        {
          "output_type": "execute_result",
          "data": {
            "text/plain": [
              "[<matplotlib.lines.Line2D at 0x7f78cc0aa3c8>]"
            ]
          },
          "metadata": {
            "tags": []
          },
          "execution_count": 19
        },
        {
          "output_type": "display_data",
          "data": {
            "image/png": "[encoded data removed]",
            "text/plain": [
              "<Figure size 432x288 with 1 Axes>"
            ]
          },
          "metadata": {
            "tags": [],
            "needs_background": "light"
          }
        }
      ]
    },
    {
      "cell_type": "markdown",
      "metadata": {
        "id": "UTKBVcr2eKnl",
        "colab_type": "text"
      },
      "source": [
        "Podemos perceber que é um gráfico bem normal e simplista. Vamos mudar algumas coisas para conseguirmos entender melhor o que está representado do gráfico"
      ]
    },
    {
      "cell_type": "code",
      "metadata": {
        "id": "2dLyi59kLvXl",
        "colab_type": "code",
        "colab": {
          "base_uri": "https://localhost:8080/",
          "height": 312
        },
        "outputId": "7b789bce-4e4a-43db-ad47-4ab2659db4e9"
      },
      "source": [
        "plt.plot(x,y)\n",
        "plt.ylabel('Preço blusa')\n",
        "plt.xlabel('Tecido')\n",
        "plt.title('Preço da blusa vs tecido') "
      ],
      "execution_count": 20,
      "outputs": [
        {
          "output_type": "execute_result",
          "data": {
            "text/plain": [
              "Text(0.5, 1.0, 'Preço da blusa vs tecido')"
            ]
          },
          "metadata": {
            "tags": []
          },
          "execution_count": 20
        },
        {
          "output_type": "display_data",
          "data": {
            "image/png": "[encoded data removed]",
            "text/plain": [
              "<Figure size 432x288 with 1 Axes>"
            ]
          },
          "metadata": {
            "tags": [],
            "needs_background": "light"
          }
        }
      ]
    },
    {
      "cell_type": "markdown",
      "metadata": {
        "id": "-0MGoPJjhVOG",
        "colab_type": "text"
      },
      "source": [
        "Agora nosso gráfico está com mais informações e bem melhor! \n",
        "Vamos ver como podemos melhorar o gráfico que fizemos no módulo anterior"
      ]
    },
    {
      "cell_type": "code",
      "metadata": {
        "id": "8nCtjYMLiupD",
        "colab_type": "code",
        "colab": {
          "base_uri": "https://localhost:8080/",
          "height": 404
        },
        "outputId": "8926f530-2b86-42d0-f7e3-5a6150744067"
      },
      "source": [
        "plt.figure(figsize=(10,6))\n",
        "plt.plot(x, p1(x) ,label='Linearidade', color= '#06324f', linewidth= 3)\n",
        "plt.plot(x_, p1_2(x_),linestyle = '--' ,label= 'Ajustada', color = '#FA6F0B', linewidth=3)\n",
        "plt.plot(x, y, '.', label= 'Pontos no gráfico', color = 'r', markersize=13)\n",
        "plt.ylabel('Preço blusa')\n",
        "plt.xlabel('Tecido')\n",
        "plt.title('Preço da blusa vs tecido') \n",
        "plt.legend(loc='best')\n",
        "plt.grid()\n",
        "plt.show()"
      ],
      "execution_count": 92,
      "outputs": [
        {
          "output_type": "display_data",
          "data": {
            "image/png": "[encoded data removed]",
            "text/plain": [
              "<Figure size 720x432 with 1 Axes>"
            ]
          },
          "metadata": {
            "tags": [],
            "needs_background": "light"
          }
        }
      ]
    },
    {
      "cell_type": "markdown",
      "metadata": {
        "id": "te8P7LDiU_eb",
        "colab_type": "text"
      },
      "source": [
        "* As cores mais usadas do Matplotlib podem ser encontradas \n",
        "[neste link](https://matplotlib.org/3.1.0/gallery/color/named_colors.html). Se quisermos uma cor diferente, podemos pegar o código Hexadecimal da cor e passar como parâmetro\n",
        "\n",
        "* Os marcadores possíveis podem ser vistos [aqui](https://matplotlib.org/api/markers_api.html)\n"
      ]
    },
    {
      "cell_type": "markdown",
      "metadata": {
        "id": "1d0Os84nL0u0",
        "colab_type": "text"
      },
      "source": [
        "### Lição 3: Gráfico de barras"
      ]
    },
    {
      "cell_type": "markdown",
      "metadata": {
        "id": "xJakFq5ja8a_",
        "colab_type": "text"
      },
      "source": [
        "O gráfico de barras é uma forma resumida de juntar e representar dados categóricos através de barras retangulares com pesos ou alturas proporcionais ao dados que representam. Em outras palavras, os gráficos de barras são bons se desejamos apresentar os dados de diferentes grupos que estão sendo comparados entre si."
      ]
    },
    {
      "cell_type": "markdown",
      "metadata": {
        "id": "tUcNEl62ssCj",
        "colab_type": "text"
      },
      "source": [
        "Coletamos informações da nossa loja de roupas e conseguimos os seguintes dados:\n",
        "\n",
        "<center> No último mês, a nossa loja de roupas teve 5 vendas principais: 50 unidades de B1, 60 de B2, 20 de B3, 10 de B4  e 70 de B5 <center> "
      ]
    },
    {
      "cell_type": "code",
      "metadata": {
        "id": "Ry_BupRV7Yai",
        "colab_type": "code",
        "colab": {}
      },
      "source": [
        "quantidade = [50,60,20,10,70]\n",
        "blusas = ['B1', 'B2', 'B3', 'B4', 'B5']"
      ],
      "execution_count": 42,
      "outputs": []
    },
    {
      "cell_type": "markdown",
      "metadata": {
        "id": "yILlxiJ7x3pF",
        "colab_type": "text"
      },
      "source": [
        "Para colocar esses dados em um gráfico de barras usaremos a função *.bar()* do Matplotlib"
      ]
    },
    {
      "cell_type": "code",
      "metadata": {
        "id": "4SmOp99Vx3_W",
        "colab_type": "code",
        "colab": {
          "base_uri": "https://localhost:8080/",
          "height": 295
        },
        "outputId": "3d9101ba-23a4-48c4-bd1b-ecfd271c576f"
      },
      "source": [
        "plt.bar(blusas,quantidade)\n",
        "plt.ylabel('Quantidade de blusas')\n",
        "plt.xlabel('Tipos de blusas')\n",
        "plt.title('Vendas do último mês')\n",
        "plt.show()"
      ],
      "execution_count": 48,
      "outputs": [
        {
          "output_type": "display_data",
          "data": {
            "image/png": "[encoded data removed]",
            "text/plain": [
              "<Figure size 432x288 with 1 Axes>"
            ]
          },
          "metadata": {
            "tags": [],
            "needs_background": "light"
          }
        }
      ]
    },
    {
      "cell_type": "markdown",
      "metadata": {
        "id": "RDmtfXZ06KT5",
        "colab_type": "text"
      },
      "source": [
        "As cores padrões do Matplotlib são bem apagadas. Por isso é importante melhorarmos nossos gráficos para entendermos melhor as informações que eles nos trazem"
      ]
    },
    {
      "cell_type": "code",
      "metadata": {
        "id": "8WecIn1s7gWG",
        "colab_type": "code",
        "colab": {
          "base_uri": "https://localhost:8080/",
          "height": 404
        },
        "outputId": "f1de6ac1-f17b-4341-d695-d23b589dbfef"
      },
      "source": [
        "plt.figure(figsize=(10,6))\n",
        "#Define quais cores serão utilizadas no gráfico\n",
        "colors = ['#f1c40f','#16a085', '#e67e22', '#3498db', '#e74c3c']\n",
        "\n",
        "plt.barh(blusas,quantidade,color = colors)\n",
        "plt.xlabel('Quantidade de blusas')\n",
        "plt.ylabel('Tipos de blusas')\n",
        "plt.title('Vendas do último mês')\n",
        "#Rotação do eixo\n",
        "#plt.xticks(rotation=45) \n",
        "plt.show()"
      ],
      "execution_count": 72,
      "outputs": [
        {
          "output_type": "display_data",
          "data": {
            "image/png": "[encoded data removed]",
            "text/plain": [
              "<Figure size 720x432 with 1 Axes>"
            ]
          },
          "metadata": {
            "tags": [],
            "needs_background": "light"
          }
        }
      ]
    },
    {
      "cell_type": "markdown",
      "metadata": {
        "id": "dQ3ylSuFL7ko",
        "colab_type": "text"
      },
      "source": [
        "### Lição 4: Histograma"
      ]
    },
    {
      "cell_type": "markdown",
      "metadata": {
        "id": "DMkmZF-_CnH0",
        "colab_type": "text"
      },
      "source": [
        "O histograma, também conhecido como \"Diagrama de disperção de frequências, é uma das ferramentas que compõem a qualidade. \\\\\n",
        "Ele é basicamente uma representação gráfica, em colunas (retângulos), de um conjunto de dados previamente tabulados e divididos em classes uniformes. \\\\\n",
        "O histograma fornece um caminho para avaliar a distribuição dos dados e permite verificar o comportamento de um processo em relação a sua especificação\n",
        "\n",
        "Leia mais sobre histogramas em [nosso blog](https://www.voitto.com.br/blog/artigo/o-que-e-um-histograma)"
      ]
    },
    {
      "cell_type": "markdown",
      "metadata": {
        "id": "6fU8h1DPH3lu",
        "colab_type": "text"
      },
      "source": [
        "![](https://lh4.googleusercontent.com/NzekatDWsWVZ2zaOppWJmNIoo0P_qr5SGht24ijutDYU6EZiNoOdIa2HenrAG-y0Sj853XTAciNWP9j3TisqmwufjVWCOid6_f3LQ3ONi_WqxM25eGRMxmBxcK9OEWX2Eg70rj0e)"
      ]
    },
    {
      "cell_type": "markdown",
      "metadata": {
        "id": "1Hc8R3KoFQD1",
        "colab_type": "text"
      },
      "source": [
        "Para entendermos como podemos usar essa ferramenta no Python vamos ter uma ajuda do Numpy. No módulo 5 mostramos como podemos criar um array aleatório com o  método *random()*. \\\\\n",
        "Com o random podemos criar arrays que seguem uma distribuição normal:"
      ]
    },
    {
      "cell_type": "code",
      "metadata": {
        "id": "k6IP63MeL_BV",
        "colab_type": "code",
        "colab": {}
      },
      "source": [
        "normal = np.random.normal(size= 100)"
      ],
      "execution_count": 88,
      "outputs": []
    },
    {
      "cell_type": "code",
      "metadata": {
        "id": "NxpbjMh7YiWA",
        "colab_type": "code",
        "colab": {}
      },
      "source": [
        "normal2 = np.random.normal(size=100)"
      ],
      "execution_count": 81,
      "outputs": []
    },
    {
      "cell_type": "markdown",
      "metadata": {
        "id": "-_f5DdgmIlrY",
        "colab_type": "text"
      },
      "source": [
        "Para plotar o histograma usamos o método *.hist()*"
      ]
    },
    {
      "cell_type": "code",
      "metadata": {
        "id": "0yJyEmlAIMQN",
        "colab_type": "code",
        "colab": {
          "base_uri": "https://localhost:8080/",
          "height": 404
        },
        "outputId": "19b4a40d-0bbe-4c5a-c585-8945c8eddaff"
      },
      "source": [
        "plt.figure(figsize=(10,6))\n",
        "plt.hist(normal,alpha=0.5, color='blue', label='Normal')\n",
        "plt.hist(normal2,alpha=0.5, color='red', label='Normal 2')\n",
        "plt.title('Histograma')\n",
        "plt.ylabel('Frequência')\n",
        "plt.xlabel('Números ')\n",
        "plt.legend(loc='best')\n",
        "plt.show()"
      ],
      "execution_count": 101,
      "outputs": [
        {
          "output_type": "display_data",
          "data": {
            "image/png": "[encoded data removed]",
            "text/plain": [
              "<Figure size 720x432 with 1 Axes>"
            ]
          },
          "metadata": {
            "tags": [],
            "needs_background": "light"
          }
        }
      ]
    },
    {
      "cell_type": "markdown",
      "metadata": {
        "id": "WUAY-QiwcgA3",
        "colab_type": "text"
      },
      "source": [
        "O método hist possui parâmetros interessantes para montarmos nosso gráfico. Aqui, vamos abordar apenas os que achamos interessantes, para saber mais acesse a [documentação oficial](https://matplotlib.org/api/_as_gen/matplotlib.pyplot.hist.html)"
      ]
    },
    {
      "cell_type": "code",
      "metadata": {
        "id": "5kPZxXXWcgc0",
        "colab_type": "code",
        "colab": {
          "base_uri": "https://localhost:8080/",
          "height": 404
        },
        "outputId": "38951e3e-6977-461e-d8d1-a1e51d721fc9"
      },
      "source": [
        "plt.figure(figsize=(10,6))\n",
        "plt.hist(normal,alpha=0.5, color='blue', label='Normal', density=True)\n",
        "plt.title('Histograma')\n",
        "plt.ylabel('Frequência')\n",
        "plt.xlabel('Números ')\n",
        "plt.show()"
      ],
      "execution_count": 109,
      "outputs": [
        {
          "output_type": "display_data",
          "data": {
            "image/png": "[encoded data removed]",
            "text/plain": [
              "<Figure size 720x432 with 1 Axes>"
            ]
          },
          "metadata": {
            "tags": [],
            "needs_background": "light"
          }
        }
      ]
    },
    {
      "cell_type": "markdown",
      "metadata": {
        "id": "gg6VD1NwL_k5",
        "colab_type": "text"
      },
      "source": [
        "### Lição 5: Gráfico de pizza"
      ]
    },
    {
      "cell_type": "code",
      "metadata": {
        "id": "7F55T8t4MEby",
        "colab_type": "code",
        "colab": {}
      },
      "source": [
        ""
      ],
      "execution_count": null,
      "outputs": []
    },
    {
      "cell_type": "markdown",
      "metadata": {
        "id": "v340D26jME7c",
        "colab_type": "text"
      },
      "source": [
        "### Lição 5: Gráfico de pilhas"
      ]
    },
    {
      "cell_type": "code",
      "metadata": {
        "id": "5Ri2N6B3MLqF",
        "colab_type": "code",
        "colab": {}
      },
      "source": [
        ""
      ],
      "execution_count": null,
      "outputs": []
    }
  ]
}